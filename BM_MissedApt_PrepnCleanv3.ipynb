{
 "cells": [
  {
   "cell_type": "markdown",
   "metadata": {},
   "source": [
    "\n",
    "# Business Questions: Part1\n",
    "\n",
    "    1. Focus on missed appointments\n",
    "\n",
    "-------\n",
    "\n",
    "# Logic: \n",
    "\n",
    "> Objective is to view two perspectives; Patients and Staff \n",
    "> - Important questions: \n",
    ">    1. How do missed appointments influences Staff workload? [Total appointments]\n",
    "\n",
    "-------\n",
    "\n",
    "# Assumptions:\n",
    "\n",
    "- 1 appointment equals use of staff & infrastructure/resources\n",
    "- Duplicates can exist 1 patient can have follow-up appointments\n",
    "- Unknown value in both categorical columns, appointment_status and hcp_type, are unreliable observations\n",
    "\n",
    "--------\n",
    "\n",
    "# Risk\n",
    "- 1 appointment equals 1 patients will assume there is more patients in current data set \n",
    "    - negative gives impression current patients number\n",
    "    - positive gives the correct capacity since staff & infrastructure is utilize everytime an appointment is made\n",
    "\n",
    "\n",
    "\n",
    "-------\n",
    "\n",
    "# Outline:\n",
    "    0. Setup\n",
    "    1. Getting to know your data\n",
    "    2. Cleaning data\n",
    "\n",
    "--------\n",
    "\n",
    "# Approach: \n",
    "\n",
    "- AR data set: Perform comparitive analysis by identify difference between Missed appointments and Attended appointments\n",
    "    - Requires understanding of AR since it contains appointment status:\n",
    "        1. Overview of big picture: Total appointments \n",
    "        2. Micro: Total appointments per appointment status type (i.e. Attended, Missed, Unknown)\n",
    "        3. Contextualize Micro within Macro: Percentage of each status type\n",
    "        4. Verify observation counts per status type: Can be misleading\n",
    "        5. Use Average to compare status appointment type if observations are uneven\n",
    "        6. Summarize finding using visualization\n",
    "\n",
    "\n",
    "        "
   ]
  },
  {
   "cell_type": "code",
   "execution_count": 1,
   "metadata": {},
   "outputs": [
    {
     "data": {
      "text/html": [
       "\n",
       "                <script type=\"application/javascript\" id=\"jupyter_black\">\n",
       "                (function() {\n",
       "                    if (window.IPython === undefined) {\n",
       "                        return\n",
       "                    }\n",
       "                    var msg = \"WARNING: it looks like you might have loaded \" +\n",
       "                        \"jupyter_black in a non-lab notebook with \" +\n",
       "                        \"`is_lab=True`. Please double check, and if \" +\n",
       "                        \"loading with `%load_ext` please review the README!\"\n",
       "                    console.log(msg)\n",
       "                    alert(msg)\n",
       "                })()\n",
       "                </script>\n",
       "                "
      ],
      "text/plain": [
       "<IPython.core.display.HTML object>"
      ]
     },
     "metadata": {},
     "output_type": "display_data"
    }
   ],
   "source": [
    "# Import jupyter\n",
    "import jupyter_black\n",
    "\n",
    "jupyter_black.load()"
   ]
  },
  {
   "cell_type": "markdown",
   "metadata": {},
   "source": [
    "## 0. Setup"
   ]
  },
  {
   "cell_type": "code",
   "execution_count": 2,
   "metadata": {},
   "outputs": [],
   "source": [
    "# Import modules/libraries needed\n",
    "import pandas as pd\n",
    "import numpy as np\n",
    "import seaborn as sns\n",
    "import matplotlib.pyplot as plt\n",
    "\n",
    "%matplotlib inline"
   ]
  },
  {
   "cell_type": "code",
   "execution_count": 3,
   "metadata": {},
   "outputs": [],
   "source": [
    "# Absolute path per data source\n",
    "ad_path = (\n",
    "    \"/Volumes/Macintosh HD - Data/tmp/LSE_DA201_Assignment_files/actual_duration.csv\"\n",
    ")\n",
    "ar_path = \"/Volumes/Macintosh HD - Data/tmp/LSE_DA201_Assignment_files/appointments_regional.csv\"\n",
    "nc_path = \"/Volumes/Macintosh HD - Data/tmp/LSE_DA201_Assignment_files/national_categories.xlsx\""
   ]
  },
  {
   "cell_type": "code",
   "execution_count": 4,
   "metadata": {},
   "outputs": [],
   "source": [
    "# Importation of data source csv files\n",
    "ad = pd.read_csv(ad_path)\n",
    "ar = pd.read_csv(ar_path)\n",
    "\n",
    "# Importation of data source xlsx file\n",
    "nc = pd.read_excel(nc_path)"
   ]
  },
  {
   "cell_type": "markdown",
   "metadata": {},
   "source": [
    "## 1. Getting to know your data\n",
    "- Scope & Summary:\n",
    "    - Using ar since it contains status appointment and interest for client\n",
    "    - Columns of interest; count_of_appointment only numeric, appointment_status, appointment_mode (characterists of possible distinction), time_between_book_and_appointment"
   ]
  },
  {
   "cell_type": "code",
   "execution_count": 5,
   "metadata": {},
   "outputs": [
    {
     "data": {
      "text/html": [
       "<div>\n",
       "<style scoped>\n",
       "    .dataframe tbody tr th:only-of-type {\n",
       "        vertical-align: middle;\n",
       "    }\n",
       "\n",
       "    .dataframe tbody tr th {\n",
       "        vertical-align: top;\n",
       "    }\n",
       "\n",
       "    .dataframe thead th {\n",
       "        text-align: right;\n",
       "    }\n",
       "</style>\n",
       "<table border=\"1\" class=\"dataframe\">\n",
       "  <thead>\n",
       "    <tr style=\"text-align: right;\">\n",
       "      <th></th>\n",
       "      <th>icb_ons_code</th>\n",
       "      <th>appointment_month</th>\n",
       "      <th>appointment_status</th>\n",
       "      <th>hcp_type</th>\n",
       "      <th>appointment_mode</th>\n",
       "      <th>time_between_book_and_appointment</th>\n",
       "      <th>count_of_appointments</th>\n",
       "    </tr>\n",
       "  </thead>\n",
       "  <tbody>\n",
       "    <tr>\n",
       "      <th>0</th>\n",
       "      <td>E54000034</td>\n",
       "      <td>2020-01</td>\n",
       "      <td>Attended</td>\n",
       "      <td>GP</td>\n",
       "      <td>Face-to-Face</td>\n",
       "      <td>1 Day</td>\n",
       "      <td>8107</td>\n",
       "    </tr>\n",
       "    <tr>\n",
       "      <th>1</th>\n",
       "      <td>E54000034</td>\n",
       "      <td>2020-01</td>\n",
       "      <td>Attended</td>\n",
       "      <td>GP</td>\n",
       "      <td>Face-to-Face</td>\n",
       "      <td>15  to 21 Days</td>\n",
       "      <td>6791</td>\n",
       "    </tr>\n",
       "    <tr>\n",
       "      <th>2</th>\n",
       "      <td>E54000034</td>\n",
       "      <td>2020-01</td>\n",
       "      <td>Attended</td>\n",
       "      <td>GP</td>\n",
       "      <td>Face-to-Face</td>\n",
       "      <td>2 to 7 Days</td>\n",
       "      <td>20686</td>\n",
       "    </tr>\n",
       "    <tr>\n",
       "      <th>3</th>\n",
       "      <td>E54000034</td>\n",
       "      <td>2020-01</td>\n",
       "      <td>Attended</td>\n",
       "      <td>GP</td>\n",
       "      <td>Face-to-Face</td>\n",
       "      <td>22  to 28 Days</td>\n",
       "      <td>4268</td>\n",
       "    </tr>\n",
       "    <tr>\n",
       "      <th>4</th>\n",
       "      <td>E54000034</td>\n",
       "      <td>2020-01</td>\n",
       "      <td>Attended</td>\n",
       "      <td>GP</td>\n",
       "      <td>Face-to-Face</td>\n",
       "      <td>8  to 14 Days</td>\n",
       "      <td>11971</td>\n",
       "    </tr>\n",
       "  </tbody>\n",
       "</table>\n",
       "</div>"
      ],
      "text/plain": [
       "  icb_ons_code appointment_month appointment_status hcp_type appointment_mode  \\\n",
       "0    E54000034           2020-01           Attended       GP     Face-to-Face   \n",
       "1    E54000034           2020-01           Attended       GP     Face-to-Face   \n",
       "2    E54000034           2020-01           Attended       GP     Face-to-Face   \n",
       "3    E54000034           2020-01           Attended       GP     Face-to-Face   \n",
       "4    E54000034           2020-01           Attended       GP     Face-to-Face   \n",
       "\n",
       "  time_between_book_and_appointment  count_of_appointments  \n",
       "0                             1 Day                   8107  \n",
       "1                    15  to 21 Days                   6791  \n",
       "2                       2 to 7 Days                  20686  \n",
       "3                    22  to 28 Days                   4268  \n",
       "4                     8  to 14 Days                  11971  "
      ]
     },
     "metadata": {},
     "output_type": "display_data"
    },
    {
     "data": {
      "text/html": [
       "<div>\n",
       "<style scoped>\n",
       "    .dataframe tbody tr th:only-of-type {\n",
       "        vertical-align: middle;\n",
       "    }\n",
       "\n",
       "    .dataframe tbody tr th {\n",
       "        vertical-align: top;\n",
       "    }\n",
       "\n",
       "    .dataframe thead th {\n",
       "        text-align: right;\n",
       "    }\n",
       "</style>\n",
       "<table border=\"1\" class=\"dataframe\">\n",
       "  <thead>\n",
       "    <tr style=\"text-align: right;\">\n",
       "      <th></th>\n",
       "      <th>icb_ons_code</th>\n",
       "      <th>appointment_month</th>\n",
       "      <th>appointment_status</th>\n",
       "      <th>hcp_type</th>\n",
       "      <th>appointment_mode</th>\n",
       "      <th>time_between_book_and_appointment</th>\n",
       "      <th>count_of_appointments</th>\n",
       "    </tr>\n",
       "  </thead>\n",
       "  <tbody>\n",
       "    <tr>\n",
       "      <th>596816</th>\n",
       "      <td>E54000050</td>\n",
       "      <td>2022-06</td>\n",
       "      <td>Unknown</td>\n",
       "      <td>Unknown</td>\n",
       "      <td>Unknown</td>\n",
       "      <td>2 to 7 Days</td>\n",
       "      <td>21</td>\n",
       "    </tr>\n",
       "    <tr>\n",
       "      <th>596817</th>\n",
       "      <td>E54000050</td>\n",
       "      <td>2022-06</td>\n",
       "      <td>Unknown</td>\n",
       "      <td>Unknown</td>\n",
       "      <td>Unknown</td>\n",
       "      <td>22  to 28 Days</td>\n",
       "      <td>8</td>\n",
       "    </tr>\n",
       "    <tr>\n",
       "      <th>596818</th>\n",
       "      <td>E54000050</td>\n",
       "      <td>2022-06</td>\n",
       "      <td>Unknown</td>\n",
       "      <td>Unknown</td>\n",
       "      <td>Unknown</td>\n",
       "      <td>8  to 14 Days</td>\n",
       "      <td>28</td>\n",
       "    </tr>\n",
       "    <tr>\n",
       "      <th>596819</th>\n",
       "      <td>E54000050</td>\n",
       "      <td>2022-06</td>\n",
       "      <td>Unknown</td>\n",
       "      <td>Unknown</td>\n",
       "      <td>Unknown</td>\n",
       "      <td>More than 28 Days</td>\n",
       "      <td>17</td>\n",
       "    </tr>\n",
       "    <tr>\n",
       "      <th>596820</th>\n",
       "      <td>E54000050</td>\n",
       "      <td>2022-06</td>\n",
       "      <td>Unknown</td>\n",
       "      <td>Unknown</td>\n",
       "      <td>Unknown</td>\n",
       "      <td>Same Day</td>\n",
       "      <td>10</td>\n",
       "    </tr>\n",
       "  </tbody>\n",
       "</table>\n",
       "</div>"
      ],
      "text/plain": [
       "       icb_ons_code appointment_month appointment_status hcp_type  \\\n",
       "596816    E54000050           2022-06            Unknown  Unknown   \n",
       "596817    E54000050           2022-06            Unknown  Unknown   \n",
       "596818    E54000050           2022-06            Unknown  Unknown   \n",
       "596819    E54000050           2022-06            Unknown  Unknown   \n",
       "596820    E54000050           2022-06            Unknown  Unknown   \n",
       "\n",
       "       appointment_mode time_between_book_and_appointment  \\\n",
       "596816          Unknown                       2 to 7 Days   \n",
       "596817          Unknown                    22  to 28 Days   \n",
       "596818          Unknown                     8  to 14 Days   \n",
       "596819          Unknown                 More than 28 Days   \n",
       "596820          Unknown                          Same Day   \n",
       "\n",
       "        count_of_appointments  \n",
       "596816                     21  \n",
       "596817                      8  \n",
       "596818                     28  \n",
       "596819                     17  \n",
       "596820                     10  "
      ]
     },
     "metadata": {},
     "output_type": "display_data"
    }
   ],
   "source": [
    "# Back up\n",
    "ar_profile = ar\n",
    "\n",
    "# Verify head()\n",
    "display(ar_profile.head())\n",
    "\n",
    "# Verify no footnote of raw data or metadata\n",
    "display(ar_profile.tail())"
   ]
  },
  {
   "cell_type": "code",
   "execution_count": 6,
   "metadata": {},
   "outputs": [
    {
     "data": {
      "text/html": [
       "<div>\n",
       "<style scoped>\n",
       "    .dataframe tbody tr th:only-of-type {\n",
       "        vertical-align: middle;\n",
       "    }\n",
       "\n",
       "    .dataframe tbody tr th {\n",
       "        vertical-align: top;\n",
       "    }\n",
       "\n",
       "    .dataframe thead th {\n",
       "        text-align: right;\n",
       "    }\n",
       "</style>\n",
       "<table border=\"1\" class=\"dataframe\">\n",
       "  <thead>\n",
       "    <tr style=\"text-align: right;\">\n",
       "      <th></th>\n",
       "      <th>count_of_appointments</th>\n",
       "    </tr>\n",
       "  </thead>\n",
       "  <tbody>\n",
       "    <tr>\n",
       "      <th>count</th>\n",
       "      <td>596821.000000</td>\n",
       "    </tr>\n",
       "    <tr>\n",
       "      <th>mean</th>\n",
       "      <td>1244.601857</td>\n",
       "    </tr>\n",
       "    <tr>\n",
       "      <th>std</th>\n",
       "      <td>5856.887042</td>\n",
       "    </tr>\n",
       "    <tr>\n",
       "      <th>min</th>\n",
       "      <td>1.000000</td>\n",
       "    </tr>\n",
       "    <tr>\n",
       "      <th>25%</th>\n",
       "      <td>7.000000</td>\n",
       "    </tr>\n",
       "    <tr>\n",
       "      <th>50%</th>\n",
       "      <td>47.000000</td>\n",
       "    </tr>\n",
       "    <tr>\n",
       "      <th>75%</th>\n",
       "      <td>308.000000</td>\n",
       "    </tr>\n",
       "    <tr>\n",
       "      <th>max</th>\n",
       "      <td>211265.000000</td>\n",
       "    </tr>\n",
       "  </tbody>\n",
       "</table>\n",
       "</div>"
      ],
      "text/plain": [
       "       count_of_appointments\n",
       "count          596821.000000\n",
       "mean             1244.601857\n",
       "std              5856.887042\n",
       "min                 1.000000\n",
       "25%                 7.000000\n",
       "50%                47.000000\n",
       "75%               308.000000\n",
       "max            211265.000000"
      ]
     },
     "metadata": {},
     "output_type": "display_data"
    },
    {
     "data": {
      "text/html": [
       "<div>\n",
       "<style scoped>\n",
       "    .dataframe tbody tr th:only-of-type {\n",
       "        vertical-align: middle;\n",
       "    }\n",
       "\n",
       "    .dataframe tbody tr th {\n",
       "        vertical-align: top;\n",
       "    }\n",
       "\n",
       "    .dataframe thead th {\n",
       "        text-align: right;\n",
       "    }\n",
       "</style>\n",
       "<table border=\"1\" class=\"dataframe\">\n",
       "  <thead>\n",
       "    <tr style=\"text-align: right;\">\n",
       "      <th></th>\n",
       "      <th>icb_ons_code</th>\n",
       "      <th>appointment_month</th>\n",
       "      <th>appointment_status</th>\n",
       "      <th>hcp_type</th>\n",
       "      <th>appointment_mode</th>\n",
       "      <th>time_between_book_and_appointment</th>\n",
       "      <th>count_of_appointments</th>\n",
       "    </tr>\n",
       "  </thead>\n",
       "  <tbody>\n",
       "    <tr>\n",
       "      <th>count</th>\n",
       "      <td>596821</td>\n",
       "      <td>596821</td>\n",
       "      <td>596821</td>\n",
       "      <td>596821</td>\n",
       "      <td>596821</td>\n",
       "      <td>596821</td>\n",
       "      <td>596821</td>\n",
       "    </tr>\n",
       "    <tr>\n",
       "      <th>unique</th>\n",
       "      <td>42</td>\n",
       "      <td>30</td>\n",
       "      <td>3</td>\n",
       "      <td>3</td>\n",
       "      <td>5</td>\n",
       "      <td>8</td>\n",
       "      <td>22807</td>\n",
       "    </tr>\n",
       "    <tr>\n",
       "      <th>top</th>\n",
       "      <td>E54000057</td>\n",
       "      <td>2020-03</td>\n",
       "      <td>Attended</td>\n",
       "      <td>Other Practice staff</td>\n",
       "      <td>Face-to-Face</td>\n",
       "      <td>Same Day</td>\n",
       "      <td>1</td>\n",
       "    </tr>\n",
       "    <tr>\n",
       "      <th>freq</th>\n",
       "      <td>54527</td>\n",
       "      <td>21350</td>\n",
       "      <td>232137</td>\n",
       "      <td>241557</td>\n",
       "      <td>180410</td>\n",
       "      <td>95502</td>\n",
       "      <td>55013</td>\n",
       "    </tr>\n",
       "  </tbody>\n",
       "</table>\n",
       "</div>"
      ],
      "text/plain": [
       "       icb_ons_code appointment_month appointment_status  \\\n",
       "count        596821            596821             596821   \n",
       "unique           42                30                  3   \n",
       "top       E54000057           2020-03           Attended   \n",
       "freq          54527             21350             232137   \n",
       "\n",
       "                    hcp_type appointment_mode  \\\n",
       "count                 596821           596821   \n",
       "unique                     3                5   \n",
       "top     Other Practice staff     Face-to-Face   \n",
       "freq                  241557           180410   \n",
       "\n",
       "       time_between_book_and_appointment  count_of_appointments  \n",
       "count                             596821                 596821  \n",
       "unique                                 8                  22807  \n",
       "top                             Same Day                      1  \n",
       "freq                               95502                  55013  "
      ]
     },
     "metadata": {},
     "output_type": "display_data"
    },
    {
     "name": "stdout",
     "output_type": "stream",
     "text": [
      "<class 'pandas.core.frame.DataFrame'>\n",
      "RangeIndex: 596821 entries, 0 to 596820\n",
      "Data columns (total 7 columns):\n",
      " #   Column                             Non-Null Count   Dtype \n",
      "---  ------                             --------------   ----- \n",
      " 0   icb_ons_code                       596821 non-null  object\n",
      " 1   appointment_month                  596821 non-null  object\n",
      " 2   appointment_status                 596821 non-null  object\n",
      " 3   hcp_type                           596821 non-null  object\n",
      " 4   appointment_mode                   596821 non-null  object\n",
      " 5   time_between_book_and_appointment  596821 non-null  object\n",
      " 6   count_of_appointments              596821 non-null  int64 \n",
      "dtypes: int64(1), object(6)\n",
      "memory usage: 31.9+ MB\n"
     ]
    },
    {
     "data": {
      "text/plain": [
       "None"
      ]
     },
     "metadata": {},
     "output_type": "display_data"
    }
   ],
   "source": [
    "# Overview for numeric attributes\n",
    "display(ar_profile.describe())\n",
    "\n",
    "# Overview for categorical attributes\n",
    "display(ar_profile.astype(\"category\").describe())\n",
    "\n",
    "# Overview of dtypes and missing values\n",
    "display(ar_profile.info())"
   ]
  },
  {
   "cell_type": "markdown",
   "metadata": {},
   "source": [
    "Comment:\n",
    "- Majority of dtype are object which is default when python is unsure: need for data transformation via conversion of dtype\n",
    "- count_of_appointments seems only numeric column available in AR data set: perfect candidate for outliers detection and possible consistency improvement\n",
    "- Based on info() there seems to be no missing values, metadata indicates that values entitled 'Unknown' are missing values these are found in:\n",
    "    - appointment_status (candidate for missing value)\n",
    "    - hcp_type (candidate for missing value)\n",
    "\n",
    "Insights:\n",
    "- Mode per column: meaning most probable observation combination\n",
    "1. E54000057\n",
    "2. 2020-03\n",
    "3. Attended\n",
    "4. Other Practice staff\n",
    "5. Face-to-Face\n",
    "6. Same Day\n",
    "7. 1\n"
   ]
  },
  {
   "cell_type": "markdown",
   "metadata": {},
   "source": [
    "## 2. Cleaning data:\n",
    "Purpose: to improve data quality\n",
    "\n",
    "> Preparing deals with convenient formatting for analysis\n",
    ">   - Transform data is another term for it \n",
    "\n",
    "> Cleaning deals with finding and fixing errors\n",
    ">   - Outliers\n",
    ">   - Duplicates\n",
    ">   - Missing values\n"
   ]
  },
  {
   "cell_type": "markdown",
   "metadata": {},
   "source": [
    "### 2.1 Transform data: conversion dtype\n",
    "- demonstrate non-destructive cleaning \n",
    "    - avoids loss of original data\n",
    "    - allows for experimentation\n",
    "    - methods and functions available in python have limitations or constriction based dtype\n",
    "> Transformation of data for analytical purposes to facilitate analysis based on approach or objective:\n",
    "> 1. convertion of data types \n",
    "> 2. subsetting\n",
    "> 3. pivot table\n",
    "> 4. join, merge, concat\n"
   ]
  },
  {
   "cell_type": "code",
   "execution_count": 7,
   "metadata": {},
   "outputs": [
    {
     "name": "stdout",
     "output_type": "stream",
     "text": [
      "<class 'pandas.core.series.Series'>\n",
      "RangeIndex: 596821 entries, 0 to 596820\n",
      "Series name: appointment_month_dt\n",
      "Non-Null Count   Dtype         \n",
      "--------------   -----         \n",
      "596821 non-null  datetime64[ns]\n",
      "dtypes: datetime64[ns](1)\n",
      "memory usage: 4.6 MB\n"
     ]
    },
    {
     "data": {
      "text/plain": [
       "None"
      ]
     },
     "metadata": {},
     "output_type": "display_data"
    },
    {
     "data": {
      "text/plain": [
       "0   2020-01-01\n",
       "1   2020-01-01\n",
       "2   2020-01-01\n",
       "3   2020-01-01\n",
       "4   2020-01-01\n",
       "Name: appointment_month_dt, dtype: datetime64[ns]"
      ]
     },
     "metadata": {},
     "output_type": "display_data"
    }
   ],
   "source": [
    "# Convert dtype - datetime\n",
    "\n",
    "# Datatime\n",
    "ar_profile[\"appointment_month_dt\"] = pd.to_datetime(\n",
    "    ar_profile[\"appointment_month\"], format=\"%Y-%m\"\n",
    ")\n",
    "\n",
    "# Verify conversion done\n",
    "display(ar_profile[\"appointment_month_dt\"].info())\n",
    "display(ar_profile[\"appointment_month_dt\"].head())"
   ]
  },
  {
   "cell_type": "markdown",
   "metadata": {},
   "source": [
    "Comment:\n",
    "- Useful for time series analysis; seasonal, trend, moving average\n",
    "\n",
    "Insights:\n",
    "- appointment_month: datetime\n",
    "- four categorical or string: appointment_status, hcp_type, appointment_mode, time_between_book_and_appointment\n",
    "- one numeric:count_of_appointments [already in proper format]"
   ]
  },
  {
   "cell_type": "code",
   "execution_count": 8,
   "metadata": {},
   "outputs": [
    {
     "name": "stdout",
     "output_type": "stream",
     "text": [
      "<class 'pandas.core.frame.DataFrame'>\n",
      "RangeIndex: 596821 entries, 0 to 596820\n",
      "Data columns (total 12 columns):\n",
      " #   Column                                Non-Null Count   Dtype         \n",
      "---  ------                                --------------   -----         \n",
      " 0   icb_ons_code                          596821 non-null  object        \n",
      " 1   appointment_month                     596821 non-null  object        \n",
      " 2   appointment_status                    596821 non-null  object        \n",
      " 3   hcp_type                              596821 non-null  object        \n",
      " 4   appointment_mode                      596821 non-null  object        \n",
      " 5   time_between_book_and_appointment     596821 non-null  object        \n",
      " 6   count_of_appointments                 596821 non-null  int64         \n",
      " 7   appointment_month_dt                  596821 non-null  datetime64[ns]\n",
      " 8   appointment_status_ct                 596821 non-null  category      \n",
      " 9   hcp_type_ct                           596821 non-null  category      \n",
      " 10  appointment_mode_ct                   596821 non-null  category      \n",
      " 11  time_between_book_and_appointment_ct  596821 non-null  category      \n",
      "dtypes: category(4), datetime64[ns](1), int64(1), object(6)\n",
      "memory usage: 38.7+ MB\n"
     ]
    }
   ],
   "source": [
    "# Convert categorical attributes\n",
    "# Non destructive cleaning - appointment_status\n",
    "ar_profile[\"appointment_status_ct\"] = ar_profile[\"appointment_status\"].astype(\n",
    "    \"category\"\n",
    ")\n",
    "\n",
    "# Non destructive cleaning - hcp_type\n",
    "ar_profile[\"hcp_type_ct\"] = ar_profile[\"hcp_type\"].astype(\"category\")\n",
    "\n",
    "# Non destructive cleaning - appointment_mode\n",
    "ar_profile[\"appointment_mode_ct\"] = ar_profile[\"appointment_mode\"].astype(\"category\")\n",
    "\n",
    "# Non destructive cleaning - appointment_mode\n",
    "ar_profile[\"time_between_book_and_appointment_ct\"] = ar_profile[\n",
    "    \"time_between_book_and_appointment\"\n",
    "].astype(\"category\")\n",
    "\n",
    "# View\n",
    "ar_profile.info()"
   ]
  },
  {
   "cell_type": "markdown",
   "metadata": {},
   "source": [
    "Comment:\n",
    "- Non-destructive cleaning technique allows for flexibility based on need by adding columns instead of replacing values, the original data remains intact (risk averse strategy avoids loss of data)\n",
    "\n",
    "Risk:\n",
    "- Non-destructive cleaning is time consuming and increase memory, not possible for big data sets\n",
    "\n"
   ]
  },
  {
   "cell_type": "markdown",
   "metadata": {},
   "source": [
    "### 2.2 Outliers: improve consistency \n",
    "> Methods/approaches:\n",
    ">   1. IQR technique\n",
    ">   2. Z-score technique\n",
    ">   3. Tukey's fence technique\n",
    ">> ML methods:\n",
    ">>  1. Isolation forest\n",
    ">>  2. Local outler\n",
    "\n",
    "------\n",
    "\n",
    "**Steps**:\n",
    "1. Boxplot - use for numeric columns \n",
    "2. Histgram - skewness and distribution \n",
    "    - Normal distribution use mean if imputation technique is used\n",
    "    - Skewed distribution use median if imputation technique is used\n",
    "3. Select appropriate approach based on analytical questions\n",
    "    - Possible to do also an comparative analysis"
   ]
  },
  {
   "cell_type": "markdown",
   "metadata": {},
   "source": [
    "#### 2.2.1 Overview of outliers"
   ]
  },
  {
   "cell_type": "code",
   "execution_count": 9,
   "metadata": {},
   "outputs": [
    {
     "data": {
      "text/plain": [
       "<Axes: ylabel='count_of_appointments'>"
      ]
     },
     "execution_count": 9,
     "metadata": {},
     "output_type": "execute_result"
    },
    {
     "data": {
      "image/png": "[encoded data removed]",
      "text/plain": [
       "<Figure size 640x480 with 1 Axes>"
      ]
     },
     "metadata": {},
     "output_type": "display_data"
    }
   ],
   "source": [
    "# Subset ar data set and create variable\n",
    "ar_outliers = ar_profile.copy()\n",
    "\n",
    "# Plot boxplot\n",
    "sns.boxplot(data=ar_outliers[\"count_of_appointments\"])"
   ]
  },
  {
   "cell_type": "code",
   "execution_count": 10,
   "metadata": {},
   "outputs": [
    {
     "data": {
      "text/plain": [
       "'Skewness of ar containing outliers: 11.52'"
      ]
     },
     "metadata": {},
     "output_type": "display_data"
    },
    {
     "data": {
      "image/png": "[encoded data removed]",
      "text/plain": [
       "<Figure size 640x480 with 1 Axes>"
      ]
     },
     "metadata": {},
     "output_type": "display_data"
    }
   ],
   "source": [
    "# Find out distribution if it skewed or not; indicates which imputation statistic will be used mean (not skewed) or median (skewed)\n",
    "# Plot histogram - distribution\n",
    "ar_outliers[\"count_of_appointments\"].plot(kind=\"hist\", bins=50)\n",
    "\n",
    "# Skewness\n",
    "ar_skewness = ar_outliers[\"count_of_appointments\"].skew()\n",
    "display(f\"Skewness of ar containing outliers: {ar_skewness:.2f}\")"
   ]
  },
  {
   "cell_type": "markdown",
   "metadata": {},
   "source": [
    "Insight:\n",
    "- Distribution skewed to the right\n",
    "- Skewness value = 11.52\n",
    "- If using impute method to deal with outlier better choice would be median since it not normally distributed"
   ]
  },
  {
   "cell_type": "markdown",
   "metadata": {},
   "source": [
    "#### 2.2.2 Z-score technique"
   ]
  },
  {
   "cell_type": "code",
   "execution_count": 11,
   "metadata": {},
   "outputs": [
    {
     "data": {
      "text/plain": [
       "'The number of observation that are z_score outliers: 8,670'"
      ]
     },
     "metadata": {},
     "output_type": "display_data"
    },
    {
     "data": {
      "text/plain": [
       "'The number of observations without outliers: 588,151'"
      ]
     },
     "metadata": {},
     "output_type": "display_data"
    },
    {
     "data": {
      "text/plain": [
       "'The number of observations with outliers: 596,821'"
      ]
     },
     "metadata": {},
     "output_type": "display_data"
    },
    {
     "data": {
      "text/plain": [
       "'Percentage of outliers using z-score: 1.45%'"
      ]
     },
     "metadata": {},
     "output_type": "display_data"
    }
   ],
   "source": [
    "# Z-score method of identify outliers\n",
    "ar_outliers[\"z_score\"] = (\n",
    "    np.abs(\n",
    "        ar_outliers[\"count_of_appointments\"]\n",
    "        - ar_outliers[\"count_of_appointments\"].mean()\n",
    "    )\n",
    "    / ar_outliers[\"count_of_appointments\"].std()\n",
    ")\n",
    "\n",
    "# Subset of outliers only\n",
    "outlier_z_score = ar_outliers[ar_outliers[\"z_score\"] > 3]\n",
    "\n",
    "# Summary and verification\n",
    "display(\n",
    "    f\"The number of observation that are z_score outliers: {outlier_z_score.shape[0]:,}\",\n",
    "    f\"The number of observations without outliers: {ar_profile.shape[0] - outlier_z_score.shape[0]:,}\",\n",
    "    f\"The number of observations with outliers: {ar_profile.shape[0]:,}\",\n",
    "    f\"Percentage of outliers using z-score: {(outlier_z_score.shape[0]/ar_profile.shape[0]):.2%}\",\n",
    ")"
   ]
  },
  {
   "cell_type": "code",
   "execution_count": 12,
   "metadata": {},
   "outputs": [
    {
     "data": {
      "text/plain": [
       "<Axes: ylabel='count_of_appointments'>"
      ]
     },
     "execution_count": 12,
     "metadata": {},
     "output_type": "execute_result"
    },
    {
     "data": {
      "image/png": "[encoded data removed]",
      "text/plain": [
       "<Figure size 640x480 with 1 Axes>"
      ]
     },
     "metadata": {},
     "output_type": "display_data"
    }
   ],
   "source": [
    "# Subset of without outliers\n",
    "ar_without_outlier_z = ar_outliers[ar_outliers[\"z_score\"] <= 3]\n",
    "\n",
    "# Check\n",
    "ar_without_outlier_z.shape[0]\n",
    "\n",
    "# Plot boxplot: z-score\n",
    "sns.boxplot(data=ar_without_outlier_z[\"count_of_appointments\"])"
   ]
  },
  {
   "cell_type": "code",
   "execution_count": 13,
   "metadata": {},
   "outputs": [
    {
     "data": {
      "text/plain": [
       "<Axes: ylabel='Frequency'>"
      ]
     },
     "execution_count": 13,
     "metadata": {},
     "output_type": "execute_result"
    },
    {
     "data": {
      "image/png": "[encoded data removed]",
      "text/plain": [
       "<Figure size 640x480 with 1 Axes>"
      ]
     },
     "metadata": {},
     "output_type": "display_data"
    }
   ],
   "source": [
    "# Plot histgram: z-score\n",
    "ar_without_outlier_z[\"count_of_appointments\"].plot(kind=\"hist\")"
   ]
  },
  {
   "cell_type": "markdown",
   "metadata": {},
   "source": [
    "#### 2.2.3 IQR technique"
   ]
  },
  {
   "cell_type": "code",
   "execution_count": 14,
   "metadata": {},
   "outputs": [
    {
     "data": {
      "text/plain": [
       "499473"
      ]
     },
     "metadata": {},
     "output_type": "display_data"
    },
    {
     "name": "stdout",
     "output_type": "stream",
     "text": [
      "Original ar_outliers: 596,821\n",
      "\n",
      "Number of observation that are outliers using iqr: 97,348\n",
      "\n",
      "Number of observation that without outliers using iqr: 499,473\n",
      "\n",
      "Outlier percentage using IQR: 16.31%\n"
     ]
    }
   ],
   "source": [
    "# IQR technique\n",
    "# Calculate Q1, Q3, and IQR\n",
    "Q1 = ar_outliers[\"count_of_appointments\"].quantile(0.25)\n",
    "Q3 = ar_outliers[\"count_of_appointments\"].quantile(0.75)\n",
    "IQR = Q3 - Q1\n",
    "\n",
    "# Define bounds for outliers\n",
    "lower_bound = Q1 - 1.5 * IQR\n",
    "upper_bound = Q3 + 1.5 * IQR\n",
    "\n",
    "# Create a boolean mask for outliers\n",
    "outlier_mask = (ar_outliers[\"count_of_appointments\"] < lower_bound) | (\n",
    "    ar_outliers[\"count_of_appointments\"] > upper_bound\n",
    ")\n",
    "\n",
    "# Apply the mask to filter outliers\n",
    "outliers_iqr = ar_outliers[outlier_mask]\n",
    "\n",
    "# Subset without outlier using iqr method\n",
    "ar_without_outlier_iqr = ar_outliers[~outlier_mask]\n",
    "\n",
    "# Summary & Overview\n",
    "display(ar_without_outlier_iqr.shape[0])\n",
    "\n",
    "print(f\"Original ar_outliers: {ar_outliers.shape[0]:,}\")\n",
    "print(f\"\\nNumber of observation that are outliers using iqr: {outliers_iqr.shape[0]:,}\")\n",
    "print(\n",
    "    f\"\\nNumber of observation that without outliers using iqr: {ar_without_outlier_iqr.shape[0]:,}\"\n",
    ")\n",
    "print(\n",
    "    f\"\\nOutlier percentage using IQR: {(outliers_iqr.shape[0]/ar_outliers.shape[0]):.2%}\"\n",
    ")"
   ]
  },
  {
   "cell_type": "code",
   "execution_count": 15,
   "metadata": {},
   "outputs": [
    {
     "data": {
      "text/plain": [
       "<Axes: ylabel='count_of_appointments'>"
      ]
     },
     "execution_count": 15,
     "metadata": {},
     "output_type": "execute_result"
    },
    {
     "data": {
      "image/png": "[encoded data removed]",
      "text/plain": [
       "<Figure size 640x480 with 1 Axes>"
      ]
     },
     "metadata": {},
     "output_type": "display_data"
    }
   ],
   "source": [
    "# Plot boxplot\n",
    "sns.boxplot(data=ar_without_outlier_iqr[\"count_of_appointments\"])"
   ]
  },
  {
   "cell_type": "code",
   "execution_count": 16,
   "metadata": {},
   "outputs": [
    {
     "data": {
      "text/plain": [
       "<Axes: ylabel='Frequency'>"
      ]
     },
     "execution_count": 16,
     "metadata": {},
     "output_type": "execute_result"
    },
    {
     "data": {
      "image/png": "[encoded data removed]",
      "text/plain": [
       "<Figure size 640x480 with 1 Axes>"
      ]
     },
     "metadata": {},
     "output_type": "display_data"
    }
   ],
   "source": [
    "# Histogram\n",
    "ar_without_outlier_iqr[\"count_of_appointments\"].plot(kind=\"hist\")"
   ]
  },
  {
   "cell_type": "markdown",
   "metadata": {},
   "source": [
    "#### 2.2.4 Compare outlier techniques: IQR vs Z-score"
   ]
  },
  {
   "cell_type": "code",
   "execution_count": 17,
   "metadata": {},
   "outputs": [
    {
     "data": {
      "text/plain": [
       "count    588151.000000\n",
       "mean        681.655973\n",
       "std        2080.072633\n",
       "min           1.000000\n",
       "25%           6.000000\n",
       "50%          44.000000\n",
       "75%         279.000000\n",
       "max       18813.000000\n",
       "Name: count_of_appointments, dtype: float64"
      ]
     },
     "metadata": {},
     "output_type": "display_data"
    },
    {
     "data": {
      "text/plain": [
       "count    499473.000000\n",
       "mean         97.705724\n",
       "std         154.644489\n",
       "min           1.000000\n",
       "25%           5.000000\n",
       "50%          26.000000\n",
       "75%         117.000000\n",
       "max         759.000000\n",
       "Name: count_of_appointments, dtype: float64"
      ]
     },
     "metadata": {},
     "output_type": "display_data"
    }
   ],
   "source": [
    "# Compare outlier techniques iqr vs z-score\n",
    "display(ar_without_outlier_z[\"count_of_appointments\"].describe())\n",
    "display(ar_without_outlier_iqr[\"count_of_appointments\"].describe())"
   ]
  },
  {
   "cell_type": "markdown",
   "metadata": {},
   "source": [
    "Insights:\n",
    "- IQR technique provides more standardized output by eliminating 16.31% observation\n",
    "- Z-score is further from normal distribution because it eliminates 1.41% observation \n",
    "\n",
    "Comment:\n",
    "- to select which is best suited we should look at the missed appointments\n"
   ]
  },
  {
   "cell_type": "code",
   "execution_count": 22,
   "metadata": {},
   "outputs": [
    {
     "data": {
      "text/plain": [
       "appointment_status\n",
       "Unknown     190602\n",
       "Attended    156074\n",
       "DNA         152797\n",
       "Name: count, dtype: int64"
      ]
     },
     "metadata": {},
     "output_type": "display_data"
    },
    {
     "data": {
      "text/plain": [
       "appointment_status\n",
       "Attended    223467\n",
       "Unknown     201324\n",
       "DNA         163360\n",
       "Name: count, dtype: int64"
      ]
     },
     "metadata": {},
     "output_type": "display_data"
    },
    {
     "data": {
      "text/plain": [
       "appointment_status\n",
       "Attended    232137\n",
       "Unknown     201324\n",
       "DNA         163360\n",
       "Name: count, dtype: int64"
      ]
     },
     "metadata": {},
     "output_type": "display_data"
    }
   ],
   "source": [
    "# Comparing outliers techniques - how it effects objective of analytical questions\n",
    "# View iqr subset without outliers\n",
    "display(ar_without_outlier_iqr[\"appointment_status\"].value_counts())\n",
    "\n",
    "# View z-score subset without outliers\n",
    "display(ar_without_outlier_z[\"appointment_status\"].value_counts())\n",
    "\n",
    "# View original data set ar with outliers\n",
    "display(ar_profile[\"appointment_status\"].value_counts())"
   ]
  },
  {
   "cell_type": "markdown",
   "metadata": {},
   "source": [
    "Insight:\n",
    "- iqr format provides a more equal representation of type, which would be great if it was not for unknown which is a null\n",
    "- z-score eliminates only the most extreme value but it only effected attended values, the remainder type remain unchanged\n",
    "\n",
    "Comment:\n",
    "- 2 issues with outlier solution: \n",
    "    1. skewness both remained right skewed distribution\n",
    "    2. amount lost of observations\n",
    "- Main concerns is selection is based on objective and objective is missed appointments \n",
    "    - comparative analysis to find the most suitable in this case\n"
   ]
  },
  {
   "cell_type": "markdown",
   "metadata": {},
   "source": [
    "### 2.3 Duplicates "
   ]
  },
  {
   "cell_type": "code",
   "execution_count": 23,
   "metadata": {},
   "outputs": [
    {
     "data": {
      "text/plain": [
       "False    575217\n",
       "True      21604\n",
       "Name: count, dtype: int64"
      ]
     },
     "metadata": {},
     "output_type": "display_data"
    },
    {
     "data": {
      "text/plain": [
       "False    0.963802\n",
       "True     0.036198\n",
       "Name: proportion, dtype: float64"
      ]
     },
     "metadata": {},
     "output_type": "display_data"
    },
    {
     "data": {
      "text/plain": [
       "21604"
      ]
     },
     "metadata": {},
     "output_type": "display_data"
    },
    {
     "data": {
      "text/html": [
       "<div>\n",
       "<style scoped>\n",
       "    .dataframe tbody tr th:only-of-type {\n",
       "        vertical-align: middle;\n",
       "    }\n",
       "\n",
       "    .dataframe tbody tr th {\n",
       "        vertical-align: top;\n",
       "    }\n",
       "\n",
       "    .dataframe thead th {\n",
       "        text-align: right;\n",
       "    }\n",
       "</style>\n",
       "<table border=\"1\" class=\"dataframe\">\n",
       "  <thead>\n",
       "    <tr style=\"text-align: right;\">\n",
       "      <th></th>\n",
       "      <th>count_of_appointments</th>\n",
       "      <th>appointment_month_dt</th>\n",
       "    </tr>\n",
       "  </thead>\n",
       "  <tbody>\n",
       "    <tr>\n",
       "      <th>count</th>\n",
       "      <td>21604.000000</td>\n",
       "      <td>21604</td>\n",
       "    </tr>\n",
       "    <tr>\n",
       "      <th>mean</th>\n",
       "      <td>12.718293</td>\n",
       "      <td>2021-03-16 11:19:40.448065280</td>\n",
       "    </tr>\n",
       "    <tr>\n",
       "      <th>min</th>\n",
       "      <td>1.000000</td>\n",
       "      <td>2020-01-01 00:00:00</td>\n",
       "    </tr>\n",
       "    <tr>\n",
       "      <th>25%</th>\n",
       "      <td>1.000000</td>\n",
       "      <td>2020-08-01 00:00:00</td>\n",
       "    </tr>\n",
       "    <tr>\n",
       "      <th>50%</th>\n",
       "      <td>2.000000</td>\n",
       "      <td>2021-03-01 00:00:00</td>\n",
       "    </tr>\n",
       "    <tr>\n",
       "      <th>75%</th>\n",
       "      <td>6.000000</td>\n",
       "      <td>2021-11-01 00:00:00</td>\n",
       "    </tr>\n",
       "    <tr>\n",
       "      <th>max</th>\n",
       "      <td>9737.000000</td>\n",
       "      <td>2022-06-01 00:00:00</td>\n",
       "    </tr>\n",
       "    <tr>\n",
       "      <th>std</th>\n",
       "      <td>103.259831</td>\n",
       "      <td>NaN</td>\n",
       "    </tr>\n",
       "  </tbody>\n",
       "</table>\n",
       "</div>"
      ],
      "text/plain": [
       "       count_of_appointments           appointment_month_dt\n",
       "count           21604.000000                          21604\n",
       "mean               12.718293  2021-03-16 11:19:40.448065280\n",
       "min                 1.000000            2020-01-01 00:00:00\n",
       "25%                 1.000000            2020-08-01 00:00:00\n",
       "50%                 2.000000            2021-03-01 00:00:00\n",
       "75%                 6.000000            2021-11-01 00:00:00\n",
       "max              9737.000000            2022-06-01 00:00:00\n",
       "std               103.259831                            NaN"
      ]
     },
     "metadata": {},
     "output_type": "display_data"
    },
    {
     "data": {
      "text/html": [
       "<div>\n",
       "<style scoped>\n",
       "    .dataframe tbody tr th:only-of-type {\n",
       "        vertical-align: middle;\n",
       "    }\n",
       "\n",
       "    .dataframe tbody tr th {\n",
       "        vertical-align: top;\n",
       "    }\n",
       "\n",
       "    .dataframe thead th {\n",
       "        text-align: right;\n",
       "    }\n",
       "</style>\n",
       "<table border=\"1\" class=\"dataframe\">\n",
       "  <thead>\n",
       "    <tr style=\"text-align: right;\">\n",
       "      <th></th>\n",
       "      <th>count_of_appointments</th>\n",
       "      <th>appointment_month_dt</th>\n",
       "    </tr>\n",
       "  </thead>\n",
       "  <tbody>\n",
       "    <tr>\n",
       "      <th>count</th>\n",
       "      <td>596821.000000</td>\n",
       "      <td>596821</td>\n",
       "    </tr>\n",
       "    <tr>\n",
       "      <th>mean</th>\n",
       "      <td>1244.601857</td>\n",
       "      <td>2021-03-19 11:31:17.489565696</td>\n",
       "    </tr>\n",
       "    <tr>\n",
       "      <th>min</th>\n",
       "      <td>1.000000</td>\n",
       "      <td>2020-01-01 00:00:00</td>\n",
       "    </tr>\n",
       "    <tr>\n",
       "      <th>25%</th>\n",
       "      <td>7.000000</td>\n",
       "      <td>2020-08-01 00:00:00</td>\n",
       "    </tr>\n",
       "    <tr>\n",
       "      <th>50%</th>\n",
       "      <td>47.000000</td>\n",
       "      <td>2021-04-01 00:00:00</td>\n",
       "    </tr>\n",
       "    <tr>\n",
       "      <th>75%</th>\n",
       "      <td>308.000000</td>\n",
       "      <td>2021-11-01 00:00:00</td>\n",
       "    </tr>\n",
       "    <tr>\n",
       "      <th>max</th>\n",
       "      <td>211265.000000</td>\n",
       "      <td>2022-06-01 00:00:00</td>\n",
       "    </tr>\n",
       "    <tr>\n",
       "      <th>std</th>\n",
       "      <td>5856.887042</td>\n",
       "      <td>NaN</td>\n",
       "    </tr>\n",
       "  </tbody>\n",
       "</table>\n",
       "</div>"
      ],
      "text/plain": [
       "       count_of_appointments           appointment_month_dt\n",
       "count          596821.000000                         596821\n",
       "mean             1244.601857  2021-03-19 11:31:17.489565696\n",
       "min                 1.000000            2020-01-01 00:00:00\n",
       "25%                 7.000000            2020-08-01 00:00:00\n",
       "50%                47.000000            2021-04-01 00:00:00\n",
       "75%               308.000000            2021-11-01 00:00:00\n",
       "max            211265.000000            2022-06-01 00:00:00\n",
       "std              5856.887042                            NaN"
      ]
     },
     "execution_count": 23,
     "metadata": {},
     "output_type": "execute_result"
    }
   ],
   "source": [
    "# Duplicates check - entire data set AR\n",
    "display(ar_profile.duplicated().value_counts())\n",
    "display(ar_profile.duplicated().value_counts(normalize=True))\n",
    "\n",
    "# Subset duplicates and verify it matches\n",
    "display(ar_profile[ar_profile.duplicated() == True].shape[0])\n",
    "\n",
    "# View subset\n",
    "display(ar_profile[ar_profile.duplicated() == True].describe())\n",
    "\n",
    "# Compared to orginal\n",
    "ar_profile.describe()"
   ]
  },
  {
   "cell_type": "markdown",
   "metadata": {},
   "source": [
    "Insights:\n",
    "- 3.6% of are duplicate values\n",
    "- duplicate values have a small spread, and their weighted average is 12.7 appointments, which makes sense since the majority of values are withing 1 to 6 appointments count range\n"
   ]
  },
  {
   "cell_type": "code",
   "execution_count": 24,
   "metadata": {},
   "outputs": [
    {
     "data": {
      "text/plain": [
       "icb_ons_code\n",
       "E54000057    76630\n",
       "E54000008    35677\n",
       "E54000048    35126\n",
       "E54000050    29414\n",
       "E54000051    19398\n",
       "E54000026    18649\n",
       "E54000010    16423\n",
       "E54000054    15367\n",
       "E54000061     8298\n",
       "E54000023     6450\n",
       "Name: count_of_appointments, dtype: int64"
      ]
     },
     "metadata": {},
     "output_type": "display_data"
    },
    {
     "data": {
      "text/plain": [
       "icb_ons_code\n",
       "E54000057    4552\n",
       "E54000008    3369\n",
       "E54000048    2883\n",
       "E54000050    2849\n",
       "E54000010    1670\n",
       "E54000051    1638\n",
       "E54000054     982\n",
       "E54000026     857\n",
       "E54000061     771\n",
       "E54000044     506\n",
       "Name: count_of_appointments, dtype: int64"
      ]
     },
     "metadata": {},
     "output_type": "display_data"
    }
   ],
   "source": [
    "# Is there a location that produce more duplicates than other?\n",
    "\n",
    "# Subset duplicates of ar\n",
    "ar_duplicates = ar_profile[ar_profile.duplicated() == True]\n",
    "\n",
    "# Groupby icb_ons_code - location with the highest total appointments duplicates\n",
    "# Sum\n",
    "display(\n",
    "    ar_duplicates.groupby(\"icb_ons_code\")[\"count_of_appointments\"]\n",
    "    .sum()\n",
    "    .sort_values(ascending=False)\n",
    "    .head(10)\n",
    ")\n",
    "\n",
    "# Groupby icb_ons_code - location with the highest number appointment duplicates\n",
    "# Count\n",
    "display(\n",
    "    ar_duplicates.groupby(\"icb_ons_code\")[\"count_of_appointments\"]\n",
    "    .count()\n",
    "    .sort_values(ascending=False)\n",
    "    .head(10)\n",
    ")"
   ]
  },
  {
   "cell_type": "code",
   "execution_count": 25,
   "metadata": {},
   "outputs": [
    {
     "data": {
      "text/plain": [
       "icb_ons_code  appointment_month  appointment_status  hcp_type  appointment_mode  time_between_book_and_appointment  count_of_appointments  appointment_month_dt  appointment_status_ct  hcp_type_ct  appointment_mode_ct  time_between_book_and_appointment_ct\n",
       "E54000008     2021-07            DNA                 GP        Home Visit        2 to 7 Days                        1                      2021-07-01            DNA                    GP           Home Visit           2 to 7 Days                             6\n",
       "E54000057     2021-12            DNA                 GP        Home Visit        8  to 14 Days                      1                      2021-12-01            DNA                    GP           Home Visit           8  to 14 Days                           6\n",
       "              2020-10            Unknown             GP        Home Visit        15  to 21 Days                     1                      2020-10-01            Unknown                GP           Home Visit           15  to 21 Days                          5\n",
       "E54000050     2020-11            DNA                 GP        Home Visit        Same Day                           1                      2020-11-01            DNA                    GP           Home Visit           Same Day                                5\n",
       "E54000057     2022-03            DNA                 Unknown   Face-to-Face      1 Day                              1                      2022-03-01            DNA                    Unknown      Face-to-Face         1 Day                                   5\n",
       "                                                                                                                                                                                                                                                                 ..\n",
       "              2020-01            DNA                 Unknown   Face-to-Face      8  to 14 Days                      1                      2020-01-01            DNA                    Unknown      Face-to-Face         8  to 14 Days                           1\n",
       "                                                                                                                    2                      2020-01-01            DNA                    Unknown      Face-to-Face         8  to 14 Days                           1\n",
       "                                                                                                                    6                      2020-01-01            DNA                    Unknown      Face-to-Face         8  to 14 Days                           1\n",
       "                                                                                 Same Day                           1                      2020-01-01            DNA                    Unknown      Face-to-Face         Same Day                                1\n",
       "E54000061     2022-06            Unknown             Unknown   Telephone         22  to 28 Days                     1                      2022-06-01            Unknown                Unknown      Telephone            22  to 28 Days                          1\n",
       "Name: count, Length: 18531, dtype: int64"
      ]
     },
     "execution_count": 25,
     "metadata": {},
     "output_type": "execute_result"
    }
   ],
   "source": [
    "# Create variable and explore\n",
    "ar_duplicates = ar_profile[ar_profile.duplicated() == True]\n",
    "\n",
    "# View duplicates\n",
    "ar_duplicates.value_counts().sort_values(ascending=False)"
   ]
  },
  {
   "cell_type": "code",
   "execution_count": 26,
   "metadata": {},
   "outputs": [
    {
     "data": {
      "text/plain": [
       "appointment_status\n",
       "Unknown     7950\n",
       "DNA         7812\n",
       "Attended    5842\n",
       "Name: count, dtype: int64"
      ]
     },
     "metadata": {},
     "output_type": "display_data"
    },
    {
     "data": {
      "text/plain": [
       "appointment_status\n",
       "Unknown     0.367987\n",
       "DNA         0.361600\n",
       "Attended    0.270413\n",
       "Name: proportion, dtype: float64"
      ]
     },
     "metadata": {},
     "output_type": "display_data"
    },
    {
     "data": {
      "text/plain": [
       "hcp_type\n",
       "GP                      8208\n",
       "Other Practice staff    7126\n",
       "Unknown                 6270\n",
       "Name: count, dtype: int64"
      ]
     },
     "metadata": {},
     "output_type": "display_data"
    },
    {
     "data": {
      "text/plain": [
       "hcp_type\n",
       "GP                      0.379930\n",
       "Other Practice staff    0.329846\n",
       "Unknown                 0.290224\n",
       "Name: proportion, dtype: float64"
      ]
     },
     "metadata": {},
     "output_type": "display_data"
    },
    {
     "data": {
      "text/plain": [
       "'Total number of values with Unknown as value: 14220'"
      ]
     },
     "metadata": {},
     "output_type": "display_data"
    }
   ],
   "source": [
    "# Subset ar_duplicates contains 21604\n",
    "# Hypothesis is that most of it comes from unknown value either in appointment_status or hcp_type\n",
    "\n",
    "# Verify appointment status\n",
    "display(ar_duplicates[\"appointment_status\"].value_counts())\n",
    "display(ar_duplicates[\"appointment_status\"].value_counts(normalize=True))\n",
    "\n",
    "# Verify hcp_type\n",
    "display(ar_duplicates[\"hcp_type\"].value_counts())\n",
    "display(ar_duplicates[\"hcp_type\"].value_counts(normalize=True))\n",
    "\n",
    "# Total unknown value contained within duplicates data set\n",
    "display(f\"Total number of values with Unknown as value: {7950 + 6270}\")"
   ]
  },
  {
   "cell_type": "markdown",
   "metadata": {},
   "source": [
    "Insights:\n",
    "- Unknown is the largest observation demography in duplicates data set, followed by DNA aka missed appointments\n"
   ]
  },
  {
   "cell_type": "code",
   "execution_count": 27,
   "metadata": {},
   "outputs": [
    {
     "data": {
      "text/plain": [
       "appointment_status\n",
       "Attended    232137\n",
       "Unknown     201324\n",
       "DNA         163360\n",
       "Name: count, dtype: int64"
      ]
     },
     "metadata": {},
     "output_type": "display_data"
    },
    {
     "data": {
      "text/plain": [
       "appointment_status\n",
       "Attended    0.388956\n",
       "Unknown     0.337327\n",
       "DNA         0.273717\n",
       "Name: proportion, dtype: float64"
      ]
     },
     "metadata": {},
     "output_type": "display_data"
    },
    {
     "data": {
      "text/plain": [
       "hcp_type\n",
       "Other Practice staff    241557\n",
       "GP                      226036\n",
       "Unknown                 129228\n",
       "Name: count, dtype: int64"
      ]
     },
     "metadata": {},
     "output_type": "display_data"
    },
    {
     "data": {
      "text/plain": [
       "hcp_type\n",
       "Other Practice staff    0.404739\n",
       "GP                      0.378733\n",
       "Unknown                 0.216527\n",
       "Name: proportion, dtype: float64"
      ]
     },
     "metadata": {},
     "output_type": "display_data"
    }
   ],
   "source": [
    "# Observation appointment_status\n",
    "display(ar_profile[\"appointment_status\"].value_counts())\n",
    "display(ar_profile[\"appointment_status\"].value_counts(normalize=True))\n",
    "\n",
    "# Observation hcp_type\n",
    "display(ar_profile[\"hcp_type\"].value_counts())\n",
    "display(ar_profile[\"hcp_type\"].value_counts(normalize=True))"
   ]
  },
  {
   "cell_type": "code",
   "execution_count": 28,
   "metadata": {},
   "outputs": [
    {
     "data": {
      "text/plain": [
       "'Number of unreliable observations: 46,232'"
      ]
     },
     "metadata": {},
     "output_type": "display_data"
    },
    {
     "data": {
      "text/plain": [
       "'Number of observations from original data set: 596,821'"
      ]
     },
     "metadata": {},
     "output_type": "display_data"
    },
    {
     "data": {
      "text/plain": [
       "'Percentage of unreliable observations: 7.75%'"
      ]
     },
     "metadata": {},
     "output_type": "display_data"
    },
    {
     "data": {
      "text/plain": [
       "'Number of observation remaining: 312,501'"
      ]
     },
     "metadata": {},
     "output_type": "display_data"
    },
    {
     "data": {
      "text/plain": [
       "'Number of duplicates from original data set: 21,604'"
      ]
     },
     "metadata": {},
     "output_type": "display_data"
    },
    {
     "data": {
      "text/plain": [
       "'Number of duplicates reliable data set: 9,763'"
      ]
     },
     "metadata": {},
     "output_type": "display_data"
    },
    {
     "data": {
      "text/plain": [
       "'Percentage of duplicate reduction: 54.81%'"
      ]
     },
     "metadata": {},
     "output_type": "display_data"
    },
    {
     "data": {
      "text/plain": [
       "'Total missed appointments of original: 30,911,233'"
      ]
     },
     "metadata": {},
     "output_type": "display_data"
    },
    {
     "data": {
      "text/plain": [
       "'Total missed appointments of reliable data set: 30,258,270'"
      ]
     },
     "metadata": {},
     "output_type": "display_data"
    },
    {
     "data": {
      "text/plain": [
       "'Percentage reduction of missed appointments: 2.11%'"
      ]
     },
     "metadata": {},
     "output_type": "display_data"
    },
    {
     "data": {
      "text/plain": [
       "'Total attended appointments of original: 677,755,876'"
      ]
     },
     "metadata": {},
     "output_type": "display_data"
    },
    {
     "data": {
      "text/plain": [
       "'Total attended appointments of reliable data set: 656,976,582'"
      ]
     },
     "metadata": {},
     "output_type": "display_data"
    },
    {
     "data": {
      "text/plain": [
       "'Percentage reduction of attended appointments: 3.07%'"
      ]
     },
     "metadata": {},
     "output_type": "display_data"
    }
   ],
   "source": [
    "# Removing duplicates that contains unknown in both hcp_type and appointment_status\n",
    "# Too many part attributes missing and unreliable quality of data\n",
    "\n",
    "# Subset orginal\n",
    "ar_poor_obs = ar_profile[\n",
    "    (ar_profile[\"hcp_type_ct\"].str.contains(\"Unknown\"))\n",
    "    & (ar_profile[\"appointment_status_ct\"].str.contains(\"Unknown\"))\n",
    "]\n",
    "\n",
    "# Subset without unreliable observation\n",
    "ar_cl = ar_profile[\n",
    "    ~(ar_profile[\"hcp_type_ct\"].str.contains(\"Unknown\"))\n",
    "    & ~(ar_profile[\"appointment_status_ct\"].str.contains(\"Unknown\"))\n",
    "]\n",
    "\n",
    "# Check\n",
    "display(\n",
    "    f\"Number of unreliable observations: {ar_poor_obs.shape[0]:,}\",\n",
    "    f\"Number of observations from original data set: {ar_profile.shape[0]:,}\",\n",
    "    f\"Percentage of unreliable observations: {ar_poor_obs.shape[0]/ar_profile.shape[0]:.2%}\",\n",
    "    f\"Number of observation remaining: {ar_cl.shape[0]:,}\",\n",
    "    f\"Number of duplicates from original data set: {ar_profile.duplicated().sum():,}\",\n",
    "    f\"Number of duplicates reliable data set: {ar_cl.duplicated().sum():,}\",\n",
    "    f\"Percentage of duplicate reduction: {1-ar_cl.duplicated().sum() / ar_profile.duplicated().sum():.2%}\",\n",
    "    f\"Total missed appointments of original: {ar_profile.loc[ar_profile['appointment_status_ct']== \"DNA\", 'count_of_appointments'].sum():,}\",\n",
    "    f\"Total missed appointments of reliable data set: {ar_cl.loc[ar_cl['appointment_status_ct']== \"DNA\", 'count_of_appointments'].sum():,}\",\n",
    "    f\"Percentage reduction of missed appointments: {1- ar_cl.loc[ar_cl['appointment_status_ct']== \"DNA\", 'count_of_appointments'].sum() / ar_profile.loc[ar_profile['appointment_status_ct']== \"DNA\", 'count_of_appointments'].sum():.2%}\",\n",
    "    f\"Total attended appointments of original: {ar_profile.loc[ar_profile['appointment_status_ct']== \"Attended\", 'count_of_appointments'].sum():,}\",\n",
    "    f\"Total attended appointments of reliable data set: {ar_cl.loc[ar_cl['appointment_status_ct']== \"Attended\", 'count_of_appointments'].sum():,}\",\n",
    "    f\"Percentage reduction of attended appointments: {1- ar_cl.loc[ar_cl['appointment_status_ct']== \"Attended\", 'count_of_appointments'].sum() / ar_profile.loc[ar_profile['appointment_status_ct']== \"Attended\", 'count_of_appointments'].sum():.2%}\",\n",
    ")"
   ]
  },
  {
   "cell_type": "markdown",
   "metadata": {},
   "source": [
    "Comment:\n",
    "- \"Garbage in garbage out\" high quality data is needed for accurate insights and analysis\n",
    "- Duplicates remain since an appointment can represent the same patient, and when looking at capacity both staff and resources are utilized when appointment is made (occupancy)\n",
    "\n",
    "\n",
    "Insights:\n",
    "- 7.75% of observations are unreliable observations\n",
    "- 54.81% reduction of duplicates observations (all missing values from entire data)\n",
    "- Unknown value exist only as duplicate and if value is present in categorical columns; appointment_status & hcp_type\n",
    "- Total appointments was reduced by 5.18%, impact of unknown value  "
   ]
  },
  {
   "cell_type": "code",
   "execution_count": 29,
   "metadata": {},
   "outputs": [
    {
     "data": {
      "text/plain": [
       "appointment_status_ct\n",
       "Attended    178720\n",
       "DNA         133781\n",
       "Unknown          0\n",
       "Name: count, dtype: int64"
      ]
     },
     "metadata": {},
     "output_type": "display_data"
    },
    {
     "data": {
      "text/plain": [
       "hcp_type_ct\n",
       "Other Practice staff    161845\n",
       "GP                      150656\n",
       "Unknown                      0\n",
       "Name: count, dtype: int64"
      ]
     },
     "metadata": {},
     "output_type": "display_data"
    }
   ],
   "source": [
    "# Check if Unknown value remain within appointment_status\n",
    "display(ar_cl[\"appointment_status_ct\"].value_counts())\n",
    "\n",
    "# Check if Unknown value remain within hcp_type\n",
    "display(ar_cl[\"hcp_type_ct\"].value_counts())"
   ]
  },
  {
   "cell_type": "code",
   "execution_count": 30,
   "metadata": {},
   "outputs": [
    {
     "data": {
      "text/plain": [
       "'Total appointments with unknown categorical value: 34,137,416'"
      ]
     },
     "metadata": {},
     "output_type": "display_data"
    },
    {
     "data": {
      "text/plain": [
       "'Total appointments of entire data set AR: 742,804,525'"
      ]
     },
     "metadata": {},
     "output_type": "display_data"
    },
    {
     "data": {
      "text/plain": [
       "'Appointment Percentage containing Unknown as a values: 4.60%'"
      ]
     },
     "metadata": {},
     "output_type": "display_data"
    }
   ],
   "source": [
    "# What was the impact of unknown in terms of count_of_appointments\n",
    "display(\n",
    "    f'Total appointments with unknown categorical value: {ar_profile.loc[ar_profile[\"appointment_status_ct\"].str.contains(\"Unknown\"),\"count_of_appointments\"].sum():,}'\n",
    ")\n",
    "\n",
    "# What portions of total does it have\n",
    "display(\n",
    "    f'Total appointments of entire data set AR: {ar_profile[\"count_of_appointments\"].sum():,}'\n",
    ")\n",
    "\n",
    "# Represents 4.6% total appointments\n",
    "display(\n",
    "    f'Appointment Percentage containing Unknown as a values: {ar_profile.loc[ar_profile[\"appointment_status_ct\"].str.contains(\"Unknown\"),\"count_of_appointments\"].sum()/ ar_profile[\"count_of_appointments\"].sum():.2%}'\n",
    ")"
   ]
  },
  {
   "cell_type": "markdown",
   "metadata": {},
   "source": [
    "### 2.4 Missing value:\n",
    "Metadata:\n",
    "- Indicated that 'Unknown' value represent missing value\n",
    " \n",
    "Insight:\n",
    "- Only existed if it contained 'Unknown' as a value\n",
    "- 'Unknown' value is MCAR because was present in two columns simultaneously  \n"
   ]
  },
  {
   "cell_type": "code",
   "execution_count": 31,
   "metadata": {},
   "outputs": [
    {
     "data": {
      "text/plain": [
       "icb_ons_code                            0\n",
       "appointment_month                       0\n",
       "appointment_status                      0\n",
       "hcp_type                                0\n",
       "appointment_mode                        0\n",
       "time_between_book_and_appointment       0\n",
       "count_of_appointments                   0\n",
       "appointment_month_dt                    0\n",
       "appointment_status_ct                   0\n",
       "hcp_type_ct                             0\n",
       "appointment_mode_ct                     0\n",
       "time_between_book_and_appointment_ct    0\n",
       "dtype: int64"
      ]
     },
     "execution_count": 31,
     "metadata": {},
     "output_type": "execute_result"
    }
   ],
   "source": [
    "# Number of null values\n",
    "ar_profile.isnull().sum()"
   ]
  },
  {
   "cell_type": "code",
   "execution_count": 32,
   "metadata": {},
   "outputs": [
    {
     "data": {
      "text/plain": [
       "array(['Attended', 'DNA', 'Unknown'], dtype=object)"
      ]
     },
     "metadata": {},
     "output_type": "display_data"
    },
    {
     "data": {
      "text/plain": [
       "icb_ons_code                                 0\n",
       "appointment_month                            0\n",
       "appointment_status                           0\n",
       "hcp_type                                     0\n",
       "appointment_mode                             0\n",
       "time_between_book_and_appointment            0\n",
       "count_of_appointments                        0\n",
       "appointment_month_dt                         0\n",
       "appointment_status_ct                        0\n",
       "hcp_type_ct                                  0\n",
       "appointment_mode_ct                          0\n",
       "time_between_book_and_appointment_ct         0\n",
       "appointment_status_cl                   201324\n",
       "dtype: int64"
      ]
     },
     "metadata": {},
     "output_type": "display_data"
    },
    {
     "data": {
      "text/plain": [
       "(596821, 13)"
      ]
     },
     "execution_count": 32,
     "metadata": {},
     "output_type": "execute_result"
    }
   ],
   "source": [
    "# How many null values exist within the original data set?\n",
    "# Back up\n",
    "ar2 = ar_profile.copy()\n",
    "\n",
    "# Check unique values for appointment status\n",
    "display(ar2[\"appointment_status\"].unique())\n",
    "\n",
    "# Replace Unknown with null value\n",
    "ar2[\"appointment_status_cl\"] = ar2[\"appointment_status\"].replace(\"Unknown\", np.nan)\n",
    "\n",
    "# Count\n",
    "display(ar2.isnull().sum())\n",
    "\n",
    "# Shape and check\n",
    "ar2.shape"
   ]
  },
  {
   "cell_type": "code",
   "execution_count": 33,
   "metadata": {},
   "outputs": [
    {
     "data": {
      "text/plain": [
       "array(['GP', 'Other Practice staff', 'Unknown'], dtype=object)"
      ]
     },
     "metadata": {},
     "output_type": "display_data"
    },
    {
     "data": {
      "text/plain": [
       "icb_ons_code                                 0\n",
       "appointment_month                            0\n",
       "appointment_status                           0\n",
       "hcp_type                                     0\n",
       "appointment_mode                             0\n",
       "time_between_book_and_appointment            0\n",
       "count_of_appointments                        0\n",
       "appointment_month_dt                         0\n",
       "appointment_status_ct                        0\n",
       "hcp_type_ct                                  0\n",
       "appointment_mode_ct                          0\n",
       "time_between_book_and_appointment_ct         0\n",
       "appointment_status_cl                   201324\n",
       "hcp_type_cl                             129228\n",
       "dtype: int64"
      ]
     },
     "metadata": {},
     "output_type": "display_data"
    }
   ],
   "source": [
    "# Check unique values for appointment status\n",
    "display(ar2[\"hcp_type\"].unique())\n",
    "\n",
    "# Replace Unknown with null value\n",
    "ar2[\"hcp_type_cl\"] = ar2[\"hcp_type\"].replace(\"Unknown\", np.nan)\n",
    "\n",
    "# Count\n",
    "display(ar2.isnull().sum())"
   ]
  },
  {
   "cell_type": "code",
   "execution_count": 34,
   "metadata": {},
   "outputs": [
    {
     "data": {
      "text/plain": [
       "hcp_type_ct\n",
       "Other Practice staff    161845\n",
       "GP                      150656\n",
       "Unknown                      0\n",
       "Name: count, dtype: int64"
      ]
     },
     "metadata": {},
     "output_type": "display_data"
    },
    {
     "data": {
      "text/plain": [
       "appointment_status_ct\n",
       "Attended    178720\n",
       "DNA         133781\n",
       "Unknown          0\n",
       "Name: count, dtype: int64"
      ]
     },
     "metadata": {},
     "output_type": "display_data"
    }
   ],
   "source": [
    "# How many null value in clean duplicate data set\n",
    "# Number of null values in ar_cl\n",
    "display(ar_cl[\"hcp_type_ct\"].value_counts())\n",
    "display(ar_cl[\"appointment_status_ct\"].value_counts())"
   ]
  },
  {
   "cell_type": "markdown",
   "metadata": {},
   "source": [
    "----------------"
   ]
  }
 ],
 "metadata": {
  "kernelspec": {
   "display_name": "lseC4",
   "language": "python",
   "name": "python3"
  },
  "language_info": {
   "codemirror_mode": {
    "name": "ipython",
    "version": 3
   },
   "file_extension": ".py",
   "mimetype": "text/x-python",
   "name": "python",
   "nbconvert_exporter": "python",
   "pygments_lexer": "ipython3",
   "version": "3.12.2"
  }
 },
 "nbformat": 4,
 "nbformat_minor": 2
}
