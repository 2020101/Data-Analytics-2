{
 "cells": [
  {
   "cell_type": "markdown",
   "metadata": {},
   "source": [
    "# Business Questions\n",
    "\n",
    "## Assignment: two main questions\n",
    "    1. Has there been adequate staff and capacity in the network?\n",
    "    2. What was the actual utilization of resources?\n",
    "\n",
    "Desired outcome is to determine if additional resources are required based on current use."
   ]
  },
  {
   "cell_type": "markdown",
   "metadata": {
    "jp-MarkdownHeadingCollapsed": true
   },
   "source": [
    "\n",
    "## Assumptions:\n",
    "\n",
    "- Each appointment is done by unique patient, no recurring patiences\n",
    "- Maximum capacity is average of appointments over 30 months\n",
    "- Unknown records represent benchmark for centralization of patient information via the Health Care Network\n",
    "- Outliers regarding appointments can reflect threatment and represent variability of diseases patients can have (not elimination of outliers has it representative)\n",
    "\n",
    "## Risks:\n",
    "\n",
    "- By assuming each appointment is a unique patient, the total number of patients within the area is multiplied \n",
    "- Alternative to more accurate patients information, is that if health data were to made public and would have irreversable damages to people quality of life - highly sensitive information even properly steps to masks identity of patients can result \n",
    "\n",
    "## Challenges & Solutions:\n",
    "\n",
    " 1. Challenge: time element not all data sets have the duration of time recorder\n",
    "    - Solution: Choose to focus on largest duration to identify long-term trends of macro factors.\n",
    "    > **IMPORTANT**: \n",
    "    > - AR used for macro trend (30 months recorded appointment data) tells us if appointments are increasing and benchmark to evaluate if staff and capacity are adequate\n",
    "    >\n",
    "    > - NC used to determined current utilization and create profile on common patient; what the most used service and most visited consulation location\n",
    "\n"
   ]
  },
  {
   "cell_type": "markdown",
   "metadata": {
    "jp-MarkdownHeadingCollapsed": true
   },
   "source": [
    "# 0. Plan: Getting to know your data\n",
    "------\n",
    "## Approach: \n",
    "- Time important section: provide rate of patients per month & important differences in dataset\n",
    "Consideration and selection of data sets \n",
    "- Take away: \n",
    "    - AR used for macro trend (30 months recorded appointment data) tells us if appointments are increasing and benchmark to evaluate if staff and capacity are adequate\n",
    "        - used metric, weighted AR average, seen in linegraph as reference line\n",
    "\n",
    "    - NC used to determined current utilization and create profile on common patient; what the most used service and most visited consulation location\n",
    "------\n",
    "## Execution flow:\n",
    "1. Setup\n",
    "2. Data Cleaning workflow\n",
    "3. Analysis\n",
    "   \n",
    "    1. Current Utilization benchmark to understand if additional resources are needed or not (metric to measure adequacy)\n",
    "    2. Mapping network provides context to determine adequacy\n",
    "    4. Determine adequacy of staff and using patients appointments to analysis trends over time\n",
    "        1. Average monthly appointments\n",
    "        2. Total number of patients\n",
    "        3. Criteria of evaluation if adequate or not:\n",
    "            1. Number of months above average compared to below average - if total above average is greater than total below average we can concluse **NOT ADEQUATE** else **ADEQUATE**\n",
    "            2. Apply above approach for patients appointments over months and staff \n",
    "-------\n",
    "\n",
    "## Questions - cell 51 review\n",
    "\n",
    " 1. To understand if the staff levels need to increase check count of appointments \n",
    "    - cell 16\n",
    " 2. Should the NHS start looking at increasing staff levels? [nc] \n",
    "    - what is current trend now of patient? is it increasing or decreasing? What is the average?\n",
    "    - cell 45\n",
    "3. What is the max capacity? How to define capacity? [nc]\n",
    "    - Number of appointments calendar scope limited to only day and month\n",
    "    - cell 48\n",
    "4. How many icb are within each region?\n",
    "    - cell 66\n",
    "5. What is the total number of patients per region? \n",
    "    - cell 68\n",
    "6. How many sub_icb are within each region?\n",
    "    - cell 70\n",
    "7. How many patients are in each region?\n",
    "    - Total per region\n",
    "    - cell 72\n",
    "--------\n",
    "\n",
    "## Lesson learned\n",
    "\n",
    "- nc_c['appointment_month'].dt.month  # issue .dt.month works only with datetime type - cell 18\n",
    "-  Months - approach use appointment month to derive the rest of scale\n",
    "ar_total_months2 = ar[\"appointment_month\"].nunique()"
   ]
  },
  {
   "cell_type": "code",
   "execution_count": 1,
   "metadata": {},
   "outputs": [
    {
     "data": {
      "text/html": [
       "\n",
       "                <script type=\"application/javascript\" id=\"jupyter_black\">\n",
       "                (function() {\n",
       "                    if (window.IPython === undefined) {\n",
       "                        return\n",
       "                    }\n",
       "                    var msg = \"WARNING: it looks like you might have loaded \" +\n",
       "                        \"jupyter_black in a non-lab notebook with \" +\n",
       "                        \"`is_lab=True`. Please double check, and if \" +\n",
       "                        \"loading with `%load_ext` please review the README!\"\n",
       "                    console.log(msg)\n",
       "                    alert(msg)\n",
       "                })()\n",
       "                </script>\n",
       "                "
      ],
      "text/plain": [
       "<IPython.core.display.HTML object>"
      ]
     },
     "metadata": {},
     "output_type": "display_data"
    }
   ],
   "source": [
    "# Formatter\n",
    "\n",
    "# Import\n",
    "import jupyter_black\n",
    "\n",
    "# Execute\n",
    "jupyter_black.load() "
   ]
  },
  {
   "cell_type": "markdown",
   "metadata": {
    "jp-MarkdownHeadingCollapsed": true
   },
   "source": [
    "## 1. Setup"
   ]
  },
  {
   "cell_type": "code",
   "execution_count": 2,
   "metadata": {},
   "outputs": [],
   "source": [
    "# Import modules/libraries needed\n",
    "import pandas as pd\n",
    "import numpy as np\n",
    "import seaborn as sns\n",
    "import matplotlib.pyplot as plt\n",
    "\n",
    "%matplotlib inline"
   ]
  },
  {
   "cell_type": "code",
   "execution_count": 5,
   "metadata": {},
   "outputs": [],
   "source": [
    "# Absolute path per data source\n",
    "ad_path = \"actual_duration.csv\"\n",
    "ar_path = \"appointments_regional.csv\"\n",
    "nc_path = \"national_categories.xlsx\""
   ]
  },
  {
   "cell_type": "code",
   "execution_count": 4,
   "metadata": {},
   "outputs": [],
   "source": [
    "# Importation of data source csv files\n",
    "ad = pd.read_csv(ad_path)\n",
    "ar = pd.read_csv(ar_path)\n",
    "# Importation of data source xlsx file\n",
    "nc = pd.read_excel(nc_path)"
   ]
  },
  {
   "cell_type": "markdown",
   "metadata": {
    "jp-MarkdownHeadingCollapsed": true
   },
   "source": [
    "## 2. Data Cleaning workflow five steps:\n",
    "1. Data exploration\n",
    "2. Data cleaning\n",
    "3. Missing data \n",
    "    - Options:\n",
    "        a. removal of data\n",
    "        b. imputation of data (most common)\n",
    "4. Duplicates\n",
    "5. Outliers\n",
    "\n",
    "> Purpose is to strengthen Data Quality:\n",
    ">1. Accuracy\n",
    ">2. Relevance\n",
    ">3. Consistency\n",
    ">4. Completeness\n",
    ">5. Uniformity"
   ]
  },
  {
   "cell_type": "markdown",
   "metadata": {
    "jp-MarkdownHeadingCollapsed": true
   },
   "source": [
    "### 2.1. Data exploration"
   ]
  },
  {
   "cell_type": "code",
   "execution_count": 6,
   "metadata": {},
   "outputs": [
    {
     "name": "stdout",
     "output_type": "stream",
     "text": [
      "<class 'pandas.core.frame.DataFrame'>\n",
      "RangeIndex: 137793 entries, 0 to 137792\n",
      "Data columns (total 8 columns):\n",
      " #   Column                     Non-Null Count   Dtype \n",
      "---  ------                     --------------   ----- \n",
      " 0   sub_icb_location_code      137793 non-null  object\n",
      " 1   sub_icb_location_ons_code  137793 non-null  object\n",
      " 2   sub_icb_location_name      137793 non-null  object\n",
      " 3   icb_ons_code               137793 non-null  object\n",
      " 4   region_ons_code            137793 non-null  object\n",
      " 5   appointment_date           137793 non-null  object\n",
      " 6   actual_duration            137793 non-null  object\n",
      " 7   count_of_appointments      137793 non-null  int64 \n",
      "dtypes: int64(1), object(7)\n",
      "memory usage: 8.4+ MB\n",
      "None\n"
     ]
    },
    {
     "name": "stdout",
     "output_type": "stream",
     "text": [
      "<class 'pandas.core.frame.DataFrame'>\n",
      "RangeIndex: 596821 entries, 0 to 596820\n",
      "Data columns (total 7 columns):\n",
      " #   Column                             Non-Null Count   Dtype \n",
      "---  ------                             --------------   ----- \n",
      " 0   icb_ons_code                       596821 non-null  object\n",
      " 1   appointment_month                  596821 non-null  object\n",
      " 2   appointment_status                 596821 non-null  object\n",
      " 3   hcp_type                           596821 non-null  object\n",
      " 4   appointment_mode                   596821 non-null  object\n",
      " 5   time_between_book_and_appointment  596821 non-null  object\n",
      " 6   count_of_appointments              596821 non-null  int64 \n",
      "dtypes: int64(1), object(6)\n",
      "memory usage: 31.9+ MB\n",
      "None\n",
      "<class 'pandas.core.frame.DataFrame'>\n",
      "RangeIndex: 817394 entries, 0 to 817393\n",
      "Data columns (total 8 columns):\n",
      " #   Column                 Non-Null Count   Dtype         \n",
      "---  ------                 --------------   -----         \n",
      " 0   appointment_date       817394 non-null  datetime64[ns]\n",
      " 1   icb_ons_code           817394 non-null  object        \n",
      " 2   sub_icb_location_name  817394 non-null  object        \n",
      " 3   service_setting        817394 non-null  object        \n",
      " 4   context_type           817394 non-null  object        \n",
      " 5   national_category      817394 non-null  object        \n",
      " 6   count_of_appointments  817394 non-null  int64         \n",
      " 7   appointment_month      817394 non-null  object        \n",
      "dtypes: datetime64[ns](1), int64(1), object(6)\n",
      "memory usage: 49.9+ MB\n",
      "None\n"
     ]
    }
   ],
   "source": [
    "# Verification\n",
    "print(ad.info())\n",
    "print(ar.info())\n",
    "print(nc.info())"
   ]
  },
  {
   "cell_type": "markdown",
   "metadata": {},
   "source": [
    "- Comment: would be nice to have it in plain view\n",
    "- Insight: noticed different observations amount per data set\n",
    "- Assumption: NHS network includes GP in small villages like specialized hospital in big city. Accounting for the difference"
   ]
  },
  {
   "cell_type": "markdown",
   "metadata": {
    "jp-MarkdownHeadingCollapsed": true
   },
   "source": [
    "### 2.2. Data cleaning via conversion of dtypes\n",
    "> Get to know your data: Time"
   ]
  },
  {
   "cell_type": "markdown",
   "metadata": {
    "jp-MarkdownHeadingCollapsed": true
   },
   "source": [
    "#### Nc: conversion dtypes, calendar totals per data set, table summary"
   ]
  },
  {
   "cell_type": "code",
   "execution_count": 7,
   "metadata": {},
   "outputs": [
    {
     "data": {
      "text/plain": [
       "appointment_date         datetime64[ns]\n",
       "icb_ons_code                     object\n",
       "sub_icb_location_name            object\n",
       "service_setting                  object\n",
       "context_type                     object\n",
       "national_category                object\n",
       "count_of_appointments             int64\n",
       "appointment_month                object\n",
       "dtype: object"
      ]
     },
     "metadata": {},
     "output_type": "display_data"
    },
    {
     "data": {
      "text/plain": [
       "icb_ons_code                         object\n",
       "appointment_month                    object\n",
       "appointment_status                   object\n",
       "hcp_type                             object\n",
       "appointment_mode                     object\n",
       "time_between_book_and_appointment    object\n",
       "count_of_appointments                 int64\n",
       "dtype: object"
      ]
     },
     "metadata": {},
     "output_type": "display_data"
    },
    {
     "data": {
      "text/plain": [
       "sub_icb_location_code        object\n",
       "sub_icb_location_ons_code    object\n",
       "sub_icb_location_name        object\n",
       "icb_ons_code                 object\n",
       "region_ons_code              object\n",
       "appointment_date             object\n",
       "actual_duration              object\n",
       "count_of_appointments         int64\n",
       "dtype: object"
      ]
     },
     "metadata": {},
     "output_type": "display_data"
    }
   ],
   "source": [
    "# 1. To understand if the staff levels need to increase check count of appointments\n",
    "\n",
    "# Backup nc\n",
    "nc_c = nc.copy()\n",
    "\n",
    "# Check data types within data sets\n",
    "display(nc_c.dtypes)\n",
    "display(ar.dtypes)\n",
    "display(ad.dtypes)"
   ]
  },
  {
   "cell_type": "code",
   "execution_count": 8,
   "metadata": {},
   "outputs": [
    {
     "data": {
      "text/plain": [
       "icb_ons_code             string[python]\n",
       "sub_icb_location_name    string[python]\n",
       "service_setting          string[python]\n",
       "context_type             string[python]\n",
       "national_category        string[python]\n",
       "appointment_month        string[python]\n",
       "dtype: object"
      ]
     },
     "metadata": {},
     "output_type": "display_data"
    },
    {
     "data": {
      "text/html": [
       "<div>\n",
       "<style scoped>\n",
       "    .dataframe tbody tr th:only-of-type {\n",
       "        vertical-align: middle;\n",
       "    }\n",
       "\n",
       "    .dataframe tbody tr th {\n",
       "        vertical-align: top;\n",
       "    }\n",
       "\n",
       "    .dataframe thead th {\n",
       "        text-align: right;\n",
       "    }\n",
       "</style>\n",
       "<table border=\"1\" class=\"dataframe\">\n",
       "  <thead>\n",
       "    <tr style=\"text-align: right;\">\n",
       "      <th></th>\n",
       "      <th>icb_ons_code</th>\n",
       "      <th>sub_icb_location_name</th>\n",
       "      <th>service_setting</th>\n",
       "      <th>context_type</th>\n",
       "      <th>national_category</th>\n",
       "      <th>appointment_month</th>\n",
       "    </tr>\n",
       "  </thead>\n",
       "  <tbody>\n",
       "    <tr>\n",
       "      <th>0</th>\n",
       "      <td>E54000050</td>\n",
       "      <td>NHS North East and North Cumbria ICB - 00L</td>\n",
       "      <td>Primary Care Network</td>\n",
       "      <td>Care Related Encounter</td>\n",
       "      <td>Patient contact during Care Home Round</td>\n",
       "      <td>2021-08</td>\n",
       "    </tr>\n",
       "    <tr>\n",
       "      <th>1</th>\n",
       "      <td>E54000050</td>\n",
       "      <td>NHS North East and North Cumbria ICB - 00L</td>\n",
       "      <td>Other</td>\n",
       "      <td>Care Related Encounter</td>\n",
       "      <td>Planned Clinics</td>\n",
       "      <td>2021-08</td>\n",
       "    </tr>\n",
       "    <tr>\n",
       "      <th>2</th>\n",
       "      <td>E54000050</td>\n",
       "      <td>NHS North East and North Cumbria ICB - 00L</td>\n",
       "      <td>General Practice</td>\n",
       "      <td>Care Related Encounter</td>\n",
       "      <td>Home Visit</td>\n",
       "      <td>2021-08</td>\n",
       "    </tr>\n",
       "    <tr>\n",
       "      <th>3</th>\n",
       "      <td>E54000050</td>\n",
       "      <td>NHS North East and North Cumbria ICB - 00L</td>\n",
       "      <td>General Practice</td>\n",
       "      <td>Care Related Encounter</td>\n",
       "      <td>General Consultation Acute</td>\n",
       "      <td>2021-08</td>\n",
       "    </tr>\n",
       "    <tr>\n",
       "      <th>4</th>\n",
       "      <td>E54000050</td>\n",
       "      <td>NHS North East and North Cumbria ICB - 00L</td>\n",
       "      <td>General Practice</td>\n",
       "      <td>Care Related Encounter</td>\n",
       "      <td>Structured Medication Review</td>\n",
       "      <td>2021-08</td>\n",
       "    </tr>\n",
       "  </tbody>\n",
       "</table>\n",
       "</div>"
      ],
      "text/plain": [
       "  icb_ons_code                       sub_icb_location_name  \\\n",
       "0    E54000050  NHS North East and North Cumbria ICB - 00L   \n",
       "1    E54000050  NHS North East and North Cumbria ICB - 00L   \n",
       "2    E54000050  NHS North East and North Cumbria ICB - 00L   \n",
       "3    E54000050  NHS North East and North Cumbria ICB - 00L   \n",
       "4    E54000050  NHS North East and North Cumbria ICB - 00L   \n",
       "\n",
       "        service_setting            context_type  \\\n",
       "0  Primary Care Network  Care Related Encounter   \n",
       "1                 Other  Care Related Encounter   \n",
       "2      General Practice  Care Related Encounter   \n",
       "3      General Practice  Care Related Encounter   \n",
       "4      General Practice  Care Related Encounter   \n",
       "\n",
       "                        national_category appointment_month  \n",
       "0  Patient contact during Care Home Round           2021-08  \n",
       "1                         Planned Clinics           2021-08  \n",
       "2                              Home Visit           2021-08  \n",
       "3              General Consultation Acute           2021-08  \n",
       "4            Structured Medication Review           2021-08  "
      ]
     },
     "metadata": {},
     "output_type": "display_data"
    },
    {
     "data": {
      "text/plain": [
       "icb_ons_code             string[python]\n",
       "sub_icb_location_name    string[python]\n",
       "service_setting          string[python]\n",
       "context_type             string[python]\n",
       "national_category        string[python]\n",
       "appointment_month        string[python]\n",
       "appointment_date         datetime64[ns]\n",
       "count_of_appointments             int64\n",
       "dtype: object"
      ]
     },
     "metadata": {},
     "output_type": "display_data"
    },
    {
     "data": {
      "text/html": [
       "<div>\n",
       "<style scoped>\n",
       "    .dataframe tbody tr th:only-of-type {\n",
       "        vertical-align: middle;\n",
       "    }\n",
       "\n",
       "    .dataframe tbody tr th {\n",
       "        vertical-align: top;\n",
       "    }\n",
       "\n",
       "    .dataframe thead th {\n",
       "        text-align: right;\n",
       "    }\n",
       "</style>\n",
       "<table border=\"1\" class=\"dataframe\">\n",
       "  <thead>\n",
       "    <tr style=\"text-align: right;\">\n",
       "      <th></th>\n",
       "      <th>icb_ons_code</th>\n",
       "      <th>sub_icb_location_name</th>\n",
       "      <th>service_setting</th>\n",
       "      <th>context_type</th>\n",
       "      <th>national_category</th>\n",
       "      <th>appointment_month</th>\n",
       "      <th>appointment_date</th>\n",
       "      <th>count_of_appointments</th>\n",
       "    </tr>\n",
       "  </thead>\n",
       "  <tbody>\n",
       "    <tr>\n",
       "      <th>0</th>\n",
       "      <td>E54000050</td>\n",
       "      <td>NHS North East and North Cumbria ICB - 00L</td>\n",
       "      <td>Primary Care Network</td>\n",
       "      <td>Care Related Encounter</td>\n",
       "      <td>Patient contact during Care Home Round</td>\n",
       "      <td>2021-08</td>\n",
       "      <td>2021-08-02</td>\n",
       "      <td>3</td>\n",
       "    </tr>\n",
       "    <tr>\n",
       "      <th>1</th>\n",
       "      <td>E54000050</td>\n",
       "      <td>NHS North East and North Cumbria ICB - 00L</td>\n",
       "      <td>Other</td>\n",
       "      <td>Care Related Encounter</td>\n",
       "      <td>Planned Clinics</td>\n",
       "      <td>2021-08</td>\n",
       "      <td>2021-08-02</td>\n",
       "      <td>7</td>\n",
       "    </tr>\n",
       "    <tr>\n",
       "      <th>2</th>\n",
       "      <td>E54000050</td>\n",
       "      <td>NHS North East and North Cumbria ICB - 00L</td>\n",
       "      <td>General Practice</td>\n",
       "      <td>Care Related Encounter</td>\n",
       "      <td>Home Visit</td>\n",
       "      <td>2021-08</td>\n",
       "      <td>2021-08-02</td>\n",
       "      <td>79</td>\n",
       "    </tr>\n",
       "    <tr>\n",
       "      <th>3</th>\n",
       "      <td>E54000050</td>\n",
       "      <td>NHS North East and North Cumbria ICB - 00L</td>\n",
       "      <td>General Practice</td>\n",
       "      <td>Care Related Encounter</td>\n",
       "      <td>General Consultation Acute</td>\n",
       "      <td>2021-08</td>\n",
       "      <td>2021-08-02</td>\n",
       "      <td>725</td>\n",
       "    </tr>\n",
       "    <tr>\n",
       "      <th>4</th>\n",
       "      <td>E54000050</td>\n",
       "      <td>NHS North East and North Cumbria ICB - 00L</td>\n",
       "      <td>General Practice</td>\n",
       "      <td>Care Related Encounter</td>\n",
       "      <td>Structured Medication Review</td>\n",
       "      <td>2021-08</td>\n",
       "      <td>2021-08-02</td>\n",
       "      <td>2</td>\n",
       "    </tr>\n",
       "  </tbody>\n",
       "</table>\n",
       "</div>"
      ],
      "text/plain": [
       "  icb_ons_code                       sub_icb_location_name  \\\n",
       "0    E54000050  NHS North East and North Cumbria ICB - 00L   \n",
       "1    E54000050  NHS North East and North Cumbria ICB - 00L   \n",
       "2    E54000050  NHS North East and North Cumbria ICB - 00L   \n",
       "3    E54000050  NHS North East and North Cumbria ICB - 00L   \n",
       "4    E54000050  NHS North East and North Cumbria ICB - 00L   \n",
       "\n",
       "        service_setting            context_type  \\\n",
       "0  Primary Care Network  Care Related Encounter   \n",
       "1                 Other  Care Related Encounter   \n",
       "2      General Practice  Care Related Encounter   \n",
       "3      General Practice  Care Related Encounter   \n",
       "4      General Practice  Care Related Encounter   \n",
       "\n",
       "                        national_category appointment_month appointment_date  \\\n",
       "0  Patient contact during Care Home Round           2021-08       2021-08-02   \n",
       "1                         Planned Clinics           2021-08       2021-08-02   \n",
       "2                              Home Visit           2021-08       2021-08-02   \n",
       "3              General Consultation Acute           2021-08       2021-08-02   \n",
       "4            Structured Medication Review           2021-08       2021-08-02   \n",
       "\n",
       "   count_of_appointments  \n",
       "0                      3  \n",
       "1                      7  \n",
       "2                     79  \n",
       "3                    725  \n",
       "4                      2  "
      ]
     },
     "execution_count": 8,
     "metadata": {},
     "output_type": "execute_result"
    }
   ],
   "source": [
    "# Clean nc - .convert_dtypes() works with df\n",
    "nc_c = nc_c[\n",
    "    [\n",
    "        \"icb_ons_code\",\n",
    "        \"sub_icb_location_name\",\n",
    "        \"service_setting\",\n",
    "        \"context_type\",\n",
    "        \"national_category\",\n",
    "        \"appointment_month\",\n",
    "    ]\n",
    "].convert_dtypes(\n",
    "    convert_string=True,\n",
    ")\n",
    "\n",
    "# Check dtypes change\n",
    "display(nc_c.dtypes)\n",
    "\n",
    "# Add missing date column\n",
    "display(nc_c.head())\n",
    "nc_c[\"appointment_date\"] = nc[\"appointment_date\"]\n",
    "nc_c[\"count_of_appointments\"] = nc[\"count_of_appointments\"]\n",
    "\n",
    "# Check integration\n",
    "display(nc_c.dtypes)\n"
   ]
  },
  {
   "cell_type": "code",
   "execution_count": 10,
   "metadata": {},
   "outputs": [
    {
     "data": {
      "text/plain": [
       "<StringArray>\n",
       "['2021-08', '2021-09', '2021-10', '2021-11', '2021-12', '2022-01', '2022-02',\n",
       " '2022-03', '2022-04', '2022-05', '2022-06']\n",
       "Length: 11, dtype: string"
      ]
     },
     "metadata": {},
     "output_type": "display_data"
    },
    {
     "data": {
      "text/html": [
       "<div>\n",
       "<style scoped>\n",
       "    .dataframe tbody tr th:only-of-type {\n",
       "        vertical-align: middle;\n",
       "    }\n",
       "\n",
       "    .dataframe tbody tr th {\n",
       "        vertical-align: top;\n",
       "    }\n",
       "\n",
       "    .dataframe thead th {\n",
       "        text-align: right;\n",
       "    }\n",
       "</style>\n",
       "<table border=\"1\" class=\"dataframe\">\n",
       "  <thead>\n",
       "    <tr style=\"text-align: right;\">\n",
       "      <th></th>\n",
       "      <th>Total months</th>\n",
       "      <th>Total days</th>\n",
       "      <th>Total weeks</th>\n",
       "      <th>Total weekdays</th>\n",
       "      <th>Total weekends</th>\n",
       "    </tr>\n",
       "  </thead>\n",
       "  <tbody>\n",
       "    <tr>\n",
       "      <th>nc</th>\n",
       "      <td>11</td>\n",
       "      <td>334</td>\n",
       "      <td>48</td>\n",
       "      <td>239</td>\n",
       "      <td>95</td>\n",
       "    </tr>\n",
       "  </tbody>\n",
       "</table>\n",
       "</div>"
      ],
      "text/plain": [
       "    Total months  Total days  Total weeks  Total weekdays  Total weekends\n",
       "nc            11         334           48             239              95"
      ]
     },
     "metadata": {},
     "output_type": "display_data"
    }
   ],
   "source": [
    "# Total number of months and days\n",
    "\n",
    "\n",
    "# Approach: nunique\n",
    "display(nc_c[\"appointment_month\"].unique())\n",
    "# Total number of month\n",
    "nc_total_months = nc_c[\"appointment_month\"].nunique()\n",
    "# Total number of days\n",
    "nc_total_days = nc_c[\"appointment_date\"].nunique()\n",
    "# Total number of weeks\n",
    "nc_total_weeks = round(nc_total_days / 7)\n",
    "# Total number of weekends\n",
    "nc_c.loc[\n",
    "    (nc_c[\"appointment_date\"].dt.day_of_week == 5)\n",
    "    | (nc_c[\"appointment_date\"].dt.day_of_week == 6),\n",
    "    \"appointment_date\",\n",
    "].unique()\n",
    "nc_total_weekends = nc_c.loc[\n",
    "    (nc_c[\"appointment_date\"].dt.day_of_week == 5)\n",
    "    | (nc_c[\"appointment_date\"].dt.day_of_week == 6),\n",
    "    \"appointment_date\",\n",
    "].nunique()\n",
    "\n",
    "# Total number of weekdays\n",
    "nc_c.loc[\n",
    "    (nc_c[\"appointment_date\"].dt.day_of_week != 5)\n",
    "    & (nc_c[\"appointment_date\"].dt.day_of_week != 6),\n",
    "    \"appointment_date\",\n",
    "].unique()\n",
    "nc_total_weekdays = nc_c.loc[\n",
    "    (nc_c[\"appointment_date\"].dt.day_of_week != 5)\n",
    "    & (nc_c[\"appointment_date\"].dt.day_of_week != 6),\n",
    "    \"appointment_date\",\n",
    "].nunique()\n",
    "\n",
    "# Summary table: nc\n",
    "nc_time_totals_dict = {\n",
    "    \"Total months\": nc_total_months,\n",
    "    \"Total days\": nc_total_days,\n",
    "    \"Total weeks\": nc_total_weeks,\n",
    "    \"Total weekdays\": nc_total_weekdays,\n",
    "    \"Total weekends\": nc_total_weekends,\n",
    "}\n",
    "\n",
    "nc_time_table = pd.DataFrame(nc_time_totals_dict, index=[\"nc\"])\n",
    "display(nc_time_table)"
   ]
  },
  {
   "cell_type": "markdown",
   "metadata": {
    "jp-MarkdownHeadingCollapsed": true
   },
   "source": [
    "#### Ar: conversion dtypes, calendar totals per data set, table summary"
   ]
  },
  {
   "cell_type": "code",
   "execution_count": 11,
   "metadata": {},
   "outputs": [
    {
     "data": {
      "text/plain": [
       "icb_ons_code                         string[python]\n",
       "appointment_month                    string[python]\n",
       "appointment_status                   string[python]\n",
       "hcp_type                             string[python]\n",
       "appointment_mode                     string[python]\n",
       "time_between_book_and_appointment    string[python]\n",
       "count_of_appointments                         int64\n",
       "appointment_month_datetime           datetime64[ns]\n",
       "dtype: object"
      ]
     },
     "metadata": {},
     "output_type": "display_data"
    },
    {
     "data": {
      "text/plain": [
       "(596821, 7)"
      ]
     },
     "metadata": {},
     "output_type": "display_data"
    },
    {
     "data": {
      "text/plain": [
       "(596821, 8)"
      ]
     },
     "metadata": {},
     "output_type": "display_data"
    },
    {
     "data": {
      "text/html": [
       "<div>\n",
       "<style scoped>\n",
       "    .dataframe tbody tr th:only-of-type {\n",
       "        vertical-align: middle;\n",
       "    }\n",
       "\n",
       "    .dataframe tbody tr th {\n",
       "        vertical-align: top;\n",
       "    }\n",
       "\n",
       "    .dataframe thead th {\n",
       "        text-align: right;\n",
       "    }\n",
       "</style>\n",
       "<table border=\"1\" class=\"dataframe\">\n",
       "  <thead>\n",
       "    <tr style=\"text-align: right;\">\n",
       "      <th></th>\n",
       "      <th>icb_ons_code</th>\n",
       "      <th>appointment_month</th>\n",
       "      <th>appointment_status</th>\n",
       "      <th>hcp_type</th>\n",
       "      <th>appointment_mode</th>\n",
       "      <th>time_between_book_and_appointment</th>\n",
       "      <th>count_of_appointments</th>\n",
       "      <th>appointment_month_datetime</th>\n",
       "    </tr>\n",
       "  </thead>\n",
       "  <tbody>\n",
       "    <tr>\n",
       "      <th>0</th>\n",
       "      <td>E54000034</td>\n",
       "      <td>2020-01</td>\n",
       "      <td>Attended</td>\n",
       "      <td>GP</td>\n",
       "      <td>Face-to-Face</td>\n",
       "      <td>1 Day</td>\n",
       "      <td>8107</td>\n",
       "      <td>2020-01-01</td>\n",
       "    </tr>\n",
       "    <tr>\n",
       "      <th>1</th>\n",
       "      <td>E54000034</td>\n",
       "      <td>2020-01</td>\n",
       "      <td>Attended</td>\n",
       "      <td>GP</td>\n",
       "      <td>Face-to-Face</td>\n",
       "      <td>15  to 21 Days</td>\n",
       "      <td>6791</td>\n",
       "      <td>2020-01-01</td>\n",
       "    </tr>\n",
       "    <tr>\n",
       "      <th>2</th>\n",
       "      <td>E54000034</td>\n",
       "      <td>2020-01</td>\n",
       "      <td>Attended</td>\n",
       "      <td>GP</td>\n",
       "      <td>Face-to-Face</td>\n",
       "      <td>2 to 7 Days</td>\n",
       "      <td>20686</td>\n",
       "      <td>2020-01-01</td>\n",
       "    </tr>\n",
       "    <tr>\n",
       "      <th>3</th>\n",
       "      <td>E54000034</td>\n",
       "      <td>2020-01</td>\n",
       "      <td>Attended</td>\n",
       "      <td>GP</td>\n",
       "      <td>Face-to-Face</td>\n",
       "      <td>22  to 28 Days</td>\n",
       "      <td>4268</td>\n",
       "      <td>2020-01-01</td>\n",
       "    </tr>\n",
       "    <tr>\n",
       "      <th>4</th>\n",
       "      <td>E54000034</td>\n",
       "      <td>2020-01</td>\n",
       "      <td>Attended</td>\n",
       "      <td>GP</td>\n",
       "      <td>Face-to-Face</td>\n",
       "      <td>8  to 14 Days</td>\n",
       "      <td>11971</td>\n",
       "      <td>2020-01-01</td>\n",
       "    </tr>\n",
       "  </tbody>\n",
       "</table>\n",
       "</div>"
      ],
      "text/plain": [
       "  icb_ons_code appointment_month appointment_status hcp_type appointment_mode  \\\n",
       "0    E54000034           2020-01           Attended       GP     Face-to-Face   \n",
       "1    E54000034           2020-01           Attended       GP     Face-to-Face   \n",
       "2    E54000034           2020-01           Attended       GP     Face-to-Face   \n",
       "3    E54000034           2020-01           Attended       GP     Face-to-Face   \n",
       "4    E54000034           2020-01           Attended       GP     Face-to-Face   \n",
       "\n",
       "  time_between_book_and_appointment  count_of_appointments  \\\n",
       "0                             1 Day                   8107   \n",
       "1                    15  to 21 Days                   6791   \n",
       "2                       2 to 7 Days                  20686   \n",
       "3                    22  to 28 Days                   4268   \n",
       "4                     8  to 14 Days                  11971   \n",
       "\n",
       "  appointment_month_datetime  \n",
       "0                 2020-01-01  \n",
       "1                 2020-01-01  \n",
       "2                 2020-01-01  \n",
       "3                 2020-01-01  \n",
       "4                 2020-01-01  "
      ]
     },
     "execution_count": 11,
     "metadata": {},
     "output_type": "execute_result"
    }
   ],
   "source": [
    "# AR time series conversion\n",
    "\n",
    "# Make copy\n",
    "ar_c = ar.copy()\n",
    "# Check dtypes\n",
    "ar_c.dtypes\n",
    "# Convert columns to correct dtype\n",
    "ar_c = ar_c[\n",
    "    [\n",
    "        \"icb_ons_code\",\n",
    "        \"appointment_month\",\n",
    "        \"appointment_status\",\n",
    "        \"hcp_type\",\n",
    "        \"appointment_mode\",\n",
    "        \"time_between_book_and_appointment\",\n",
    "    ]\n",
    "].convert_dtypes(convert_string=True)\n",
    "\n",
    "# Add missing column from original\n",
    "ar_c[\"count_of_appointments\"] = ar[\"count_of_appointments\"]\n",
    "ar_c[\"appointment_month_datetime\"] = pd.to_datetime(\n",
    "    ar_c[\"appointment_month\"], format=\"%Y-%m\", exact=True\n",
    ")\n",
    "# Check\n",
    "display(ar_c.dtypes)\n",
    "\n",
    "# Verify original still valid\n",
    "display(ar.shape)\n",
    "display(ar_c.shape)\n",
    "\n",
    "ar_c.head()"
   ]
  },
  {
   "cell_type": "code",
   "execution_count": 12,
   "metadata": {},
   "outputs": [
    {
     "data": {
      "text/plain": [
       "'2020-01'"
      ]
     },
     "metadata": {},
     "output_type": "display_data"
    },
    {
     "data": {
      "text/plain": [
       "'2022-06'"
      ]
     },
     "metadata": {},
     "output_type": "display_data"
    },
    {
     "data": {
      "text/plain": [
       "30"
      ]
     },
     "metadata": {},
     "output_type": "display_data"
    },
    {
     "data": {
      "text/plain": [
       "icb_ons_code                         string[python]\n",
       "appointment_month                    string[python]\n",
       "appointment_status                   string[python]\n",
       "hcp_type                             string[python]\n",
       "appointment_mode                     string[python]\n",
       "time_between_book_and_appointment    string[python]\n",
       "count_of_appointments                         int64\n",
       "appointment_month_datetime           datetime64[ns]\n",
       "dtype: object"
      ]
     },
     "metadata": {},
     "output_type": "display_data"
    },
    {
     "data": {
      "text/plain": [
       "0         1\n",
       "1         1\n",
       "2         1\n",
       "3         1\n",
       "4         1\n",
       "         ..\n",
       "596816    1\n",
       "596817    1\n",
       "596818    1\n",
       "596819    1\n",
       "596820    1\n",
       "Name: appointment_month_datetime, Length: 596821, dtype: int32"
      ]
     },
     "metadata": {},
     "output_type": "display_data"
    },
    {
     "data": {
      "text/plain": [
       "2.5"
      ]
     },
     "metadata": {},
     "output_type": "display_data"
    },
    {
     "data": {
      "text/plain": [
       "array([31, 29, 30, 28], dtype=int32)"
      ]
     },
     "metadata": {},
     "output_type": "display_data"
    },
    {
     "data": {
      "text/plain": [
       "17.5"
      ]
     },
     "metadata": {},
     "output_type": "display_data"
    },
    {
     "data": {
      "text/plain": [
       "12.5"
      ]
     },
     "metadata": {},
     "output_type": "display_data"
    },
    {
     "data": {
      "text/plain": [
       "Timestamp('2022-06-01 00:00:00')"
      ]
     },
     "metadata": {},
     "output_type": "display_data"
    },
    {
     "data": {
      "text/plain": [
       "Timestamp('2020-01-01 00:00:00')"
      ]
     },
     "metadata": {},
     "output_type": "display_data"
    },
    {
     "data": {
      "text/plain": [
       "171"
      ]
     },
     "metadata": {},
     "output_type": "display_data"
    },
    {
     "data": {
      "text/plain": [
       "123"
      ]
     },
     "metadata": {},
     "output_type": "display_data"
    },
    {
     "data": {
      "text/plain": [
       "5"
      ]
     },
     "metadata": {},
     "output_type": "display_data"
    }
   ],
   "source": [
    "# Experimenting\n",
    "# Period of ar\n",
    "display(ar_c[\"appointment_month\"].min())\n",
    "display(ar_c[\"appointment_month\"].max())\n",
    "\n",
    "# Number of months\n",
    "display(ar_c[\"appointment_month\"].nunique())\n",
    "\n",
    "# Number of days\n",
    "# Create datetime month\n",
    "ar_c[\"appointment_month_datetime\"] = pd.to_datetime(\n",
    "    ar_c[\"appointment_month\"], format=\"%Y-%m\", exact=True\n",
    ")\n",
    "\n",
    "# Check\n",
    "display(ar_c.dtypes)\n",
    "\n",
    "# Number of days\n",
    "# display(ar_c.groupby(['appointment_month_datetime'].dt.day)['appointment_month_datetime'].count())\n",
    "display(ar_c[\"appointment_month_datetime\"].dt.day)\n",
    "display(30 / 12)  # number of year\n",
    "display(\n",
    "    ar_c[\"appointment_month_datetime\"].dt.days_in_month.unique()\n",
    ")  # days within period\n",
    "display((30 / 12) * 7)  # manually calculate number of months with 31\n",
    "display((30 / 12) * 5)  # manually calculate number of months with 30 (exclude feb)\n",
    "# check range of data set ar\n",
    "display(ar_c[\"appointment_month_datetime\"].max())\n",
    "display(ar_c[\"appointment_month_datetime\"].min())\n",
    "\n",
    "# manual cal\n",
    "display((24 * 7) + 3)  # 31\n",
    "display((24 * 5) + 3)  # 30\n",
    "display(((2 * 3) - 1))  # 28 correction for feb and leap year\n",
    "\n",
    "# actual calculate assuming finished 1st of June 2022 (else +30)\n",
    "(171 + 123) - 5  # actual number of days depending on metadata\n",
    "\n",
    "# ar_total_days = ((7+7+3) * 31) + ((5+5+3) * 30) - (2+2+1) # includes leap year and june 30 days\n",
    "ar_check_days = ((7 + 7 + 3) * 31) + (\n",
    "    (5 + 5 + 2) * 30\n",
    ")  # excludes leap year and june 30 days\n",
    "ar_check_days = ar_check_days - (\n",
    "    2 + 2 + 1\n",
    ")  # includes leap year and excludes june 30 days /june 1st"
   ]
  },
  {
   "cell_type": "code",
   "execution_count": 13,
   "metadata": {},
   "outputs": [
    {
     "data": {
      "text/plain": [
       "<StringArray>\n",
       "['2020-01', '2020-02', '2020-03', '2020-04', '2020-05', '2020-06', '2020-07',\n",
       " '2020-08', '2020-09', '2020-10', '2020-11', '2020-12', '2021-01', '2021-02',\n",
       " '2021-03', '2021-04', '2021-05', '2021-06', '2021-07', '2021-08', '2021-09',\n",
       " '2021-10', '2021-11', '2021-12', '2022-01', '2022-02', '2022-03', '2022-04',\n",
       " '2022-05', '2022-06']\n",
       "Length: 30, dtype: string"
      ]
     },
     "metadata": {},
     "output_type": "display_data"
    },
    {
     "data": {
      "text/plain": [
       "30"
      ]
     },
     "metadata": {},
     "output_type": "display_data"
    },
    {
     "data": {
      "text/plain": [
       "<DatetimeArray>\n",
       "['2020-01-01 00:00:00', '2020-02-01 00:00:00', '2020-03-01 00:00:00',\n",
       " '2020-04-01 00:00:00', '2020-05-01 00:00:00', '2020-06-01 00:00:00',\n",
       " '2020-07-01 00:00:00', '2020-08-01 00:00:00', '2020-09-01 00:00:00',\n",
       " '2020-10-01 00:00:00', '2020-11-01 00:00:00', '2020-12-01 00:00:00',\n",
       " '2021-01-01 00:00:00', '2021-02-01 00:00:00', '2021-03-01 00:00:00',\n",
       " '2021-04-01 00:00:00', '2021-05-01 00:00:00', '2021-06-01 00:00:00',\n",
       " '2021-07-01 00:00:00', '2021-08-01 00:00:00', '2021-09-01 00:00:00',\n",
       " '2021-10-01 00:00:00', '2021-11-01 00:00:00', '2021-12-01 00:00:00',\n",
       " '2022-01-01 00:00:00', '2022-02-01 00:00:00', '2022-03-01 00:00:00',\n",
       " '2022-04-01 00:00:00', '2022-05-01 00:00:00', '2022-06-01 00:00:00']\n",
       "Length: 30, dtype: datetime64[ns]"
      ]
     },
     "metadata": {},
     "output_type": "display_data"
    },
    {
     "data": {
      "text/html": [
       "<div>\n",
       "<style scoped>\n",
       "    .dataframe tbody tr th:only-of-type {\n",
       "        vertical-align: middle;\n",
       "    }\n",
       "\n",
       "    .dataframe tbody tr th {\n",
       "        vertical-align: top;\n",
       "    }\n",
       "\n",
       "    .dataframe thead th {\n",
       "        text-align: right;\n",
       "    }\n",
       "</style>\n",
       "<table border=\"1\" class=\"dataframe\">\n",
       "  <thead>\n",
       "    <tr style=\"text-align: right;\">\n",
       "      <th></th>\n",
       "      <th>Total months</th>\n",
       "      <th>Total days</th>\n",
       "      <th>Total weeks</th>\n",
       "      <th>Total weekdays</th>\n",
       "      <th>Total weekends</th>\n",
       "    </tr>\n",
       "  </thead>\n",
       "  <tbody>\n",
       "    <tr>\n",
       "      <th>ar</th>\n",
       "      <td>30</td>\n",
       "      <td>882</td>\n",
       "      <td>126</td>\n",
       "      <td>22</td>\n",
       "      <td>8</td>\n",
       "    </tr>\n",
       "  </tbody>\n",
       "</table>\n",
       "</div>"
      ],
      "text/plain": [
       "    Total months  Total days  Total weeks  Total weekdays  Total weekends\n",
       "ar            30         882          126              22               8"
      ]
     },
     "metadata": {},
     "output_type": "display_data"
    }
   ],
   "source": [
    "# Total number of months and days\n",
    "\n",
    "# Approach: nunique\n",
    "display(ar_c[\"appointment_month\"].unique())\n",
    "# Total number of month\n",
    "ar_total_months = ar_c[\"appointment_month\"].nunique()\n",
    "display(ar_total_months)\n",
    "# Total number of days\n",
    "ar_total_days = ar_check_days\n",
    "display(ar_c[\"appointment_month_datetime\"].unique())\n",
    "# Total number of weeks\n",
    "ar_total_weeks = round(ar_total_days / 7)\n",
    "# Total number of weekends\n",
    "ar_c.loc[\n",
    "    (ar_c[\"appointment_month_datetime\"].dt.day_of_week == 5)\n",
    "    | (ar_c[\"appointment_month_datetime\"].dt.day_of_week == 6),\n",
    "    \"appointment_month_datetime\",\n",
    "].unique()\n",
    "ar_total_weekends = ar_c.loc[\n",
    "    (ar_c[\"appointment_month_datetime\"].dt.day_of_week == 5)\n",
    "    | (ar_c[\"appointment_month_datetime\"].dt.day_of_week == 6),\n",
    "    \"appointment_month_datetime\",\n",
    "].nunique()\n",
    "\n",
    "# Total number of weekdays\n",
    "ar_c.loc[\n",
    "    (ar_c[\"appointment_month_datetime\"].dt.day_of_week != 5)\n",
    "    & (ar_c[\"appointment_month_datetime\"].dt.day_of_week != 6),\n",
    "    \"appointment_month_datetime\",\n",
    "].unique()\n",
    "ar_total_weekdays = ar_c.loc[\n",
    "    (ar_c[\"appointment_month_datetime\"].dt.day_of_week != 5)\n",
    "    & (ar_c[\"appointment_month_datetime\"].dt.day_of_week != 6),\n",
    "    \"appointment_month_datetime\",\n",
    "].nunique()\n",
    "\n",
    "# Summary table: nc\n",
    "ar_time_totals_dict = {\n",
    "    \"Total months\": ar_total_months,\n",
    "    \"Total days\": ar_total_days,\n",
    "    \"Total weeks\": ar_total_weeks,\n",
    "    \"Total weekdays\": ar_total_weekdays,\n",
    "    \"Total weekends\": ar_total_weekends,\n",
    "}\n",
    "# Create table\n",
    "ar_time_table = pd.DataFrame(ar_time_totals_dict, index=[\"ar\"])\n",
    "display(ar_time_table)"
   ]
  },
  {
   "cell_type": "markdown",
   "metadata": {},
   "source": [
    "Insights:\n",
    "\n",
    "      - the datetime conversion will automatically put 01 at the end of every month: weekend, weekday, days become useless since the data does not represent moment of appointment\n",
    "      - it means that counts only value with and cannot be used as a generator of sequencial values like method range\n",
    "      - would have never noticed without manual verification and proceed with user-define functions (assumptions)\n",
    "      - table reflect actual data found in dataset\n",
    "      - with time series always perculiar because of changes: leap year its 366 days, thanksgiving 3rd thursday of the month not specific day\n",
    "      - time series analysis: months consistent within year beware of days is it inclusive or exclusive like indexing in python in a list or subsetting in pandas"
   ]
  },
  {
   "cell_type": "code",
   "execution_count": 12,
   "metadata": {},
   "outputs": [
    {
     "name": "stdout",
     "output_type": "stream",
     "text": [
      "2020-01\n",
      "2022-06\n",
      "0         False\n",
      "1         False\n",
      "2         False\n",
      "3         False\n",
      "4         False\n",
      "          ...  \n",
      "596816     True\n",
      "596817     True\n",
      "596818     True\n",
      "596819     True\n",
      "596820     True\n",
      "Name: appointment_month_datetime, Length: 596821, dtype: bool\n",
      "0       31\n",
      "189     29\n",
      "581     30\n",
      "2508    28\n",
      "Name: appointment_month_datetime, dtype: int32\n",
      "4.333333333333333\n",
      "129.9\n",
      "912.5\n"
     ]
    }
   ],
   "source": [
    "# Experimentation:\n",
    "\n",
    "# Number \n",
    "print(ar_c['appointment_month'].min())\n",
    "print(ar_c['appointment_month'].max())\n",
    "print(ar_c['appointment_month_datetime'] == '2022-06-01')\n",
    "print(ar_c['appointment_month_datetime'].dt.days_in_month.drop_duplicates()) # remove duplicate\n",
    "# print(ar_c['appointment_month'].mask())\n",
    "\n",
    "print(52/12)\n",
    "print(4.33 * 30)  # alternative method to calculating the weeks\n",
    "print(365 * 2.5)  # alternative method to calculating the days \n",
    "\n",
    "# Insight:\n",
    "# - .dt + .days/.month/. + datetime conversion time tells you the number of data points within the data set\n",
    "# - error commited using it to create total table - actuallity its the count of different range "
   ]
  },
  {
   "cell_type": "markdown",
   "metadata": {
    "jp-MarkdownHeadingCollapsed": true
   },
   "source": [
    "#### Ad: conversion dtypes, calendar totals, table summary "
   ]
  },
  {
   "cell_type": "code",
   "execution_count": 14,
   "metadata": {},
   "outputs": [
    {
     "data": {
      "text/plain": [
       "(137793, 8)"
      ]
     },
     "metadata": {},
     "output_type": "display_data"
    },
    {
     "data": {
      "text/plain": [
       "sub_icb_location_code        object\n",
       "sub_icb_location_ons_code    object\n",
       "sub_icb_location_name        object\n",
       "icb_ons_code                 object\n",
       "region_ons_code              object\n",
       "appointment_date             object\n",
       "actual_duration              object\n",
       "count_of_appointments         int64\n",
       "dtype: object"
      ]
     },
     "metadata": {},
     "output_type": "display_data"
    },
    {
     "data": {
      "text/plain": [
       "(137793, 8)"
      ]
     },
     "metadata": {},
     "output_type": "display_data"
    },
    {
     "data": {
      "text/plain": [
       "sub_icb_location_code        string[python]\n",
       "sub_icb_location_ons_code    string[python]\n",
       "sub_icb_location_name        string[python]\n",
       "icb_ons_code                 string[python]\n",
       "region_ons_code              string[python]\n",
       "actual_duration              string[python]\n",
       "count_of_appointments                 int64\n",
       "appointment_date             datetime64[ns]\n",
       "dtype: object"
      ]
     },
     "metadata": {},
     "output_type": "display_data"
    },
    {
     "data": {
      "text/html": [
       "<div>\n",
       "<style scoped>\n",
       "    .dataframe tbody tr th:only-of-type {\n",
       "        vertical-align: middle;\n",
       "    }\n",
       "\n",
       "    .dataframe tbody tr th {\n",
       "        vertical-align: top;\n",
       "    }\n",
       "\n",
       "    .dataframe thead th {\n",
       "        text-align: right;\n",
       "    }\n",
       "</style>\n",
       "<table border=\"1\" class=\"dataframe\">\n",
       "  <thead>\n",
       "    <tr style=\"text-align: right;\">\n",
       "      <th></th>\n",
       "      <th>sub_icb_location_code</th>\n",
       "      <th>sub_icb_location_ons_code</th>\n",
       "      <th>sub_icb_location_name</th>\n",
       "      <th>icb_ons_code</th>\n",
       "      <th>region_ons_code</th>\n",
       "      <th>actual_duration</th>\n",
       "      <th>count_of_appointments</th>\n",
       "      <th>appointment_date</th>\n",
       "    </tr>\n",
       "  </thead>\n",
       "  <tbody>\n",
       "    <tr>\n",
       "      <th>0</th>\n",
       "      <td>00L</td>\n",
       "      <td>E38000130</td>\n",
       "      <td>NHS North East and North Cumbria ICB - 00L</td>\n",
       "      <td>E54000050</td>\n",
       "      <td>E40000012</td>\n",
       "      <td>31-60 Minutes</td>\n",
       "      <td>364</td>\n",
       "      <td>2021-12-01</td>\n",
       "    </tr>\n",
       "    <tr>\n",
       "      <th>1</th>\n",
       "      <td>00L</td>\n",
       "      <td>E38000130</td>\n",
       "      <td>NHS North East and North Cumbria ICB - 00L</td>\n",
       "      <td>E54000050</td>\n",
       "      <td>E40000012</td>\n",
       "      <td>21-30 Minutes</td>\n",
       "      <td>619</td>\n",
       "      <td>2021-12-01</td>\n",
       "    </tr>\n",
       "    <tr>\n",
       "      <th>2</th>\n",
       "      <td>00L</td>\n",
       "      <td>E38000130</td>\n",
       "      <td>NHS North East and North Cumbria ICB - 00L</td>\n",
       "      <td>E54000050</td>\n",
       "      <td>E40000012</td>\n",
       "      <td>6-10 Minutes</td>\n",
       "      <td>1698</td>\n",
       "      <td>2021-12-01</td>\n",
       "    </tr>\n",
       "    <tr>\n",
       "      <th>3</th>\n",
       "      <td>00L</td>\n",
       "      <td>E38000130</td>\n",
       "      <td>NHS North East and North Cumbria ICB - 00L</td>\n",
       "      <td>E54000050</td>\n",
       "      <td>E40000012</td>\n",
       "      <td>Unknown / Data Quality</td>\n",
       "      <td>1277</td>\n",
       "      <td>2021-12-01</td>\n",
       "    </tr>\n",
       "    <tr>\n",
       "      <th>4</th>\n",
       "      <td>00L</td>\n",
       "      <td>E38000130</td>\n",
       "      <td>NHS North East and North Cumbria ICB - 00L</td>\n",
       "      <td>E54000050</td>\n",
       "      <td>E40000012</td>\n",
       "      <td>16-20 Minutes</td>\n",
       "      <td>730</td>\n",
       "      <td>2021-12-01</td>\n",
       "    </tr>\n",
       "  </tbody>\n",
       "</table>\n",
       "</div>"
      ],
      "text/plain": [
       "  sub_icb_location_code sub_icb_location_ons_code  \\\n",
       "0                   00L                 E38000130   \n",
       "1                   00L                 E38000130   \n",
       "2                   00L                 E38000130   \n",
       "3                   00L                 E38000130   \n",
       "4                   00L                 E38000130   \n",
       "\n",
       "                        sub_icb_location_name icb_ons_code region_ons_code  \\\n",
       "0  NHS North East and North Cumbria ICB - 00L    E54000050       E40000012   \n",
       "1  NHS North East and North Cumbria ICB - 00L    E54000050       E40000012   \n",
       "2  NHS North East and North Cumbria ICB - 00L    E54000050       E40000012   \n",
       "3  NHS North East and North Cumbria ICB - 00L    E54000050       E40000012   \n",
       "4  NHS North East and North Cumbria ICB - 00L    E54000050       E40000012   \n",
       "\n",
       "          actual_duration  count_of_appointments appointment_date  \n",
       "0           31-60 Minutes                    364       2021-12-01  \n",
       "1           21-30 Minutes                    619       2021-12-01  \n",
       "2            6-10 Minutes                   1698       2021-12-01  \n",
       "3  Unknown / Data Quality                   1277       2021-12-01  \n",
       "4           16-20 Minutes                    730       2021-12-01  "
      ]
     },
     "metadata": {},
     "output_type": "display_data"
    }
   ],
   "source": [
    "# Time series conversion\n",
    "# Copy\n",
    "ad_c = ad.copy()\n",
    "\n",
    "# Dtype + shape\n",
    "display(ad_c.shape)\n",
    "display(ad_c.dtypes)\n",
    "\n",
    "# Convert object to str\n",
    "ad_c = ad_c[\n",
    "    [\n",
    "        \"sub_icb_location_code\",\n",
    "        \"sub_icb_location_ons_code\",\n",
    "        \"sub_icb_location_name\",\n",
    "        \"icb_ons_code\",\n",
    "        \"region_ons_code\",\n",
    "        \"actual_duration\",\n",
    "    ]\n",
    "].convert_dtypes(convert_string=True)\n",
    "# Restore numeric\n",
    "ad_c[\"count_of_appointments\"] = ad[\"count_of_appointments\"]\n",
    "ad_c[\"appointment_date\"] = pd.to_datetime(ad[\"appointment_date\"], format=\"mixed\")\n",
    "\n",
    "# Check everything done as expected\n",
    "display(ad_c.shape)\n",
    "display(ad_c.dtypes)\n",
    "display(ad_c.head())"
   ]
  },
  {
   "cell_type": "code",
   "execution_count": 15,
   "metadata": {},
   "outputs": [
    {
     "data": {
      "text/plain": [
       "Timestamp('2021-12-01 00:00:00')"
      ]
     },
     "metadata": {},
     "output_type": "display_data"
    },
    {
     "data": {
      "text/plain": [
       "Timestamp('2022-06-30 00:00:00')"
      ]
     },
     "metadata": {},
     "output_type": "display_data"
    },
    {
     "data": {
      "text/plain": [
       "212"
      ]
     },
     "metadata": {},
     "output_type": "display_data"
    },
    {
     "data": {
      "text/plain": [
       "<DatetimeArray>\n",
       "['2021-12-01 00:00:00', '2021-12-02 00:00:00', '2021-12-03 00:00:00',\n",
       " '2021-12-04 00:00:00', '2021-12-06 00:00:00', '2021-12-07 00:00:00',\n",
       " '2021-12-08 00:00:00', '2021-12-09 00:00:00', '2021-12-10 00:00:00',\n",
       " '2021-12-11 00:00:00',\n",
       " ...\n",
       " '2022-02-06 00:00:00', '2022-02-13 00:00:00', '2022-02-20 00:00:00',\n",
       " '2022-03-06 00:00:00', '2022-04-24 00:00:00', '2021-12-26 00:00:00',\n",
       " '2022-04-03 00:00:00', '2022-04-17 00:00:00', '2022-05-01 00:00:00',\n",
       " '2022-05-15 00:00:00']\n",
       "Length: 212, dtype: datetime64[ns]"
      ]
     },
     "metadata": {},
     "output_type": "display_data"
    }
   ],
   "source": [
    "# Total number of months and days, weeks, weekdays, and weekend\n",
    "\n",
    "# Range of time frame\n",
    "display(ad_c[\"appointment_date\"].min())\n",
    "display(ad_c[\"appointment_date\"].max())\n",
    "# Insight: 7 months timeframe - [should include in date for each date set smart idea]\n",
    "\n",
    "\n",
    "# Approach: nunique\n",
    "display(ad_c[\"appointment_date\"].nunique())  # 212 unique dates available in the dataset\n",
    "display(ad_c[\"appointment_date\"].unique())  # 212 unique dates available in the dataset"
   ]
  },
  {
   "cell_type": "code",
   "execution_count": 16,
   "metadata": {},
   "outputs": [
    {
     "data": {
      "text/plain": [
       "7"
      ]
     },
     "metadata": {},
     "output_type": "display_data"
    },
    {
     "data": {
      "text/plain": [
       "array([12,  1,  2,  3,  4,  5,  6], dtype=int32)"
      ]
     },
     "metadata": {},
     "output_type": "display_data"
    },
    {
     "data": {
      "text/plain": [
       "array([31, 28, 30], dtype=int32)"
      ]
     },
     "metadata": {},
     "output_type": "display_data"
    },
    {
     "data": {
      "text/plain": [
       "True"
      ]
     },
     "metadata": {},
     "output_type": "display_data"
    }
   ],
   "source": [
    "# Manually calculate total days based on period and then compare with the unique data set above\n",
    "\n",
    "# Total number of month\n",
    "display(\n",
    "    ad_c[\"appointment_date\"].dt.month.nunique()\n",
    ")  # total number of month - include last month since its specified 30th june\n",
    "display(\n",
    "    ad_c[\"appointment_date\"].dt.month.unique()\n",
    ")  # allows user to know exactly which month to determine exact days per month\n",
    "display(\n",
    "    ad_c[\"appointment_date\"].dt.days_in_month.unique()\n",
    ")  # feb 28th day - helps determine exact total days versus occurances in data\n",
    "# Create variable\n",
    "ad_total_months = ad_c[\"appointment_date\"].dt.month.nunique()  # solved and stored\n",
    "\n",
    "\n",
    "# Total number of days\n",
    "ad_total_days = ad_c[\"appointment_date\"].nunique()\n",
    "ad_check_days = (\n",
    "    (31 * 4) + (30 * 2) + (28 * 1)\n",
    ")  # four months have 31 days, two months have 30 days, and one month has 28 days\n",
    "# Verified calculation was done correctly\n",
    "display(ad_total_days == ad_check_days)"
   ]
  },
  {
   "cell_type": "code",
   "execution_count": 17,
   "metadata": {},
   "outputs": [
    {
     "data": {
      "text/html": [
       "<div>\n",
       "<style scoped>\n",
       "    .dataframe tbody tr th:only-of-type {\n",
       "        vertical-align: middle;\n",
       "    }\n",
       "\n",
       "    .dataframe tbody tr th {\n",
       "        vertical-align: top;\n",
       "    }\n",
       "\n",
       "    .dataframe thead th {\n",
       "        text-align: right;\n",
       "    }\n",
       "</style>\n",
       "<table border=\"1\" class=\"dataframe\">\n",
       "  <thead>\n",
       "    <tr style=\"text-align: right;\">\n",
       "      <th></th>\n",
       "      <th>Total months</th>\n",
       "      <th>Total days</th>\n",
       "      <th>Total weeks</th>\n",
       "      <th>Total weekdays</th>\n",
       "      <th>Total weekends</th>\n",
       "    </tr>\n",
       "  </thead>\n",
       "  <tbody>\n",
       "    <tr>\n",
       "      <th>ad</th>\n",
       "      <td>7</td>\n",
       "      <td>212</td>\n",
       "      <td>30</td>\n",
       "      <td>152</td>\n",
       "      <td>60</td>\n",
       "    </tr>\n",
       "  </tbody>\n",
       "</table>\n",
       "</div>"
      ],
      "text/plain": [
       "    Total months  Total days  Total weeks  Total weekdays  Total weekends\n",
       "ad             7         212           30             152              60"
      ]
     },
     "execution_count": 17,
     "metadata": {},
     "output_type": "execute_result"
    }
   ],
   "source": [
    "# Total number of weeks\n",
    "ad_total_weeks = round(ad_total_days / 7)\n",
    "\n",
    "\n",
    "# Total number of weekends\n",
    "ad_c.loc[\n",
    "    (ad_c[\"appointment_date\"].dt.day_of_week == 5)\n",
    "    | (ad_c[\"appointment_date\"].dt.day_of_week == 6),\n",
    "    \"appointment_date\",\n",
    "].unique()\n",
    "# Create variable\n",
    "ad_total_weekends = ad_c.loc[\n",
    "    (ad_c[\"appointment_date\"].dt.day_of_week == 5)\n",
    "    | (ad_c[\"appointment_date\"].dt.day_of_week == 6),\n",
    "    \"appointment_date\",\n",
    "].nunique()\n",
    "\n",
    "# Total number of weekdays\n",
    "ad_c.loc[\n",
    "    (nc_c[\"appointment_date\"].dt.day_of_week != 5)\n",
    "    & (ad_c[\"appointment_date\"].dt.day_of_week != 6),\n",
    "    \"appointment_date\",\n",
    "].unique()\n",
    "ad_total_weekdays = ad_c.loc[\n",
    "    (ad_c[\"appointment_date\"].dt.day_of_week != 5)\n",
    "    & (ad_c[\"appointment_date\"].dt.day_of_week != 6),\n",
    "    \"appointment_date\",\n",
    "].nunique()\n",
    "\n",
    "# Summary table: ad\n",
    "ad_time_totals_dict = {\n",
    "    \"Total months\": ad_total_months,\n",
    "    \"Total days\": ad_total_days,\n",
    "    \"Total weeks\": ad_total_weeks,\n",
    "    \"Total weekdays\": ad_total_weekdays,\n",
    "    \"Total weekends\": ad_total_weekends,\n",
    "}\n",
    "# Create table\n",
    "ad_time_table = pd.DataFrame(ad_time_totals_dict, index=[\"ad\"])\n",
    "# See table\n",
    "ad_time_table"
   ]
  },
  {
   "cell_type": "markdown",
   "metadata": {
    "jp-MarkdownHeadingCollapsed": true
   },
   "source": [
    "#### Fixed ar_time_table - constant variable based on original ar data set\n",
    "- Lesson learned"
   ]
  },
  {
   "cell_type": "code",
   "execution_count": 25,
   "metadata": {},
   "outputs": [
    {
     "name": "stdout",
     "output_type": "stream",
     "text": [
      "Total number of months in ar: 30\n",
      "Total number of years in ar: 2.5\n",
      "Total number of weeks in ar: 11\n",
      "Total number of days in ar: 912\n"
     ]
    }
   ],
   "source": [
    "# Fixing error - from previous  ar_time_table\n",
    "# Total time variable based on period of collection in this case 2 years and 6 month assuming 30 days\n",
    "\n",
    "\n",
    "# Months - approach use appointment month to derive the rest of scale\n",
    "ar_total_months2 = ar[\"appointment_month\"].nunique()\n",
    "# Check\n",
    "print(\n",
    "    f\"Total number of months in ar: {ar_total_months2}\"\n",
    ")  # 30 returns meaning it assumes that 2022-06 has 30 days included in the calculation\n",
    "\n",
    "# Years\n",
    "ar_total_years = ar_total_months2 / 12\n",
    "# Check years\n",
    "print(f\"Total number of years in ar: {ar_total_years}\")\n",
    "\n",
    "# Weeks\n",
    "ar_total_weeks2 = round((52 / 12) * (ar_total_years))  # rounded up from 10.83\n",
    "# Check\n",
    "print(f\"Total number of weeks in ar: {ar_total_weeks2}\")\n",
    "\n",
    "\n",
    "# Days - 365 days in years more reliable than months\n",
    "ar_total_days2 = round(ar_total_years * 365)\n",
    "# Check\n",
    "print(f\"Total number of days in ar: {ar_total_days2}\")"
   ]
  },
  {
   "cell_type": "code",
   "execution_count": 19,
   "metadata": {},
   "outputs": [
    {
     "name": "stdout",
     "output_type": "stream",
     "text": [
      "Represents total time based on original timeframe\n"
     ]
    },
    {
     "data": {
      "text/html": [
       "<div>\n",
       "<style scoped>\n",
       "    .dataframe tbody tr th:only-of-type {\n",
       "        vertical-align: middle;\n",
       "    }\n",
       "\n",
       "    .dataframe tbody tr th {\n",
       "        vertical-align: top;\n",
       "    }\n",
       "\n",
       "    .dataframe thead th {\n",
       "        text-align: right;\n",
       "    }\n",
       "</style>\n",
       "<table border=\"1\" class=\"dataframe\">\n",
       "  <thead>\n",
       "    <tr style=\"text-align: right;\">\n",
       "      <th></th>\n",
       "      <th>Total months</th>\n",
       "      <th>Total days</th>\n",
       "      <th>Total weeks</th>\n",
       "    </tr>\n",
       "  </thead>\n",
       "  <tbody>\n",
       "    <tr>\n",
       "      <th>ar</th>\n",
       "      <td>30</td>\n",
       "      <td>882</td>\n",
       "      <td>126</td>\n",
       "    </tr>\n",
       "  </tbody>\n",
       "</table>\n",
       "</div>"
      ],
      "text/plain": [
       "    Total months  Total days  Total weeks\n",
       "ar            30         882          126"
      ]
     },
     "metadata": {},
     "output_type": "display_data"
    }
   ],
   "source": [
    "# Create dict\n",
    "ar_time_totals_dict2 = {\n",
    "    \"Total months\": ar_total_months,\n",
    "    \"Total days\": ar_total_days,\n",
    "    \"Total weeks\": ar_total_weeks,\n",
    "}\n",
    "\n",
    "# Create tabular summary for time\n",
    "ar_time_table2 = pd.DataFrame(ar_time_totals_dict2, index=[\"ar\"])\n",
    "\n",
    "# Check tabular summary\n",
    "print(f\"Represents total time based on original timeframe\")\n",
    "display(ar_time_table2)"
   ]
  },
  {
   "cell_type": "code",
   "execution_count": 19,
   "metadata": {},
   "outputs": [
    {
     "name": "stdout",
     "output_type": "stream",
     "text": [
      "Index(['icb_ons_code', 'appointment_month', 'appointment_status', 'hcp_type',\n",
      "       'appointment_mode', 'time_between_book_and_appointment',\n",
      "       'count_of_appointments', 'appointment_month_datetime'],\n",
      "      dtype='object')\n"
     ]
    }
   ],
   "source": [
    "# Lesson learned\n",
    "print(ar_c.columns)  # does not have days or weeks for specific count"
   ]
  },
  {
   "cell_type": "markdown",
   "metadata": {
    "jp-MarkdownHeadingCollapsed": true
   },
   "source": [
    "### 2.3. Missing Data"
   ]
  },
  {
   "cell_type": "code",
   "execution_count": 26,
   "metadata": {},
   "outputs": [
    {
     "data": {
      "text/html": [
       "<div>\n",
       "<style scoped>\n",
       "    .dataframe tbody tr th:only-of-type {\n",
       "        vertical-align: middle;\n",
       "    }\n",
       "\n",
       "    .dataframe tbody tr th {\n",
       "        vertical-align: top;\n",
       "    }\n",
       "\n",
       "    .dataframe thead th {\n",
       "        text-align: right;\n",
       "    }\n",
       "</style>\n",
       "<table border=\"1\" class=\"dataframe\">\n",
       "  <thead>\n",
       "    <tr style=\"text-align: right;\">\n",
       "      <th></th>\n",
       "      <th>data_sources</th>\n",
       "      <th>number of columns</th>\n",
       "      <th>number of observations</th>\n",
       "      <th>number of NAN</th>\n",
       "      <th>number of categorical variables</th>\n",
       "      <th>number of numerical variables</th>\n",
       "    </tr>\n",
       "  </thead>\n",
       "  <tbody>\n",
       "    <tr>\n",
       "      <th>0</th>\n",
       "      <td>nc</td>\n",
       "      <td>8</td>\n",
       "      <td>817394</td>\n",
       "      <td>0</td>\n",
       "      <td>5</td>\n",
       "      <td>1</td>\n",
       "    </tr>\n",
       "    <tr>\n",
       "      <th>1</th>\n",
       "      <td>ar</td>\n",
       "      <td>7</td>\n",
       "      <td>596821</td>\n",
       "      <td>0</td>\n",
       "      <td>6</td>\n",
       "      <td>1</td>\n",
       "    </tr>\n",
       "    <tr>\n",
       "      <th>2</th>\n",
       "      <td>ad</td>\n",
       "      <td>8</td>\n",
       "      <td>137793</td>\n",
       "      <td>0</td>\n",
       "      <td>7</td>\n",
       "      <td>1</td>\n",
       "    </tr>\n",
       "  </tbody>\n",
       "</table>\n",
       "</div>"
      ],
      "text/plain": [
       "  data_sources  number of columns  number of observations  number of NAN  \\\n",
       "0           nc                  8                  817394              0   \n",
       "1           ar                  7                  596821              0   \n",
       "2           ad                  8                  137793              0   \n",
       "\n",
       "   number of categorical variables  number of numerical variables  \n",
       "0                                5                              1  \n",
       "1                                6                              1  \n",
       "2                                7                              1  "
      ]
     },
     "metadata": {},
     "output_type": "display_data"
    }
   ],
   "source": [
    "# Summary table:\n",
    "data_sources_dict = {\n",
    "    \"data_sources\": [\"nc\", \"ar\", \"ad\"],\n",
    "    \"number of columns\": [nc.shape[1], ar.shape[1], ad.shape[1]],\n",
    "    \"number of observations\": [nc.shape[0], ar.shape[0], ad.shape[0]],\n",
    "    \"number of NAN\": [x * 0 for x in range(3)],\n",
    "    \"number of categorical variables\": [\n",
    "        nc.shape[1] - 3,\n",
    "        ar.shape[1] - 1,\n",
    "        ad.shape[1] - 1,\n",
    "    ],\n",
    "    \"number of numerical variables\": [1, 1, 1],\n",
    "}\n",
    "\n",
    "# Creation of df\n",
    "data_sources_table = pd.DataFrame(data_sources_dict)\n",
    "\n",
    "# Verification\n",
    "display(data_sources_table)"
   ]
  },
  {
   "cell_type": "markdown",
   "metadata": {},
   "source": [
    "Insights: \n",
    "- Changes in number of observations, (within nc, ar, and ad) is possibly indicative of variety with Health Service network and the variety of specialized services provided.\n",
    "\n",
    "Commentairy: \n",
    "- Interest to see what is the most common service_setting and national_category\n",
    "\n",
    "Assumptions: \n",
    "1. Unknown are not always represented as error, it a mixed of not received or unavailability of categorical label. As such, unknown will be treated as category itself.\n",
    "2. Count_of_appointments represents 1 booked appointment by 1 patients\n",
    "\n",
    "Findings:\n",
    "- Metadata indicates recorded data as being inconsistent due to:\n",
    "    1. Software systems incompatibility\n",
    "    2. Different method of recording information, example some count from booked appointment others from attendances of appointment\n",
    "    3. Different periods of recording per data sets; nc,ar,ad\n",
    "    4. Integraty of data available not reliable \n",
    "- NHS background organizational structure:\n",
    "    1. ICB means integrated care board, roles is budget and delivery of supplies within there area\n",
    "    2. NHS expansion plan already existed, 10 year plan, was built upon a previous plan introduced in 2019\n",
    "    3. Current plan deals with reshaping network structure and roles; namely Clinical Commissioning Group (CCGs) being replaced by ICBs\n",
    "    4. Structure of NHS Network: ICS = geographical area of services, ICBs = budgeting and distribution of materials needed by Sub Locations, ICP = strategic planning and role/responsibility assignment tailored per local area.\n",
    "    5. Within 1 ICS = 1 ICBs & 1 ICP (Integrated partnership involves a board + members of NHS trustees). Total ICBs = 42"
   ]
  },
  {
   "cell_type": "markdown",
   "metadata": {
    "jp-MarkdownHeadingCollapsed": true
   },
   "source": [
    "### 2.4. Data duplication"
   ]
  },
  {
   "cell_type": "code",
   "execution_count": 27,
   "metadata": {},
   "outputs": [
    {
     "name": "stdout",
     "output_type": "stream",
     "text": [
      "Number of duplicates for nc: 0\n",
      "Number of duplicates for ar: 21604\n",
      "Number of duplicates for ad: 0\n",
      "AR total observations: 596821\n",
      "False    575217\n",
      "True      21604\n",
      "Name: count, dtype: int64\n"
     ]
    },
    {
     "data": {
      "text/html": [
       "<div>\n",
       "<style scoped>\n",
       "    .dataframe tbody tr th:only-of-type {\n",
       "        vertical-align: middle;\n",
       "    }\n",
       "\n",
       "    .dataframe tbody tr th {\n",
       "        vertical-align: top;\n",
       "    }\n",
       "\n",
       "    .dataframe thead th {\n",
       "        text-align: right;\n",
       "    }\n",
       "</style>\n",
       "<table border=\"1\" class=\"dataframe\">\n",
       "  <thead>\n",
       "    <tr style=\"text-align: right;\">\n",
       "      <th></th>\n",
       "      <th>icb_ons_code</th>\n",
       "      <th>appointment_month</th>\n",
       "      <th>appointment_status</th>\n",
       "      <th>hcp_type</th>\n",
       "      <th>appointment_mode</th>\n",
       "      <th>time_between_book_and_appointment</th>\n",
       "      <th>count_of_appointments</th>\n",
       "    </tr>\n",
       "  </thead>\n",
       "  <tbody>\n",
       "    <tr>\n",
       "      <th>19292</th>\n",
       "      <td>E54000044</td>\n",
       "      <td>2020-01</td>\n",
       "      <td>Attended</td>\n",
       "      <td>GP</td>\n",
       "      <td>Home Visit</td>\n",
       "      <td>Unknown / Data Quality</td>\n",
       "      <td>1</td>\n",
       "    </tr>\n",
       "    <tr>\n",
       "      <th>19308</th>\n",
       "      <td>E54000044</td>\n",
       "      <td>2020-01</td>\n",
       "      <td>Attended</td>\n",
       "      <td>GP</td>\n",
       "      <td>Unknown</td>\n",
       "      <td>Unknown / Data Quality</td>\n",
       "      <td>2</td>\n",
       "    </tr>\n",
       "    <tr>\n",
       "      <th>19374</th>\n",
       "      <td>E54000044</td>\n",
       "      <td>2020-01</td>\n",
       "      <td>DNA</td>\n",
       "      <td>GP</td>\n",
       "      <td>Home Visit</td>\n",
       "      <td>8  to 14 Days</td>\n",
       "      <td>1</td>\n",
       "    </tr>\n",
       "    <tr>\n",
       "      <th>19417</th>\n",
       "      <td>E54000044</td>\n",
       "      <td>2020-01</td>\n",
       "      <td>DNA</td>\n",
       "      <td>Unknown</td>\n",
       "      <td>Face-to-Face</td>\n",
       "      <td>2 to 7 Days</td>\n",
       "      <td>1</td>\n",
       "    </tr>\n",
       "    <tr>\n",
       "      <th>19419</th>\n",
       "      <td>E54000044</td>\n",
       "      <td>2020-01</td>\n",
       "      <td>DNA</td>\n",
       "      <td>Unknown</td>\n",
       "      <td>Face-to-Face</td>\n",
       "      <td>Same Day</td>\n",
       "      <td>6</td>\n",
       "    </tr>\n",
       "    <tr>\n",
       "      <th>...</th>\n",
       "      <td>...</td>\n",
       "      <td>...</td>\n",
       "      <td>...</td>\n",
       "      <td>...</td>\n",
       "      <td>...</td>\n",
       "      <td>...</td>\n",
       "      <td>...</td>\n",
       "    </tr>\n",
       "    <tr>\n",
       "      <th>596809</th>\n",
       "      <td>E54000050</td>\n",
       "      <td>2022-06</td>\n",
       "      <td>Unknown</td>\n",
       "      <td>Unknown</td>\n",
       "      <td>Telephone</td>\n",
       "      <td>15  to 21 Days</td>\n",
       "      <td>1</td>\n",
       "    </tr>\n",
       "    <tr>\n",
       "      <th>596812</th>\n",
       "      <td>E54000050</td>\n",
       "      <td>2022-06</td>\n",
       "      <td>Unknown</td>\n",
       "      <td>Unknown</td>\n",
       "      <td>Telephone</td>\n",
       "      <td>More than 28 Days</td>\n",
       "      <td>1</td>\n",
       "    </tr>\n",
       "    <tr>\n",
       "      <th>596814</th>\n",
       "      <td>E54000050</td>\n",
       "      <td>2022-06</td>\n",
       "      <td>Unknown</td>\n",
       "      <td>Unknown</td>\n",
       "      <td>Unknown</td>\n",
       "      <td>1 Day</td>\n",
       "      <td>2</td>\n",
       "    </tr>\n",
       "    <tr>\n",
       "      <th>596817</th>\n",
       "      <td>E54000050</td>\n",
       "      <td>2022-06</td>\n",
       "      <td>Unknown</td>\n",
       "      <td>Unknown</td>\n",
       "      <td>Unknown</td>\n",
       "      <td>22  to 28 Days</td>\n",
       "      <td>8</td>\n",
       "    </tr>\n",
       "    <tr>\n",
       "      <th>596820</th>\n",
       "      <td>E54000050</td>\n",
       "      <td>2022-06</td>\n",
       "      <td>Unknown</td>\n",
       "      <td>Unknown</td>\n",
       "      <td>Unknown</td>\n",
       "      <td>Same Day</td>\n",
       "      <td>10</td>\n",
       "    </tr>\n",
       "  </tbody>\n",
       "</table>\n",
       "<p>21604 rows × 7 columns</p>\n",
       "</div>"
      ],
      "text/plain": [
       "       icb_ons_code appointment_month appointment_status hcp_type  \\\n",
       "19292     E54000044           2020-01           Attended       GP   \n",
       "19308     E54000044           2020-01           Attended       GP   \n",
       "19374     E54000044           2020-01                DNA       GP   \n",
       "19417     E54000044           2020-01                DNA  Unknown   \n",
       "19419     E54000044           2020-01                DNA  Unknown   \n",
       "...             ...               ...                ...      ...   \n",
       "596809    E54000050           2022-06            Unknown  Unknown   \n",
       "596812    E54000050           2022-06            Unknown  Unknown   \n",
       "596814    E54000050           2022-06            Unknown  Unknown   \n",
       "596817    E54000050           2022-06            Unknown  Unknown   \n",
       "596820    E54000050           2022-06            Unknown  Unknown   \n",
       "\n",
       "       appointment_mode time_between_book_and_appointment  \\\n",
       "19292        Home Visit            Unknown / Data Quality   \n",
       "19308           Unknown            Unknown / Data Quality   \n",
       "19374        Home Visit                     8  to 14 Days   \n",
       "19417      Face-to-Face                       2 to 7 Days   \n",
       "19419      Face-to-Face                          Same Day   \n",
       "...                 ...                               ...   \n",
       "596809        Telephone                    15  to 21 Days   \n",
       "596812        Telephone                 More than 28 Days   \n",
       "596814          Unknown                             1 Day   \n",
       "596817          Unknown                    22  to 28 Days   \n",
       "596820          Unknown                          Same Day   \n",
       "\n",
       "        count_of_appointments  \n",
       "19292                       1  \n",
       "19308                       2  \n",
       "19374                       1  \n",
       "19417                       1  \n",
       "19419                       6  \n",
       "...                       ...  \n",
       "596809                      1  \n",
       "596812                      1  \n",
       "596814                      2  \n",
       "596817                      8  \n",
       "596820                     10  \n",
       "\n",
       "[21604 rows x 7 columns]"
      ]
     },
     "metadata": {},
     "output_type": "display_data"
    },
    {
     "data": {
      "text/plain": [
       "False    596821\n",
       "Name: count, dtype: int64"
      ]
     },
     "execution_count": 27,
     "metadata": {},
     "output_type": "execute_result"
    }
   ],
   "source": [
    "# Duplicates\n",
    "print(f\"Number of duplicates for nc: {nc.duplicated().sum()}\")\n",
    "print(f\"Number of duplicates for ar: {ar.duplicated().sum()}\")\n",
    "print(f\"Number of duplicates for ad: {ad.duplicated().sum()}\")\n",
    "\n",
    "# Ar has duplicates\n",
    "print(f\"AR total observations: {ar.shape[0]}\")\n",
    "\n",
    "# Why duplicates so many\n",
    "ar.head()\n",
    "ar.value_counts(\"appointment_status\")\n",
    "print(ar.duplicated().value_counts())  # check if it was observation\n",
    "display(ar[ar.duplicated() == True].sort_index())\n",
    "ar[\"appointment_month\"].duplicated().value_counts()\n",
    "ar[\"icb_ons_code\"].duplicated().value_counts()\n",
    "ar.reset_index().duplicated().value_counts()  # index unique"
   ]
  },
  {
   "cell_type": "markdown",
   "metadata": {},
   "source": [
    "Insights:\n",
    "1) AR only data set but after further look each index is unique \n",
    "Assumptions:\n",
    "1) Duplicated can be a representation of the same patient booking appointments"
   ]
  },
  {
   "cell_type": "markdown",
   "metadata": {
    "jp-MarkdownHeadingCollapsed": true
   },
   "source": [
    "## 3. Analysis Structure:\n",
    "\n",
    "- 3.1. Current Utilization\n",
    "   1. What is current trend now of patient? is it increasing or decreasing? What is the average?\n",
    "   2. Create a metric to be able to answer adequacy\n",
    "   3. Visualization\n",
    "      - most service used (bargraph)\n",
    "      - most popular location for patients to receive service (bargraph)\n",
    "      - overview of patient usage per service (pivot table)\n",
    " \n",
    "- 3.2. Map out health network Network\n",
    "    1. Landscape of health care network\n",
    "       - Overview of total number of regions, icb, and sub-icbs\n",
    "       - Distribution of icbs and sub-icbs per region\n",
    "       - Distribution of patients per region\n",
    "       - Identity busiest region\n",
    "       - Check if correlation exists between number of patients and number of sub-icbs\n",
    "\n",
    "- 3.3. Determine adequacy for capacity using average patient appointments and view adequacy of workload for staff\n",
    "\n",
    "> **Logic of determining adequacy**:\n",
    ">    1. Use average of patient appointments in AR data set as metric\n",
    ">    2. Use total patient appointments on monthly scale to determine if trend is positive or negative\n",
    ">    3. Use staff perspective to confirm or deny time series monthly patient appointments findings and gain perspective from staff perspective"
   ]
  },
  {
   "cell_type": "markdown",
   "metadata": {
    "jp-MarkdownHeadingCollapsed": true
   },
   "source": [
    "### 3.1 Current Utilization\n",
    "Sum of appointments per data - represents patients usage\n",
    "\n",
    "------------------------\n",
    "Overview:\n",
    "1) Total patients appointment - all data sources\n",
    "2) NC Total - Should the NHS start looking at increasing staff levels? [nc]\n",
    "    - insights: \n",
    "        (a) nc is not accurate indicator, cannot be determined due to brevity - gives the impression its flatline (area of consolidation)\n",
    "        (b) ar is more accurate since records include larger period of time:  2 years 6 months\n",
    "3) Challenge of data set:\n",
    "    - Insights:\n",
    "        - nc advantages and disadvantages:\n",
    "            - limited in records due to brief last 6 months (disadvantage)\n",
    "            - provides information of current services used, and where is the bulk of the service rendered (where do most patients get consulation?)\n",
    "\n",
    "    "
   ]
  },
  {
   "cell_type": "code",
   "execution_count": 32,
   "metadata": {},
   "outputs": [
    {
     "name": "stdout",
     "output_type": "stream",
     "text": [
      "NC total appointments 296,046,770\n",
      "AR total appointments 742,804,525\n",
      "NC total appointments 167,980,692\n"
     ]
    }
   ],
   "source": [
    "# Total patients appointment - all data sources\n",
    "print(f\"NC total appointments {nc_c['count_of_appointments'].sum():,}\")\n",
    "print(f\"AR total appointments {ar_c['count_of_appointments'].sum():,}\")\n",
    "print(f\"NC total appointments {ad_c['count_of_appointments'].sum():,}\")"
   ]
  },
  {
   "cell_type": "markdown",
   "metadata": {},
   "source": [
    "Comment: \n",
    "- Can add this information in table summary for data"
   ]
  },
  {
   "cell_type": "markdown",
   "metadata": {
    "jp-MarkdownHeadingCollapsed": true
   },
   "source": [
    "#### 3.1.1 NC total - used to determine current usage of resources\n",
    "\n",
    "1. Should the NHS start looking at increasing staff levels? [nc]\n",
    "    - what is current trend now of patient? is it increasing or decreasing? What is the average?\n",
    "    - Average over period for data set nc"
   ]
  },
  {
   "cell_type": "code",
   "execution_count": 36,
   "metadata": {},
   "outputs": [
    {
     "name": "stdout",
     "output_type": "stream",
     "text": [
      "Total number of patients: 296,046,770\n",
      "Average number of patients: 362\n",
      "NC average patient appointment: 362\n"
     ]
    },
    {
     "data": {
      "text/html": [
       "<div>\n",
       "<style scoped>\n",
       "    .dataframe tbody tr th:only-of-type {\n",
       "        vertical-align: middle;\n",
       "    }\n",
       "\n",
       "    .dataframe tbody tr th {\n",
       "        vertical-align: top;\n",
       "    }\n",
       "\n",
       "    .dataframe thead th {\n",
       "        text-align: right;\n",
       "    }\n",
       "</style>\n",
       "<table border=\"1\" class=\"dataframe\">\n",
       "  <thead>\n",
       "    <tr style=\"text-align: right;\">\n",
       "      <th></th>\n",
       "      <th>Total months</th>\n",
       "      <th>Total days</th>\n",
       "      <th>Total weeks</th>\n",
       "      <th>Total weekdays</th>\n",
       "      <th>Total weekends</th>\n",
       "    </tr>\n",
       "  </thead>\n",
       "  <tbody>\n",
       "    <tr>\n",
       "      <th>nc</th>\n",
       "      <td>11</td>\n",
       "      <td>334</td>\n",
       "      <td>48</td>\n",
       "      <td>239</td>\n",
       "      <td>95</td>\n",
       "    </tr>\n",
       "  </tbody>\n",
       "</table>\n",
       "</div>"
      ],
      "text/plain": [
       "    Total months  Total days  Total weeks  Total weekdays  Total weekends\n",
       "nc            11         334           48             239              95"
      ]
     },
     "metadata": {},
     "output_type": "display_data"
    }
   ],
   "source": [
    "# Average over period - nc\n",
    "\n",
    "# Step1: total patients appointment\n",
    "# Total number of patients:\n",
    "print(f\"Total number of patients: {nc_c[\"count_of_appointments\"].sum():,}\")\n",
    "# nc - Total patients\n",
    "nc_total_patients = nc_c[\"count_of_appointments\"].sum()\n",
    "\n",
    "# Step2: Average for entire data set - represent number of patient appointments within nc timeframe 11 months\n",
    "# from 2021-08-01 to 2022-06-30\n",
    "# Average - nc\n",
    "print(f\"Average number of patients: {nc_c[\"count_of_appointments\"].mean():.0f}\")\n",
    "# nc - Average patients\n",
    "nc_avg_patients = nc_c[\"count_of_appointments\"].mean()\n",
    "print(\n",
    "    f\"NC average patient appointment: {nc_avg_patients:,.0f}\"\n",
    ")  # represent average patient appointment in entire dataset\n",
    "\n",
    "# Total number of month\n",
    "display(nc_time_table)"
   ]
  },
  {
   "cell_type": "markdown",
   "metadata": {},
   "source": [
    "Insights:\n",
    "- Reminder that key assumption made is that 1 appointment equals 1 patients"
   ]
  },
  {
   "cell_type": "markdown",
   "metadata": {
    "jp-MarkdownHeadingCollapsed": true
   },
   "source": [
    "#### 3.1.2 Current workload (create a metric)- max capacity using rate per day, month\n",
    "1. What is the max capacity? How to define capacity?\n",
    "    - Number of appointments calendar scope: day and month"
   ]
  },
  {
   "cell_type": "code",
   "execution_count": 39,
   "metadata": {},
   "outputs": [
    {
     "name": "stdout",
     "output_type": "stream",
     "text": [
      "Total number of patients and value within nc_total_patients: 296,046,770\n",
      "NC rate per day: 886,368\n",
      "NC rate per month: 26,913,343\n",
      "NC rate per week: 6,167,641\n",
      "NC rate per working week: 1,238,689\n",
      "NC rate per weekend: 3,116,282\n"
     ]
    }
   ],
   "source": [
    "# Number of appointments calendar scope: day and month\n",
    "# Current utilization / rate or average max capacity\n",
    "print(\n",
    "    f\"Total number of patients and value within nc_total_patients: {nc_total_patients:,.0f}\"\n",
    ")\n",
    "\n",
    "# Rate per day\n",
    "nc_rate_per_day = round(nc_total_patients / nc_total_days)\n",
    "print(f\"NC rate per day: {nc_rate_per_day:,.0f}\")\n",
    "\n",
    "# Rate per month\n",
    "nc_rate_per_month = round(nc_total_patients / nc_total_months)\n",
    "print(f\"NC rate per month: {nc_rate_per_month:,.0f}\")\n",
    "\n",
    "# Rate per weeks-> less accurate more risk\n",
    "nc_rate_per_week = round(nc_total_patients / nc_total_weeks)\n",
    "print(f\"NC rate per week: {nc_rate_per_week:,.0f}\")\n",
    "\n",
    "# Rate per workweek\n",
    "nc_rate_per_workweek = round(nc_total_patients / nc_total_weekdays)\n",
    "print(f\"NC rate per working week: {nc_rate_per_workweek:,.0f}\")\n",
    "\n",
    "# Rate per weekend\n",
    "nc_rate_per_weekend = round(nc_total_patients / nc_total_weekends)\n",
    "print(f\"NC rate per weekend: {nc_rate_per_weekend:,.0f}\")"
   ]
  },
  {
   "cell_type": "markdown",
   "metadata": {},
   "source": [
    "Insights and definitions of meaning rate:\n",
    "- The reason why rate per working week and rate per weekend do not equal rate per week is because of divider: working week days are greater than weekend days since the week has 5 working days per 2 weekend days.\n",
    "- The rate represents the average patients to be expect at any given nominator; day, week, month, working week, weekend.\n",
    "- Reminder the average is meant to represents weighted center"
   ]
  },
  {
   "cell_type": "code",
   "execution_count": 40,
   "metadata": {},
   "outputs": [
    {
     "name": "stdout",
     "output_type": "stream",
     "text": [
      "Total number of appointments in nc: 296,046,770\n"
     ]
    },
    {
     "data": {
      "text/plain": [
       "Timestamp('2021-08-01 00:00:00')"
      ]
     },
     "metadata": {},
     "output_type": "display_data"
    },
    {
     "data": {
      "text/plain": [
       "Timestamp('2022-06-30 00:00:00')"
      ]
     },
     "metadata": {},
     "output_type": "display_data"
    }
   ],
   "source": [
    "# Context\n",
    "print(f\"Total number of appointments in nc: {nc_total_patients:,.0f}\")\n",
    "\n",
    "# Min and max\n",
    "display(nc_c[\"appointment_date\"].min())\n",
    "display(nc_c[\"appointment_date\"].max())"
   ]
  },
  {
   "cell_type": "code",
   "execution_count": 44,
   "metadata": {},
   "outputs": [
    {
     "data": {
      "text/html": [
       "<div>\n",
       "<style scoped>\n",
       "    .dataframe tbody tr th:only-of-type {\n",
       "        vertical-align: middle;\n",
       "    }\n",
       "\n",
       "    .dataframe tbody tr th {\n",
       "        vertical-align: top;\n",
       "    }\n",
       "\n",
       "    .dataframe thead th {\n",
       "        text-align: right;\n",
       "    }\n",
       "</style>\n",
       "<table border=\"1\" class=\"dataframe\">\n",
       "  <thead>\n",
       "    <tr style=\"text-align: right;\">\n",
       "      <th></th>\n",
       "      <th>rate per day</th>\n",
       "      <th>rate per month</th>\n",
       "      <th>rate per week</th>\n",
       "      <th>rate per workweek</th>\n",
       "      <th>rate per weekend</th>\n",
       "      <th>total number of appointments</th>\n",
       "    </tr>\n",
       "  </thead>\n",
       "  <tbody>\n",
       "    <tr>\n",
       "      <th>nc</th>\n",
       "      <td>886368</td>\n",
       "      <td>26913343</td>\n",
       "      <td>6167641</td>\n",
       "      <td>1238689</td>\n",
       "      <td>3116282</td>\n",
       "      <td>296046770</td>\n",
       "    </tr>\n",
       "  </tbody>\n",
       "</table>\n",
       "</div>"
      ],
      "text/plain": [
       "    rate per day  rate per month  rate per week  rate per workweek  \\\n",
       "nc        886368        26913343        6167641            1238689   \n",
       "\n",
       "    rate per weekend  total number of appointments  \n",
       "nc           3116282                     296046770  "
      ]
     },
     "metadata": {},
     "output_type": "display_data"
    }
   ],
   "source": [
    "# Create dict\n",
    "nc_rate_dict = {\n",
    "    \"rate per day\": round(nc_rate_per_day),\n",
    "    \"rate per month\": round(nc_rate_per_month),\n",
    "    \"rate per week\": round(nc_rate_per_week),\n",
    "    \"rate per workweek\": round(nc_rate_per_workweek),\n",
    "    \"rate per weekend\": round(nc_rate_per_weekend),\n",
    "    \"total number of appointments\": round(nc_total_patients),\n",
    "}  # provides context\n",
    "\n",
    "# Create summary table for rates based on calendar scale for nc\n",
    "nc_rates_appointments = pd.DataFrame(nc_rate_dict, index=[\"nc\"])\n",
    "\n",
    "\n",
    "# Verify\n",
    "display(nc_rates_appointments)"
   ]
  },
  {
   "cell_type": "code",
   "execution_count": 27,
   "metadata": {},
   "outputs": [
    {
     "data": {
      "text/html": [
       "<div>\n",
       "<style scoped>\n",
       "    .dataframe tbody tr th:only-of-type {\n",
       "        vertical-align: middle;\n",
       "    }\n",
       "\n",
       "    .dataframe tbody tr th {\n",
       "        vertical-align: top;\n",
       "    }\n",
       "\n",
       "    .dataframe thead th {\n",
       "        text-align: right;\n",
       "    }\n",
       "</style>\n",
       "<table border=\"1\" class=\"dataframe\">\n",
       "  <thead>\n",
       "    <tr style=\"text-align: right;\">\n",
       "      <th></th>\n",
       "      <th>rate per day</th>\n",
       "      <th>rate per month</th>\n",
       "      <th>rate per week</th>\n",
       "      <th>rate per workweek</th>\n",
       "      <th>rate per weekend</th>\n",
       "      <th>total number of appointments</th>\n",
       "    </tr>\n",
       "  </thead>\n",
       "  <tbody>\n",
       "    <tr>\n",
       "      <th>nc</th>\n",
       "      <td>0.002994</td>\n",
       "      <td>0.090909</td>\n",
       "      <td>0.020833</td>\n",
       "      <td>0.004184</td>\n",
       "      <td>0.010526</td>\n",
       "      <td>1.0</td>\n",
       "    </tr>\n",
       "  </tbody>\n",
       "</table>\n",
       "</div>"
      ],
      "text/plain": [
       "    rate per day  rate per month  rate per week  rate per workweek  \\\n",
       "nc      0.002994        0.090909       0.020833           0.004184   \n",
       "\n",
       "    rate per weekend  total number of appointments  \n",
       "nc          0.010526                           1.0  "
      ]
     },
     "metadata": {},
     "output_type": "display_data"
    }
   ],
   "source": [
    "# Create dict\n",
    "nc_rate_dict2 = {'rate per day': round(nc_rate_per_day)/nc_total_patients,\n",
    "                'rate per month': round(nc_rate_per_month)/nc_total_patients,\n",
    "                'rate per week': round(nc_rate_per_week)/nc_total_patients,\n",
    "                'rate per workweek': round(nc_rate_per_workweek)/nc_total_patients,\n",
    "                'rate per weekend': round(nc_rate_per_weekend)/nc_total_patients,\n",
    "                'total number of appointments': round(nc_total_patients)/nc_total_patients}  # provides context\n",
    "\n",
    "# Create summary table for rates based on calendar scale for nc\n",
    "nc_percentage_appointments = pd.DataFrame(nc_rate_dict2, index=['nc'])\n",
    "\n",
    "\n",
    "# Verify\n",
    "display(nc_percentage_appointments)"
   ]
  },
  {
   "cell_type": "markdown",
   "metadata": {},
   "source": [
    "Insights:\n",
    "- 9% per month (make senses since the nc data set contains only 11 months of record)\n",
    "- Discovered that the weekends have a larger rate number of patient appointments then (0.004184 * 5 = 0.02092 while 0.010526 * 2 = 0.02105 )\n"
   ]
  },
  {
   "cell_type": "markdown",
   "metadata": {
    "jp-MarkdownHeadingCollapsed": true
   },
   "source": [
    "#### 3.1.3 NC usage visualizations: \n",
    "1. Most service used (national_cat) [bar graph], \n",
    "2. Most popular location for service to be received by patients (service_setting) [bar graph], \n",
    "3. Total number of patients per service and setting (national_categories + service_setting) [pivot table]"
   ]
  },
  {
   "cell_type": "code",
   "execution_count": 28,
   "metadata": {},
   "outputs": [
    {
     "name": "stdout",
     "output_type": "stream",
     "text": [
      "National_category: most used health care service used by patients: \n"
     ]
    },
    {
     "data": {
      "text/plain": [
       "Text(0.5, 1.0, ' Most used Health Care service')"
      ]
     },
     "execution_count": 28,
     "metadata": {},
     "output_type": "execute_result"
    },
    {
     "data": {
      "image/png": "[encoded data removed]",
      "text/plain": [
       "<Figure size 640x480 with 1 Axes>"
      ]
     },
     "metadata": {},
     "output_type": "display_data"
    }
   ],
   "source": [
    "# Back up\n",
    "nc_c = nc.copy()\n",
    "\n",
    "# National_category: most used health care service used by patients (volume/sum)\n",
    "print(f'National_category: most used health care service used by patients: ')\n",
    "\n",
    "# Bar graph\n",
    "nc_c.groupby('national_category')['count_of_appointments'].sum().sort_values(ascending=False).plot(kind='bar')\n",
    "plt.title(\" Most used Health Care service\")\n"
   ]
  },
  {
   "cell_type": "markdown",
   "metadata": {},
   "source": [
    "Insight: \n",
    "- General Consulation Routine and General Consulatition Acure most common service used"
   ]
  },
  {
   "cell_type": "code",
   "execution_count": 46,
   "metadata": {},
   "outputs": [
    {
     "data": {
      "text/plain": [
       "service_setting\n",
       "General Practice             270811691\n",
       "Unmapped                      11080810\n",
       "Primary Care Network           6557386\n",
       "Other                          5420076\n",
       "Extended Access Provision      2176807\n",
       "Name: count_of_appointments, dtype: int64"
      ]
     },
     "metadata": {},
     "output_type": "display_data"
    },
    {
     "data": {
      "image/png": "[encoded data removed]",
      "text/plain": [
       "<Figure size 640x480 with 1 Axes>"
      ]
     },
     "metadata": {},
     "output_type": "display_data"
    }
   ],
   "source": [
    "# Plot bar graph - service setting\n",
    "nc_c.groupby(\"service_setting\")[\"count_of_appointments\"].sum().sort_values(\n",
    "    ascending=False\n",
    ").plot(kind=\"bar\")\n",
    "\n",
    "# Plot labels\n",
    "plt.xlabel(\"Location of Service\")\n",
    "plt.ylabel(\"Total Patient Appointments (in 100 Million)\")\n",
    "plt.title(\" Most Frequented Health Care location\")\n",
    "\n",
    "# Show\n",
    "display(\n",
    "    nc_c.groupby(\"service_setting\")[\"count_of_appointments\"]\n",
    "    .sum()\n",
    "    .sort_values(ascending=False)\n",
    ")"
   ]
  },
  {
   "cell_type": "markdown",
   "metadata": {},
   "source": [
    "Insight: \n",
    "- Most popular location for patients to received consulation is at GP"
   ]
  },
  {
   "cell_type": "code",
   "execution_count": 47,
   "metadata": {},
   "outputs": [
    {
     "data": {
      "text/html": [
       "<div>\n",
       "<style scoped>\n",
       "    .dataframe tbody tr th:only-of-type {\n",
       "        vertical-align: middle;\n",
       "    }\n",
       "\n",
       "    .dataframe tbody tr th {\n",
       "        vertical-align: top;\n",
       "    }\n",
       "\n",
       "    .dataframe thead th {\n",
       "        text-align: right;\n",
       "    }\n",
       "</style>\n",
       "<table border=\"1\" class=\"dataframe\">\n",
       "  <thead>\n",
       "    <tr style=\"text-align: right;\">\n",
       "      <th>service_setting</th>\n",
       "      <th>Extended Access Provision</th>\n",
       "      <th>General Practice</th>\n",
       "      <th>Other</th>\n",
       "      <th>Primary Care Network</th>\n",
       "      <th>Unmapped</th>\n",
       "    </tr>\n",
       "    <tr>\n",
       "      <th>national_category</th>\n",
       "      <th></th>\n",
       "      <th></th>\n",
       "      <th></th>\n",
       "      <th></th>\n",
       "      <th></th>\n",
       "    </tr>\n",
       "  </thead>\n",
       "  <tbody>\n",
       "    <tr>\n",
       "      <th>General Consultation Routine</th>\n",
       "      <td>399182.0</td>\n",
       "      <td>93358462.0</td>\n",
       "      <td>1377569.0</td>\n",
       "      <td>2136309.0</td>\n",
       "      <td>NaN</td>\n",
       "    </tr>\n",
       "    <tr>\n",
       "      <th>General Consultation Acute</th>\n",
       "      <td>413066.0</td>\n",
       "      <td>52059940.0</td>\n",
       "      <td>606115.0</td>\n",
       "      <td>612029.0</td>\n",
       "      <td>NaN</td>\n",
       "    </tr>\n",
       "    <tr>\n",
       "      <th>Clinical Triage</th>\n",
       "      <td>382876.0</td>\n",
       "      <td>40246576.0</td>\n",
       "      <td>575083.0</td>\n",
       "      <td>342429.0</td>\n",
       "      <td>NaN</td>\n",
       "    </tr>\n",
       "    <tr>\n",
       "      <th>Planned Clinics</th>\n",
       "      <td>261418.0</td>\n",
       "      <td>26376358.0</td>\n",
       "      <td>515480.0</td>\n",
       "      <td>866492.0</td>\n",
       "      <td>NaN</td>\n",
       "    </tr>\n",
       "    <tr>\n",
       "      <th>Inconsistent Mapping</th>\n",
       "      <td>438355.0</td>\n",
       "      <td>24997475.0</td>\n",
       "      <td>1642532.0</td>\n",
       "      <td>812440.0</td>\n",
       "      <td>NaN</td>\n",
       "    </tr>\n",
       "    <tr>\n",
       "      <th>Planned Clinical Procedure</th>\n",
       "      <td>173016.0</td>\n",
       "      <td>24986338.0</td>\n",
       "      <td>302533.0</td>\n",
       "      <td>240807.0</td>\n",
       "      <td>NaN</td>\n",
       "    </tr>\n",
       "    <tr>\n",
       "      <th>Unplanned Clinical Activity</th>\n",
       "      <td>37358.0</td>\n",
       "      <td>2872873.0</td>\n",
       "      <td>51300.0</td>\n",
       "      <td>94263.0</td>\n",
       "      <td>NaN</td>\n",
       "    </tr>\n",
       "    <tr>\n",
       "      <th>Home Visit</th>\n",
       "      <td>5071.0</td>\n",
       "      <td>2040497.0</td>\n",
       "      <td>30832.0</td>\n",
       "      <td>68052.0</td>\n",
       "      <td>NaN</td>\n",
       "    </tr>\n",
       "    <tr>\n",
       "      <th>Structured Medication Review</th>\n",
       "      <td>5816.0</td>\n",
       "      <td>1312506.0</td>\n",
       "      <td>32417.0</td>\n",
       "      <td>507640.0</td>\n",
       "      <td>NaN</td>\n",
       "    </tr>\n",
       "    <tr>\n",
       "      <th>Care Home Visit</th>\n",
       "      <td>8328.0</td>\n",
       "      <td>536382.0</td>\n",
       "      <td>19764.0</td>\n",
       "      <td>63805.0</td>\n",
       "      <td>NaN</td>\n",
       "    </tr>\n",
       "    <tr>\n",
       "      <th>Patient contact during Care Home Round</th>\n",
       "      <td>3209.0</td>\n",
       "      <td>517649.0</td>\n",
       "      <td>18581.0</td>\n",
       "      <td>270891.0</td>\n",
       "      <td>NaN</td>\n",
       "    </tr>\n",
       "    <tr>\n",
       "      <th>Service provided by organisation external to the practice</th>\n",
       "      <td>29143.0</td>\n",
       "      <td>469974.0</td>\n",
       "      <td>178579.0</td>\n",
       "      <td>174437.0</td>\n",
       "      <td>NaN</td>\n",
       "    </tr>\n",
       "    <tr>\n",
       "      <th>Walk-in</th>\n",
       "      <td>8441.0</td>\n",
       "      <td>363566.0</td>\n",
       "      <td>34583.0</td>\n",
       "      <td>5848.0</td>\n",
       "      <td>NaN</td>\n",
       "    </tr>\n",
       "    <tr>\n",
       "      <th>Care Home Needs Assessment &amp; Personalised Care and Support Planning</th>\n",
       "      <td>2798.0</td>\n",
       "      <td>316586.0</td>\n",
       "      <td>8773.0</td>\n",
       "      <td>77747.0</td>\n",
       "      <td>NaN</td>\n",
       "    </tr>\n",
       "    <tr>\n",
       "      <th>Social Prescribing Service</th>\n",
       "      <td>6252.0</td>\n",
       "      <td>181371.0</td>\n",
       "      <td>8501.0</td>\n",
       "      <td>279704.0</td>\n",
       "      <td>NaN</td>\n",
       "    </tr>\n",
       "    <tr>\n",
       "      <th>Non-contractual chargeable work</th>\n",
       "      <td>1830.0</td>\n",
       "      <td>116053.0</td>\n",
       "      <td>17196.0</td>\n",
       "      <td>3832.0</td>\n",
       "      <td>NaN</td>\n",
       "    </tr>\n",
       "    <tr>\n",
       "      <th>Group Consultation and Group Education</th>\n",
       "      <td>648.0</td>\n",
       "      <td>59085.0</td>\n",
       "      <td>238.0</td>\n",
       "      <td>661.0</td>\n",
       "      <td>NaN</td>\n",
       "    </tr>\n",
       "    <tr>\n",
       "      <th>Unmapped</th>\n",
       "      <td>NaN</td>\n",
       "      <td>NaN</td>\n",
       "      <td>NaN</td>\n",
       "      <td>NaN</td>\n",
       "      <td>11080810.0</td>\n",
       "    </tr>\n",
       "  </tbody>\n",
       "</table>\n",
       "</div>"
      ],
      "text/plain": [
       "service_setting                                     Extended Access Provision  \\\n",
       "national_category                                                               \n",
       "General Consultation Routine                                         399182.0   \n",
       "General Consultation Acute                                           413066.0   \n",
       "Clinical Triage                                                      382876.0   \n",
       "Planned Clinics                                                      261418.0   \n",
       "Inconsistent Mapping                                                 438355.0   \n",
       "Planned Clinical Procedure                                           173016.0   \n",
       "Unplanned Clinical Activity                                           37358.0   \n",
       "Home Visit                                                             5071.0   \n",
       "Structured Medication Review                                           5816.0   \n",
       "Care Home Visit                                                        8328.0   \n",
       "Patient contact during Care Home Round                                 3209.0   \n",
       "Service provided by organisation external to th...                    29143.0   \n",
       "Walk-in                                                                8441.0   \n",
       "Care Home Needs Assessment & Personalised Care ...                     2798.0   \n",
       "Social Prescribing Service                                             6252.0   \n",
       "Non-contractual chargeable work                                        1830.0   \n",
       "Group Consultation and Group Education                                  648.0   \n",
       "Unmapped                                                                  NaN   \n",
       "\n",
       "service_setting                                     General Practice  \\\n",
       "national_category                                                      \n",
       "General Consultation Routine                              93358462.0   \n",
       "General Consultation Acute                                52059940.0   \n",
       "Clinical Triage                                           40246576.0   \n",
       "Planned Clinics                                           26376358.0   \n",
       "Inconsistent Mapping                                      24997475.0   \n",
       "Planned Clinical Procedure                                24986338.0   \n",
       "Unplanned Clinical Activity                                2872873.0   \n",
       "Home Visit                                                 2040497.0   \n",
       "Structured Medication Review                               1312506.0   \n",
       "Care Home Visit                                             536382.0   \n",
       "Patient contact during Care Home Round                      517649.0   \n",
       "Service provided by organisation external to th...          469974.0   \n",
       "Walk-in                                                     363566.0   \n",
       "Care Home Needs Assessment & Personalised Care ...          316586.0   \n",
       "Social Prescribing Service                                  181371.0   \n",
       "Non-contractual chargeable work                             116053.0   \n",
       "Group Consultation and Group Education                       59085.0   \n",
       "Unmapped                                                         NaN   \n",
       "\n",
       "service_setting                                         Other  \\\n",
       "national_category                                               \n",
       "General Consultation Routine                        1377569.0   \n",
       "General Consultation Acute                           606115.0   \n",
       "Clinical Triage                                      575083.0   \n",
       "Planned Clinics                                      515480.0   \n",
       "Inconsistent Mapping                                1642532.0   \n",
       "Planned Clinical Procedure                           302533.0   \n",
       "Unplanned Clinical Activity                           51300.0   \n",
       "Home Visit                                            30832.0   \n",
       "Structured Medication Review                          32417.0   \n",
       "Care Home Visit                                       19764.0   \n",
       "Patient contact during Care Home Round                18581.0   \n",
       "Service provided by organisation external to th...   178579.0   \n",
       "Walk-in                                               34583.0   \n",
       "Care Home Needs Assessment & Personalised Care ...     8773.0   \n",
       "Social Prescribing Service                             8501.0   \n",
       "Non-contractual chargeable work                       17196.0   \n",
       "Group Consultation and Group Education                  238.0   \n",
       "Unmapped                                                  NaN   \n",
       "\n",
       "service_setting                                     Primary Care Network  \\\n",
       "national_category                                                          \n",
       "General Consultation Routine                                   2136309.0   \n",
       "General Consultation Acute                                      612029.0   \n",
       "Clinical Triage                                                 342429.0   \n",
       "Planned Clinics                                                 866492.0   \n",
       "Inconsistent Mapping                                            812440.0   \n",
       "Planned Clinical Procedure                                      240807.0   \n",
       "Unplanned Clinical Activity                                      94263.0   \n",
       "Home Visit                                                       68052.0   \n",
       "Structured Medication Review                                    507640.0   \n",
       "Care Home Visit                                                  63805.0   \n",
       "Patient contact during Care Home Round                          270891.0   \n",
       "Service provided by organisation external to th...              174437.0   \n",
       "Walk-in                                                           5848.0   \n",
       "Care Home Needs Assessment & Personalised Care ...               77747.0   \n",
       "Social Prescribing Service                                      279704.0   \n",
       "Non-contractual chargeable work                                   3832.0   \n",
       "Group Consultation and Group Education                             661.0   \n",
       "Unmapped                                                             NaN   \n",
       "\n",
       "service_setting                                       Unmapped  \n",
       "national_category                                               \n",
       "General Consultation Routine                               NaN  \n",
       "General Consultation Acute                                 NaN  \n",
       "Clinical Triage                                            NaN  \n",
       "Planned Clinics                                            NaN  \n",
       "Inconsistent Mapping                                       NaN  \n",
       "Planned Clinical Procedure                                 NaN  \n",
       "Unplanned Clinical Activity                                NaN  \n",
       "Home Visit                                                 NaN  \n",
       "Structured Medication Review                               NaN  \n",
       "Care Home Visit                                            NaN  \n",
       "Patient contact during Care Home Round                     NaN  \n",
       "Service provided by organisation external to th...         NaN  \n",
       "Walk-in                                                    NaN  \n",
       "Care Home Needs Assessment & Personalised Care ...         NaN  \n",
       "Social Prescribing Service                                 NaN  \n",
       "Non-contractual chargeable work                            NaN  \n",
       "Group Consultation and Group Education                     NaN  \n",
       "Unmapped                                            11080810.0  "
      ]
     },
     "metadata": {},
     "output_type": "display_data"
    }
   ],
   "source": [
    "# Utilization of resource: Pivot table combination of two categorical variable\n",
    "display(\n",
    "    nc_c.pivot_table(\n",
    "        index=\"national_category\",\n",
    "        columns=\"service_setting\",\n",
    "        values=\"count_of_appointments\",\n",
    "        aggfunc=\"sum\",\n",
    "    ).sort_values(\"General Practice\", ascending=False)\n",
    ")"
   ]
  },
  {
   "cell_type": "markdown",
   "metadata": {},
   "source": [
    "Insights: \n",
    "- Most used service is General Consultatuion routine\n",
    "- Most frequented location is the General Practice"
   ]
  },
  {
   "cell_type": "markdown",
   "metadata": {
    "jp-MarkdownHeadingCollapsed": true
   },
   "source": [
    "### 3.2. Map out health Network"
   ]
  },
  {
   "cell_type": "markdown",
   "metadata": {
    "jp-MarkdownHeadingCollapsed": true
   },
   "source": [
    "#### 3.2.1 Landscape of health care - ad"
   ]
  },
  {
   "cell_type": "code",
   "execution_count": 48,
   "metadata": {},
   "outputs": [],
   "source": [
    "# Backing up ad to map network of NHS\n",
    "ad_c = ad.copy()\n",
    "\n",
    "# Network structure variable\n",
    "# Create variable containing list for subset\n",
    "network_ad = [ad_c.columns[4], ad_c.columns[3], ad_c.columns[1], ad_c.columns[-1]]\n",
    "\n",
    "# Create subset of data set\n",
    "network_structure = ad_c[network_ad]"
   ]
  },
  {
   "cell_type": "code",
   "execution_count": 60,
   "metadata": {},
   "outputs": [
    {
     "name": "stdout",
     "output_type": "stream",
     "text": [
      "Total number of Regions: 7\n",
      "Total number of icbs: 42\n",
      "Total number of sub_icb: 106\n",
      "Conditional statement return boolean value same total number of unique sub_icb: True\n"
     ]
    }
   ],
   "source": [
    "# Verification that count is correct\n",
    "# Total regions\n",
    "print(f\"Total number of Regions: {network_structure[\"region_ons_code\"].nunique()}\")\n",
    "\n",
    "# Total icb\n",
    "print(\n",
    "    f\"Total number of icbs: {network_structure.groupby(\"region_ons_code\")[\"icb_ons_code\"].nunique().sum()}\"\n",
    ")\n",
    "\n",
    "# Total sub-icbs\n",
    "print(\n",
    "    f\"Total number of sub_icb: {network_structure.groupby(\"region_ons_code\")[network_structure.columns[2]].nunique().sum()}\"\n",
    ")\n",
    "\n",
    "# Conditional statement to verify code done right\n",
    "print(\n",
    "    f\"Conditional statement return boolean value same total number of unique sub_icb: {network_structure.groupby(\"region_ons_code\")[network_structure.columns[2]].nunique().sum()== network_structure[\"sub_icb_location_ons_code\"].nunique()}\"\n",
    ")"
   ]
  },
  {
   "cell_type": "markdown",
   "metadata": {},
   "source": [
    "Insights:\n",
    "1) Macro scale is  Regions 7 >  Meso scale is ICB 42 > Micro scale is sub_icb 106\n",
    "Commentary: \n",
    "1) Wondering if all regions have the same number of ICBs and Sub ICB"
   ]
  },
  {
   "cell_type": "code",
   "execution_count": 68,
   "metadata": {},
   "outputs": [
    {
     "name": "stdout",
     "output_type": "stream",
     "text": [
      "How many icb are within each region?\n"
     ]
    },
    {
     "data": {
      "text/html": [
       "<div>\n",
       "<style scoped>\n",
       "    .dataframe tbody tr th:only-of-type {\n",
       "        vertical-align: middle;\n",
       "    }\n",
       "\n",
       "    .dataframe tbody tr th {\n",
       "        vertical-align: top;\n",
       "    }\n",
       "\n",
       "    .dataframe thead th {\n",
       "        text-align: right;\n",
       "    }\n",
       "</style>\n",
       "<table border=\"1\" class=\"dataframe\">\n",
       "  <thead>\n",
       "    <tr style=\"text-align: right;\">\n",
       "      <th></th>\n",
       "      <th>icb_ons_code</th>\n",
       "    </tr>\n",
       "    <tr>\n",
       "      <th>region_ons_code</th>\n",
       "      <th></th>\n",
       "    </tr>\n",
       "  </thead>\n",
       "  <tbody>\n",
       "    <tr>\n",
       "      <th>E40000011</th>\n",
       "      <td>11</td>\n",
       "    </tr>\n",
       "    <tr>\n",
       "      <th>E40000006</th>\n",
       "      <td>7</td>\n",
       "    </tr>\n",
       "    <tr>\n",
       "      <th>E40000007</th>\n",
       "      <td>6</td>\n",
       "    </tr>\n",
       "    <tr>\n",
       "      <th>E40000005</th>\n",
       "      <td>6</td>\n",
       "    </tr>\n",
       "    <tr>\n",
       "      <th>E40000003</th>\n",
       "      <td>5</td>\n",
       "    </tr>\n",
       "    <tr>\n",
       "      <th>E40000012</th>\n",
       "      <td>4</td>\n",
       "    </tr>\n",
       "    <tr>\n",
       "      <th>E40000010</th>\n",
       "      <td>3</td>\n",
       "    </tr>\n",
       "  </tbody>\n",
       "</table>\n",
       "</div>"
      ],
      "text/plain": [
       "                 icb_ons_code\n",
       "region_ons_code              \n",
       "E40000011                  11\n",
       "E40000006                   7\n",
       "E40000007                   6\n",
       "E40000005                   6\n",
       "E40000003                   5\n",
       "E40000012                   4\n",
       "E40000010                   3"
      ]
     },
     "metadata": {},
     "output_type": "display_data"
    }
   ],
   "source": [
    "# How many per region\n",
    "print(f\"How many icb are within each region?\")\n",
    "\n",
    "# Assign variable\n",
    "count_icb_region = network_structure.groupby(by=\"region_ons_code\", sort=False)[\n",
    "    [\"icb_ons_code\"]\n",
    "].nunique()\n",
    "\n",
    "# See descending value\n",
    "display(count_icb_region.sort_values(by=\"icb_ons_code\", ascending=False))"
   ]
  },
  {
   "cell_type": "markdown",
   "metadata": {},
   "source": [
    "Insight: E40000011 largest region"
   ]
  },
  {
   "cell_type": "code",
   "execution_count": 74,
   "metadata": {},
   "outputs": [
    {
     "name": "stdout",
     "output_type": "stream",
     "text": [
      "Which is the most frequent region that appears (how often/how likely to encounter?:region_ons_code\n",
      "E40000010          33112\n",
      "E40000012          29063\n",
      "E40000011          25015\n",
      "E40000007          18888\n",
      "E40000005          15130\n",
      "E40000006           9465\n",
      "E40000003           7120\n",
      "Name: count, dtype: int64\n",
      "The number above are a portion out of a total of 137,793\n"
     ]
    },
    {
     "data": {
      "text/html": [
       "<div>\n",
       "<style scoped>\n",
       "    .dataframe tbody tr th:only-of-type {\n",
       "        vertical-align: middle;\n",
       "    }\n",
       "\n",
       "    .dataframe tbody tr th {\n",
       "        vertical-align: top;\n",
       "    }\n",
       "\n",
       "    .dataframe thead th {\n",
       "        text-align: right;\n",
       "    }\n",
       "</style>\n",
       "<table border=\"1\" class=\"dataframe\">\n",
       "  <thead>\n",
       "    <tr style=\"text-align: right;\">\n",
       "      <th></th>\n",
       "      <th>count</th>\n",
       "    </tr>\n",
       "    <tr>\n",
       "      <th>region_ons_code</th>\n",
       "      <th></th>\n",
       "    </tr>\n",
       "  </thead>\n",
       "  <tbody>\n",
       "    <tr>\n",
       "      <th>E40000012</th>\n",
       "      <td>29063</td>\n",
       "    </tr>\n",
       "    <tr>\n",
       "      <th>E40000011</th>\n",
       "      <td>25015</td>\n",
       "    </tr>\n",
       "    <tr>\n",
       "      <th>E40000010</th>\n",
       "      <td>33112</td>\n",
       "    </tr>\n",
       "    <tr>\n",
       "      <th>E40000007</th>\n",
       "      <td>18888</td>\n",
       "    </tr>\n",
       "    <tr>\n",
       "      <th>E40000006</th>\n",
       "      <td>9465</td>\n",
       "    </tr>\n",
       "    <tr>\n",
       "      <th>E40000005</th>\n",
       "      <td>15130</td>\n",
       "    </tr>\n",
       "    <tr>\n",
       "      <th>E40000003</th>\n",
       "      <td>7120</td>\n",
       "    </tr>\n",
       "  </tbody>\n",
       "</table>\n",
       "</div>"
      ],
      "text/plain": [
       "                 count\n",
       "region_ons_code       \n",
       "E40000012        29063\n",
       "E40000011        25015\n",
       "E40000010        33112\n",
       "E40000007        18888\n",
       "E40000006         9465\n",
       "E40000005        15130\n",
       "E40000003         7120"
      ]
     },
     "execution_count": 74,
     "metadata": {},
     "output_type": "execute_result"
    }
   ],
   "source": [
    "# Overall patients per region - What is the total number of patients per region?\n",
    "print(\n",
    "    f\"Which is the most frequent region that appears (how often/how likely to encounter?:{network_structure[['region_ons_code']].value_counts()}\"\n",
    ")\n",
    "\n",
    "# Create variable for tabular form summary as SERIES - regional_structure\n",
    "number_patients_region = network_structure.value_counts(\n",
    "    subset=\"region_ons_code\"\n",
    ").sort_index(\n",
    "    ascending=False\n",
    ")  # index start with 012\n",
    "\n",
    "# Convert series into df\n",
    "number_patients_region = pd.DataFrame(number_patients_region)\n",
    "\n",
    "# Context of what number actually mean\n",
    "print(\n",
    "    f\"The number above are a portion out of a total of {network_structure.shape[0]:,}\"\n",
    ")\n",
    "\n",
    "# Convert dtype\n",
    "number_patients_region.convert_dtypes()"
   ]
  },
  {
   "cell_type": "markdown",
   "metadata": {},
   "source": [
    "Insight: \n",
    "- E4000010 is the appears the most often in the actual_duration data set"
   ]
  },
  {
   "cell_type": "code",
   "execution_count": 75,
   "metadata": {},
   "outputs": [
    {
     "name": "stdout",
     "output_type": "stream",
     "text": [
      "How many sub_icb are within each region?\n"
     ]
    },
    {
     "data": {
      "text/html": [
       "<div>\n",
       "<style scoped>\n",
       "    .dataframe tbody tr th:only-of-type {\n",
       "        vertical-align: middle;\n",
       "    }\n",
       "\n",
       "    .dataframe tbody tr th {\n",
       "        vertical-align: top;\n",
       "    }\n",
       "\n",
       "    .dataframe thead th {\n",
       "        text-align: right;\n",
       "    }\n",
       "</style>\n",
       "<table border=\"1\" class=\"dataframe\">\n",
       "  <thead>\n",
       "    <tr style=\"text-align: right;\">\n",
       "      <th></th>\n",
       "      <th>sub_icb_location_ons_code</th>\n",
       "    </tr>\n",
       "    <tr>\n",
       "      <th>region_ons_code</th>\n",
       "      <th></th>\n",
       "    </tr>\n",
       "  </thead>\n",
       "  <tbody>\n",
       "    <tr>\n",
       "      <th>E40000010</th>\n",
       "      <td>27</td>\n",
       "    </tr>\n",
       "    <tr>\n",
       "      <th>E40000012</th>\n",
       "      <td>23</td>\n",
       "    </tr>\n",
       "    <tr>\n",
       "      <th>E40000011</th>\n",
       "      <td>19</td>\n",
       "    </tr>\n",
       "    <tr>\n",
       "      <th>E40000007</th>\n",
       "      <td>14</td>\n",
       "    </tr>\n",
       "    <tr>\n",
       "      <th>E40000005</th>\n",
       "      <td>11</td>\n",
       "    </tr>\n",
       "    <tr>\n",
       "      <th>E40000006</th>\n",
       "      <td>7</td>\n",
       "    </tr>\n",
       "    <tr>\n",
       "      <th>E40000003</th>\n",
       "      <td>5</td>\n",
       "    </tr>\n",
       "  </tbody>\n",
       "</table>\n",
       "</div>"
      ],
      "text/plain": [
       "                 sub_icb_location_ons_code\n",
       "region_ons_code                           \n",
       "E40000010                               27\n",
       "E40000012                               23\n",
       "E40000011                               19\n",
       "E40000007                               14\n",
       "E40000005                               11\n",
       "E40000006                                7\n",
       "E40000003                                5"
      ]
     },
     "metadata": {},
     "output_type": "display_data"
    }
   ],
   "source": [
    "# How many sub_icb are within each region?\n",
    "print(f\"How many sub_icb are within each region?\")\n",
    "\n",
    "# Assign variable mask\n",
    "count_sub_region = network_structure.groupby(by=\"region_ons_code\", sort=False)[\n",
    "    [\"sub_icb_location_ons_code\"]\n",
    "].nunique()\n",
    "\n",
    "# View\n",
    "display(count_sub_region.sort_values(by=\"sub_icb_location_ons_code\", ascending=False))"
   ]
  },
  {
   "cell_type": "markdown",
   "metadata": {},
   "source": [
    "-Insights: \n",
    "- E4000010 is the appears the most often in the actual_duration data set\n",
    "- The region with largest number of icb is E4000011 containing 11 ICBs.\n",
    "- Unexpected since the E4000011 is 3rd and E4000010 contains the lowest ICBs and the largest occurance.\n",
    "- Followed by E4000012 2nd lowest and 2nd largest occurance in the data set."
   ]
  },
  {
   "cell_type": "code",
   "execution_count": 77,
   "metadata": {},
   "outputs": [
    {
     "data": {
      "text/html": [
       "<div>\n",
       "<style scoped>\n",
       "    .dataframe tbody tr th:only-of-type {\n",
       "        vertical-align: middle;\n",
       "    }\n",
       "\n",
       "    .dataframe tbody tr th {\n",
       "        vertical-align: top;\n",
       "    }\n",
       "\n",
       "    .dataframe thead th {\n",
       "        text-align: right;\n",
       "    }\n",
       "</style>\n",
       "<table border=\"1\" class=\"dataframe\">\n",
       "  <thead>\n",
       "    <tr style=\"text-align: right;\">\n",
       "      <th></th>\n",
       "      <th>count_of_appointments</th>\n",
       "    </tr>\n",
       "    <tr>\n",
       "      <th>region_ons_code</th>\n",
       "      <th></th>\n",
       "    </tr>\n",
       "  </thead>\n",
       "  <tbody>\n",
       "    <tr>\n",
       "      <th>E40000011</th>\n",
       "      <td>32574555</td>\n",
       "    </tr>\n",
       "    <tr>\n",
       "      <th>E40000012</th>\n",
       "      <td>27425610</td>\n",
       "    </tr>\n",
       "    <tr>\n",
       "      <th>E40000005</th>\n",
       "      <td>25577953</td>\n",
       "    </tr>\n",
       "    <tr>\n",
       "      <th>E40000003</th>\n",
       "      <td>24488519</td>\n",
       "    </tr>\n",
       "    <tr>\n",
       "      <th>E40000010</th>\n",
       "      <td>19880924</td>\n",
       "    </tr>\n",
       "    <tr>\n",
       "      <th>E40000007</th>\n",
       "      <td>19546694</td>\n",
       "    </tr>\n",
       "    <tr>\n",
       "      <th>E40000006</th>\n",
       "      <td>18486437</td>\n",
       "    </tr>\n",
       "  </tbody>\n",
       "</table>\n",
       "</div>"
      ],
      "text/plain": [
       "                 count_of_appointments\n",
       "region_ons_code                       \n",
       "E40000011                     32574555\n",
       "E40000012                     27425610\n",
       "E40000005                     25577953\n",
       "E40000003                     24488519\n",
       "E40000010                     19880924\n",
       "E40000007                     19546694\n",
       "E40000006                     18486437"
      ]
     },
     "metadata": {},
     "output_type": "display_data"
    }
   ],
   "source": [
    "# Total per region\n",
    "total_patients_region = network_structure.groupby(by=\"region_ons_code\", sort=False)[\n",
    "    [\"count_of_appointments\"]\n",
    "].sum()\n",
    "\n",
    "# Check and sort by most total\n",
    "display(total_patients_region.sort_values(by=\"count_of_appointments\", ascending=False))"
   ]
  },
  {
   "cell_type": "code",
   "execution_count": 78,
   "metadata": {},
   "outputs": [
    {
     "data": {
      "text/html": [
       "<div>\n",
       "<style scoped>\n",
       "    .dataframe tbody tr th:only-of-type {\n",
       "        vertical-align: middle;\n",
       "    }\n",
       "\n",
       "    .dataframe tbody tr th {\n",
       "        vertical-align: top;\n",
       "    }\n",
       "\n",
       "    .dataframe thead th {\n",
       "        text-align: right;\n",
       "    }\n",
       "</style>\n",
       "<table border=\"1\" class=\"dataframe\">\n",
       "  <thead>\n",
       "    <tr style=\"text-align: right;\">\n",
       "      <th></th>\n",
       "      <th>count_of_appointments</th>\n",
       "    </tr>\n",
       "    <tr>\n",
       "      <th>region_ons_code</th>\n",
       "      <th></th>\n",
       "    </tr>\n",
       "  </thead>\n",
       "  <tbody>\n",
       "    <tr>\n",
       "      <th>E40000012</th>\n",
       "      <td>27425610</td>\n",
       "    </tr>\n",
       "    <tr>\n",
       "      <th>E40000010</th>\n",
       "      <td>19880924</td>\n",
       "    </tr>\n",
       "    <tr>\n",
       "      <th>E40000011</th>\n",
       "      <td>32574555</td>\n",
       "    </tr>\n",
       "    <tr>\n",
       "      <th>E40000007</th>\n",
       "      <td>19546694</td>\n",
       "    </tr>\n",
       "    <tr>\n",
       "      <th>E40000005</th>\n",
       "      <td>25577953</td>\n",
       "    </tr>\n",
       "    <tr>\n",
       "      <th>E40000006</th>\n",
       "      <td>18486437</td>\n",
       "    </tr>\n",
       "    <tr>\n",
       "      <th>E40000003</th>\n",
       "      <td>24488519</td>\n",
       "    </tr>\n",
       "  </tbody>\n",
       "</table>\n",
       "</div>"
      ],
      "text/plain": [
       "                 count_of_appointments\n",
       "region_ons_code                       \n",
       "E40000012                     27425610\n",
       "E40000010                     19880924\n",
       "E40000011                     32574555\n",
       "E40000007                     19546694\n",
       "E40000005                     25577953\n",
       "E40000006                     18486437\n",
       "E40000003                     24488519"
      ]
     },
     "metadata": {},
     "output_type": "display_data"
    },
    {
     "data": {
      "text/html": [
       "<div>\n",
       "<style scoped>\n",
       "    .dataframe tbody tr th:only-of-type {\n",
       "        vertical-align: middle;\n",
       "    }\n",
       "\n",
       "    .dataframe tbody tr th {\n",
       "        vertical-align: top;\n",
       "    }\n",
       "\n",
       "    .dataframe thead th {\n",
       "        text-align: right;\n",
       "    }\n",
       "</style>\n",
       "<table border=\"1\" class=\"dataframe\">\n",
       "  <thead>\n",
       "    <tr style=\"text-align: right;\">\n",
       "      <th></th>\n",
       "      <th>sub_icb_location_ons_code</th>\n",
       "    </tr>\n",
       "    <tr>\n",
       "      <th>region_ons_code</th>\n",
       "      <th></th>\n",
       "    </tr>\n",
       "  </thead>\n",
       "  <tbody>\n",
       "    <tr>\n",
       "      <th>E40000012</th>\n",
       "      <td>23</td>\n",
       "    </tr>\n",
       "    <tr>\n",
       "      <th>E40000010</th>\n",
       "      <td>27</td>\n",
       "    </tr>\n",
       "    <tr>\n",
       "      <th>E40000011</th>\n",
       "      <td>19</td>\n",
       "    </tr>\n",
       "    <tr>\n",
       "      <th>E40000007</th>\n",
       "      <td>14</td>\n",
       "    </tr>\n",
       "    <tr>\n",
       "      <th>E40000005</th>\n",
       "      <td>11</td>\n",
       "    </tr>\n",
       "    <tr>\n",
       "      <th>E40000006</th>\n",
       "      <td>7</td>\n",
       "    </tr>\n",
       "    <tr>\n",
       "      <th>E40000003</th>\n",
       "      <td>5</td>\n",
       "    </tr>\n",
       "  </tbody>\n",
       "</table>\n",
       "</div>"
      ],
      "text/plain": [
       "                 sub_icb_location_ons_code\n",
       "region_ons_code                           \n",
       "E40000012                               23\n",
       "E40000010                               27\n",
       "E40000011                               19\n",
       "E40000007                               14\n",
       "E40000005                               11\n",
       "E40000006                                7\n",
       "E40000003                                5"
      ]
     },
     "metadata": {},
     "output_type": "display_data"
    },
    {
     "data": {
      "text/html": [
       "<div>\n",
       "<style scoped>\n",
       "    .dataframe tbody tr th:only-of-type {\n",
       "        vertical-align: middle;\n",
       "    }\n",
       "\n",
       "    .dataframe tbody tr th {\n",
       "        vertical-align: top;\n",
       "    }\n",
       "\n",
       "    .dataframe thead th {\n",
       "        text-align: right;\n",
       "    }\n",
       "</style>\n",
       "<table border=\"1\" class=\"dataframe\">\n",
       "  <thead>\n",
       "    <tr style=\"text-align: right;\">\n",
       "      <th></th>\n",
       "      <th>icb_ons_code</th>\n",
       "    </tr>\n",
       "    <tr>\n",
       "      <th>region_ons_code</th>\n",
       "      <th></th>\n",
       "    </tr>\n",
       "  </thead>\n",
       "  <tbody>\n",
       "    <tr>\n",
       "      <th>E40000012</th>\n",
       "      <td>4</td>\n",
       "    </tr>\n",
       "    <tr>\n",
       "      <th>E40000010</th>\n",
       "      <td>3</td>\n",
       "    </tr>\n",
       "    <tr>\n",
       "      <th>E40000011</th>\n",
       "      <td>11</td>\n",
       "    </tr>\n",
       "    <tr>\n",
       "      <th>E40000007</th>\n",
       "      <td>6</td>\n",
       "    </tr>\n",
       "    <tr>\n",
       "      <th>E40000005</th>\n",
       "      <td>6</td>\n",
       "    </tr>\n",
       "    <tr>\n",
       "      <th>E40000006</th>\n",
       "      <td>7</td>\n",
       "    </tr>\n",
       "    <tr>\n",
       "      <th>E40000003</th>\n",
       "      <td>5</td>\n",
       "    </tr>\n",
       "  </tbody>\n",
       "</table>\n",
       "</div>"
      ],
      "text/plain": [
       "                 icb_ons_code\n",
       "region_ons_code              \n",
       "E40000012                   4\n",
       "E40000010                   3\n",
       "E40000011                  11\n",
       "E40000007                   6\n",
       "E40000005                   6\n",
       "E40000006                   7\n",
       "E40000003                   5"
      ]
     },
     "metadata": {},
     "output_type": "display_data"
    }
   ],
   "source": [
    "# Variable creation\n",
    "total_patients_region = pd.DataFrame(total_patients_region)\n",
    "display(total_patients_region)\n",
    "\n",
    "count_sub_region = pd.DataFrame(count_sub_region)\n",
    "display(count_sub_region)\n",
    "\n",
    "count_icb_region = pd.DataFrame(count_icb_region)\n",
    "display(count_icb_region)\n",
    "\n",
    "number_patients_region = pd.DataFrame(number_patients_region)"
   ]
  },
  {
   "cell_type": "code",
   "execution_count": 79,
   "metadata": {},
   "outputs": [
    {
     "data": {
      "text/html": [
       "<div>\n",
       "<style scoped>\n",
       "    .dataframe tbody tr th:only-of-type {\n",
       "        vertical-align: middle;\n",
       "    }\n",
       "\n",
       "    .dataframe tbody tr th {\n",
       "        vertical-align: top;\n",
       "    }\n",
       "\n",
       "    .dataframe thead th {\n",
       "        text-align: right;\n",
       "    }\n",
       "</style>\n",
       "<table border=\"1\" class=\"dataframe\">\n",
       "  <thead>\n",
       "    <tr style=\"text-align: right;\">\n",
       "      <th></th>\n",
       "      <th>number_of_icb</th>\n",
       "      <th>number_of_sub</th>\n",
       "      <th>number_of_patients</th>\n",
       "      <th>total_patients</th>\n",
       "    </tr>\n",
       "    <tr>\n",
       "      <th>region_ons_code</th>\n",
       "      <th></th>\n",
       "      <th></th>\n",
       "      <th></th>\n",
       "      <th></th>\n",
       "    </tr>\n",
       "  </thead>\n",
       "  <tbody>\n",
       "    <tr>\n",
       "      <th>E40000011</th>\n",
       "      <td>11</td>\n",
       "      <td>19</td>\n",
       "      <td>25015</td>\n",
       "      <td>32574555</td>\n",
       "    </tr>\n",
       "    <tr>\n",
       "      <th>E40000012</th>\n",
       "      <td>4</td>\n",
       "      <td>23</td>\n",
       "      <td>29063</td>\n",
       "      <td>27425610</td>\n",
       "    </tr>\n",
       "    <tr>\n",
       "      <th>E40000005</th>\n",
       "      <td>6</td>\n",
       "      <td>11</td>\n",
       "      <td>15130</td>\n",
       "      <td>25577953</td>\n",
       "    </tr>\n",
       "    <tr>\n",
       "      <th>E40000003</th>\n",
       "      <td>5</td>\n",
       "      <td>5</td>\n",
       "      <td>7120</td>\n",
       "      <td>24488519</td>\n",
       "    </tr>\n",
       "    <tr>\n",
       "      <th>E40000010</th>\n",
       "      <td>3</td>\n",
       "      <td>27</td>\n",
       "      <td>33112</td>\n",
       "      <td>19880924</td>\n",
       "    </tr>\n",
       "    <tr>\n",
       "      <th>E40000007</th>\n",
       "      <td>6</td>\n",
       "      <td>14</td>\n",
       "      <td>18888</td>\n",
       "      <td>19546694</td>\n",
       "    </tr>\n",
       "    <tr>\n",
       "      <th>E40000006</th>\n",
       "      <td>7</td>\n",
       "      <td>7</td>\n",
       "      <td>9465</td>\n",
       "      <td>18486437</td>\n",
       "    </tr>\n",
       "  </tbody>\n",
       "</table>\n",
       "</div>"
      ],
      "text/plain": [
       "                 number_of_icb  number_of_sub  number_of_patients  \\\n",
       "region_ons_code                                                     \n",
       "E40000011                   11             19               25015   \n",
       "E40000012                    4             23               29063   \n",
       "E40000005                    6             11               15130   \n",
       "E40000003                    5              5                7120   \n",
       "E40000010                    3             27               33112   \n",
       "E40000007                    6             14               18888   \n",
       "E40000006                    7              7                9465   \n",
       "\n",
       "                 total_patients  \n",
       "region_ons_code                  \n",
       "E40000011              32574555  \n",
       "E40000012              27425610  \n",
       "E40000005              25577953  \n",
       "E40000003              24488519  \n",
       "E40000010              19880924  \n",
       "E40000007              19546694  \n",
       "E40000006              18486437  "
      ]
     },
     "execution_count": 79,
     "metadata": {},
     "output_type": "execute_result"
    }
   ],
   "source": [
    "# Summary table: network structure\n",
    "table = pd.merge(count_icb_region, count_sub_region, left_index=True, right_index=True)\n",
    "table = pd.merge(table, number_patients_region, left_index=True, right_index=True)\n",
    "table = pd.merge(table, total_patients_region, left_index=True, right_index=True)\n",
    "table = table.rename(\n",
    "    columns={\n",
    "        \"icb_ons_code\": \"number_of_icb\",\n",
    "        \"sub_icb_location_ons_code\": \"number_of_sub\",\n",
    "        \"count\": \"number_of_patients\",\n",
    "        \"count_of_appointments\": \"total_patients\",\n",
    "    }\n",
    ")\n",
    "table.sort_values(by=\"total_patients\", ascending=False)"
   ]
  },
  {
   "cell_type": "markdown",
   "metadata": {},
   "source": [
    "Insights:\n",
    "- number of patients represents count in other words observation and in nc that number can represent 1 to 50 at any given point, so it is incorrect title\n",
    "- As shown above the it is not always true, since E10 contains less total_patients than E12 even though E10 count is greater than E12 \n"
   ]
  },
  {
   "cell_type": "code",
   "execution_count": 95,
   "metadata": {},
   "outputs": [
    {
     "data": {
      "text/plain": [
       "<Axes: xlabel='region_ons_code'>"
      ]
     },
     "execution_count": 95,
     "metadata": {},
     "output_type": "execute_result"
    },
    {
     "data": {
      "image/png": "[encoded data removed]",
      "text/plain": [
       "<Figure size 640x480 with 1 Axes>"
      ]
     },
     "metadata": {},
     "output_type": "display_data"
    }
   ],
   "source": [
    "# Assign variable and reset index\n",
    "table2 = table.reset_index()\n",
    "# table2.plot(kind='bar', x='region_ons_code')\n",
    "\n",
    "# Plot barchart descending region by largest number of appointments\n",
    "table2.sort_values(by=\"total_patients\", ascending=False).plot(\n",
    "    kind=\"bar\", y=\"total_patients\", x=\"region_ons_code\"\n",
    ")"
   ]
  },
  {
   "cell_type": "code",
   "execution_count": 94,
   "metadata": {},
   "outputs": [
    {
     "data": {
      "text/html": [
       "<div>\n",
       "<style scoped>\n",
       "    .dataframe tbody tr th:only-of-type {\n",
       "        vertical-align: middle;\n",
       "    }\n",
       "\n",
       "    .dataframe tbody tr th {\n",
       "        vertical-align: top;\n",
       "    }\n",
       "\n",
       "    .dataframe thead th {\n",
       "        text-align: right;\n",
       "    }\n",
       "</style>\n",
       "<table border=\"1\" class=\"dataframe\">\n",
       "  <thead>\n",
       "    <tr style=\"text-align: right;\">\n",
       "      <th></th>\n",
       "      <th>number_of_sub</th>\n",
       "      <th>number_of_patients</th>\n",
       "    </tr>\n",
       "  </thead>\n",
       "  <tbody>\n",
       "    <tr>\n",
       "      <th>number_of_sub</th>\n",
       "      <td>1.000000</td>\n",
       "      <td>0.998286</td>\n",
       "    </tr>\n",
       "    <tr>\n",
       "      <th>number_of_patients</th>\n",
       "      <td>0.998286</td>\n",
       "      <td>1.000000</td>\n",
       "    </tr>\n",
       "  </tbody>\n",
       "</table>\n",
       "</div>"
      ],
      "text/plain": [
       "                    number_of_sub  number_of_patients\n",
       "number_of_sub            1.000000            0.998286\n",
       "number_of_patients       0.998286            1.000000"
      ]
     },
     "metadata": {},
     "output_type": "display_data"
    },
    {
     "name": "stdout",
     "output_type": "stream",
     "text": [
      "High positive correlation between number of sub and number of patients - means the more sub locations you have the greater the number of patients you can see\n"
     ]
    },
    {
     "data": {
      "image/png": "[encoded data removed]",
      "text/plain": [
       "<Figure size 640x480 with 1 Axes>"
      ]
     },
     "metadata": {},
     "output_type": "display_data"
    }
   ],
   "source": [
    "# Visualization: regline\n",
    "ax = sns.regplot(data=table, x=\"number_of_sub\", y=\"number_of_patients\")\n",
    "\n",
    "# Labels\n",
    "ax.set_ylabel(\"Number of Patients\")\n",
    "ax.set_xlabel(\"Number of Sub Locations\")\n",
    "ax.set_title(\"Trend line between Number of Patients vs. Number of Sub Locations\")\n",
    "\n",
    "# View correlation table\n",
    "display(table[[\"number_of_sub\", \"number_of_patients\"]].corr(method=\"pearson\"))\n",
    "\n",
    "# Context\n",
    "print(\n",
    "    f\"High positive correlation between number of sub and number of patients - means the more sub locations you have the greater the number of patients you can see\"\n",
    ")"
   ]
  },
  {
   "cell_type": "markdown",
   "metadata": {},
   "source": [
    "Insight: \n",
    "- high positive correlation between number of sub and number of patients, means the more sub locations you have the greater the number of patients you can see"
   ]
  },
  {
   "cell_type": "markdown",
   "metadata": {
    "jp-MarkdownHeadingCollapsed": true
   },
   "source": [
    "### 3.3 Determine Adequacy - Ar\n",
    "Determine if trend is positive or negative in appointments\n",
    "    - insights:\n",
    "        - positive trend means increase in average and total number of appointments\n",
    "        \n",
    "Determined by average used as reference line - apply metric\n",
    "    - insights:\n",
    "        - average of ar is used as metric & reference line to determine adequate\n",
    "        - clear from trendline projection its slowly increasing \n",
    "\n",
    "Conclusion: Need more staff and resources since the capacity in the last 11 months is flunctuating at consolidation point as shown by linegraph         "
   ]
  },
  {
   "cell_type": "code",
   "execution_count": 87,
   "metadata": {},
   "outputs": [
    {
     "data": {
      "text/plain": [
       "<StringArray>\n",
       "['2021-08', '2021-09', '2021-10', '2021-11', '2021-12', '2022-01', '2022-02',\n",
       " '2022-03', '2022-04', '2022-05', '2022-06']\n",
       "Length: 11, dtype: string"
      ]
     },
     "metadata": {},
     "output_type": "display_data"
    },
    {
     "data": {
      "text/plain": [
       "11"
      ]
     },
     "metadata": {},
     "output_type": "display_data"
    },
    {
     "data": {
      "text/plain": [
       "<StringArray>\n",
       "['2020-01', '2020-02', '2020-03', '2020-04', '2020-05', '2020-06', '2020-07',\n",
       " '2020-08', '2020-09', '2020-10', '2020-11', '2020-12', '2021-01', '2021-02',\n",
       " '2021-03', '2021-04', '2021-05', '2021-06', '2021-07', '2021-08', '2021-09',\n",
       " '2021-10', '2021-11', '2021-12', '2022-01', '2022-02', '2022-03', '2022-04',\n",
       " '2022-05', '2022-06']\n",
       "Length: 30, dtype: string"
      ]
     },
     "metadata": {},
     "output_type": "display_data"
    },
    {
     "data": {
      "text/plain": [
       "30"
      ]
     },
     "metadata": {},
     "output_type": "display_data"
    }
   ],
   "source": [
    "# NC appointment month\n",
    "display(nc_c[\"appointment_month\"].unique())\n",
    "display(nc_c[\"appointment_month\"].nunique())\n",
    "\n",
    "# AR appointment month\n",
    "display(ar_c[\"appointment_month\"].unique())\n",
    "display(ar_c[\"appointment_month\"].nunique())"
   ]
  },
  {
   "cell_type": "markdown",
   "metadata": {
    "jp-MarkdownHeadingCollapsed": true
   },
   "source": [
    "#### Trend visualization: Time series"
   ]
  },
  {
   "cell_type": "code",
   "execution_count": 88,
   "metadata": {},
   "outputs": [],
   "source": [
    "# Create back up of ar\n",
    "ar_c = ar.copy()"
   ]
  },
  {
   "cell_type": "markdown",
   "metadata": {
    "jp-MarkdownHeadingCollapsed": true
   },
   "source": [
    "#### Average Monthly Appointments (metric to determine adequate capacity)"
   ]
  },
  {
   "cell_type": "code",
   "execution_count": 90,
   "metadata": {},
   "outputs": [
    {
     "data": {
      "text/plain": [
       "Text(0.5, 1.0, 'Average Number of Patients per Month')"
      ]
     },
     "execution_count": 90,
     "metadata": {},
     "output_type": "execute_result"
    },
    {
     "data": {
      "image/png": "[encoded data removed]",
      "text/plain": [
       "<Figure size 640x480 with 1 Axes>"
      ]
     },
     "metadata": {},
     "output_type": "display_data"
    }
   ],
   "source": [
    "# Average patient appointments per month\n",
    "# Data in pivot table\n",
    "overall_patients_trend_avg = pd.pivot_table(\n",
    "    data=ar_c, index=\"appointment_month\", values=\"count_of_appointments\", aggfunc=\"mean\"\n",
    ").reset_index()\n",
    "\n",
    "# Plot\n",
    "ax = sns.lineplot(\n",
    "    data=overall_patients_trend_avg, x=\"appointment_month\", y=\"count_of_appointments\"\n",
    ")\n",
    "ax.tick_params(axis=\"x\", rotation=90)\n",
    "ax.axhline(ar_c[\"count_of_appointments\"].mean())\n",
    "\n",
    "# Labels\n",
    "ax.set_ylabel(\"Average Number of Patients\")\n",
    "ax.set_xlabel(\"Appointments (by Month)\")\n",
    "ax.set_title(\"Average Number of Patients per Month\")"
   ]
  },
  {
   "cell_type": "markdown",
   "metadata": {},
   "source": [
    "Insights:\n",
    "- Average of ar is used as metric & reference line to determine adequate\n",
    "- Clear from trendline projection its slowly increasing \n",
    "\n",
    "Conclusion: \n",
    "- Need more staff and resources since the capacity in the last 6 months is flunctuating at consolidation point as shown by linegraph        "
   ]
  },
  {
   "cell_type": "code",
   "execution_count": 64,
   "metadata": {},
   "outputs": [
    {
     "data": {
      "text/plain": [
       "(15, 2)"
      ]
     },
     "metadata": {},
     "output_type": "display_data"
    },
    {
     "data": {
      "text/plain": [
       "(30, 2)"
      ]
     },
     "metadata": {},
     "output_type": "display_data"
    }
   ],
   "source": [
    "display(overall_patients_trend_avg[overall_patients_trend_avg['count_of_appointments'] > ar_c['count_of_appointments'].mean()].shape)\n",
    "display(overall_patients_trend_avg.shape)"
   ]
  },
  {
   "cell_type": "markdown",
   "metadata": {},
   "source": [
    "Insights:\n",
    "- Indicates macro trend is increasing\n",
    "- Average number of appointment indicates split in between\n",
    "- However increase in population is expected therefore reasonable to indicate current structure is at max capacity"
   ]
  },
  {
   "cell_type": "markdown",
   "metadata": {
    "jp-MarkdownHeadingCollapsed": true
   },
   "source": [
    "#### Total number of patients per month (sum line graph)"
   ]
  },
  {
   "cell_type": "code",
   "execution_count": 91,
   "metadata": {},
   "outputs": [
    {
     "data": {
      "text/plain": [
       "Text(0.5, 1.0, 'Total Patients: Trend')"
      ]
     },
     "execution_count": 91,
     "metadata": {},
     "output_type": "execute_result"
    },
    {
     "data": {
      "image/png": "[encoded data removed]",
      "text/plain": [
       "<Figure size 640x480 with 1 Axes>"
      ]
     },
     "metadata": {},
     "output_type": "display_data"
    }
   ],
   "source": [
    "# ar_lineplot_patients = ar_c.groupby('appointment_month')[['count_of_appointments']].sum().reset_index()\n",
    "ar_lineplot_patients = ar_c.groupby(\"appointment_month\")[\n",
    "    [\"count_of_appointments\"]\n",
    "].sum()\n",
    "\n",
    "# Plot line plot -\n",
    "ax = sns.lineplot(\n",
    "    data=ar_lineplot_patients,\n",
    "    x=\"appointment_month\",\n",
    "    y=\"count_of_appointments\",\n",
    "    legend=\"brief\",\n",
    ")\n",
    "ax.tick_params(axis=\"x\", rotation=90)\n",
    "ax.set_ylabel(\"Total number of patients (per 10 Million)\")\n",
    "ax.set_xlabel(\"Appointments (by Month)\")\n",
    "ax.set_title(\"Total Patients: Trend\")"
   ]
  },
  {
   "cell_type": "markdown",
   "metadata": {
    "jp-MarkdownHeadingCollapsed": true
   },
   "source": [
    "#### Staff workload"
   ]
  },
  {
   "cell_type": "code",
   "execution_count": 92,
   "metadata": {},
   "outputs": [
    {
     "data": {
      "text/plain": [
       "Text(0.5, 0, 'Appointments (by Months)')"
      ]
     },
     "execution_count": 92,
     "metadata": {},
     "output_type": "execute_result"
    },
    {
     "data": {
      "image/png": "[encoded data removed]",
      "text/plain": [
       "<Figure size 640x480 with 1 Axes>"
      ]
     },
     "metadata": {},
     "output_type": "display_data"
    }
   ],
   "source": [
    "# Staff workload - monthly sum of patients\n",
    "ar_lineplot_staff = (\n",
    "    ar_c.groupby([\"appointment_month\", \"hcp_type\"])[\"count_of_appointments\"]\n",
    "    .sum()\n",
    "    .reset_index(level=1)\n",
    ")\n",
    "\n",
    "# Create pivot table and assign variable\n",
    "ar_piv_staff = pd.pivot_table(\n",
    "    ar_c,\n",
    "    columns=\"hcp_type\",\n",
    "    index=\"appointment_month\",\n",
    "    values=\"count_of_appointments\",\n",
    "    aggfunc=\"sum\",\n",
    ")\n",
    "\n",
    "# Plot lineplot\n",
    "ax = sns.lineplot(data=ar_piv_staff, legend=\"brief\")\n",
    "\n",
    "# Rotate x tick \n",
    "ax.tick_params(axis=\"x\", rotation=90)\n",
    "\n",
    "# Labels\n",
    "ax.set_title(\"Staff Type and Total Appointments per month\")\n",
    "ax.set_ylabel(\"Total Patients (Per 10 Million)\")\n",
    "ax.set_xlabel(\"Appointments (by Months)\")"
   ]
  },
  {
   "cell_type": "markdown",
   "metadata": {},
   "source": [
    "Insight:\n",
    "- staff following same trend as Average patient appointments per month line graph"
   ]
  },
  {
   "cell_type": "markdown",
   "metadata": {},
   "source": []
  }
 ],
 "metadata": {
  "kernelspec": {
   "display_name": "Python 3 (ipykernel)",
   "language": "python",
   "name": "python3"
  },
  "language_info": {
   "codemirror_mode": {
    "name": "ipython",
    "version": 3
   },
   "file_extension": ".py",
   "mimetype": "text/x-python",
   "name": "python",
   "nbconvert_exporter": "python",
   "pygments_lexer": "ipython3",
   "version": "3.12.2"
  }
 },
 "nbformat": 4,
 "nbformat_minor": 4
}
