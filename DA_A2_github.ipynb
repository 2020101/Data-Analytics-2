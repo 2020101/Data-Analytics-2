{
 "cells": [
  {
   "cell_type": "markdown",
   "metadata": {},
   "source": [
    "## Assignment: two main questions\n",
    "    1. Has there been adequate staff and capacity in the network?\n",
    "    2. What was the actual utilization of resources?\n",
    "\n",
    "Desired outcome is to determine if additional resources are required based on current resources."
   ]
  },
  {
   "cell_type": "markdown",
   "metadata": {},
   "source": [
    "\n",
    "### Assumptions:\n",
    "\n",
    "- Each appointment is done by unique patient, no recurring patiences\n",
    "- Maximum capacity is average of appointments over 30 months\n",
    "- Unknown records represent benchmark for centralization of patient information via the Health Care Network\n",
    "\n",
    "### Risks:\n",
    "\n",
    "- By assuming each appointment is a unique patient, the total number of patients within the area is multiplied \n",
    "- Alternative to more accurate patients information, is that if health data were to made public and would have irreversable damages to people quality of life - highly sensitive information even properly steps to masks identity of patients can result \n",
    "\n",
    "### Challenges & Solutions:\n",
    "\n",
    " 1. Challenge: time element not all data sets have the duration of time recorder\n",
    "    - Solution: Choose to focus on largest duration to identify long-term trends of macro factors.\n",
    "    > **IMPORTANT**: \n",
    "    > - AR used for macro trend (30 months recorded appointment data) tells us if appointments are increasing and benchmark to evaluate if staff and capacity are adequate\n",
    "    >\n",
    "    > - NC used to determined current utilization and create profile on common patient; what the most used service and most visited consulation location\n",
    "\n"
   ]
  },
  {
   "cell_type": "markdown",
   "metadata": {},
   "source": [
    "### Strategy and Plan:\n",
    "\n",
    "Answer the usage of resources\n",
    "- Trend can use time series analysis to identify patient usage patterns ()\n",
    "    1. Seasonal monthly\n",
    "    2. Weekly \n",
    "\n",
    "Answering the adequate staff and capacity within a network? Talking about complete network\n",
    "- "
   ]
  },
  {
   "cell_type": "markdown",
   "metadata": {},
   "source": [
    "# 1. Setup"
   ]
  },
  {
   "cell_type": "code",
   "execution_count": 1,
   "metadata": {},
   "outputs": [],
   "source": [
    "# Import modules/libraries needed\n",
    "import pandas as pd\n",
    "import numpy as np\n",
    "import seaborn as sns\n",
    "import matplotlib.pyplot as plt\n",
    "%matplotlib inline\n"
   ]
  },
  {
   "cell_type": "code",
   "execution_count": 2,
   "metadata": {},
   "outputs": [],
   "source": [
    "# Absolute path per data source\n",
    "ad_path = '/Volumes/Macintosh HD - Data/tmp/LSE_DA201_Assignment_files/actual_duration.csv'\n",
    "ar_path = '/Volumes/Macintosh HD - Data/tmp/LSE_DA201_Assignment_files/appointments_regional.csv'\n",
    "nc_path = '/Volumes/Macintosh HD - Data/tmp/LSE_DA201_Assignment_files/national_categories.xlsx'"
   ]
  },
  {
   "cell_type": "code",
   "execution_count": 3,
   "metadata": {},
   "outputs": [],
   "source": [
    "# Importation of data source csv files\n",
    "ad = pd.read_csv(ad_path)\n",
    "ar = pd.read_csv(ar_path)\n",
    "# Importation of data source xlsx file\n",
    "nc = pd.read_excel(nc_path)"
   ]
  },
  {
   "cell_type": "code",
   "execution_count": 7,
   "metadata": {},
   "outputs": [
    {
     "name": "stdout",
     "output_type": "stream",
     "text": [
      "<class 'pandas.core.frame.DataFrame'>\n",
      "RangeIndex: 137793 entries, 0 to 137792\n",
      "Data columns (total 8 columns):\n",
      " #   Column                     Non-Null Count   Dtype \n",
      "---  ------                     --------------   ----- \n",
      " 0   sub_icb_location_code      137793 non-null  object\n",
      " 1   sub_icb_location_ons_code  137793 non-null  object\n",
      " 2   sub_icb_location_name      137793 non-null  object\n",
      " 3   icb_ons_code               137793 non-null  object\n",
      " 4   region_ons_code            137793 non-null  object\n",
      " 5   appointment_date           137793 non-null  object\n",
      " 6   actual_duration            137793 non-null  object\n",
      " 7   count_of_appointments      137793 non-null  int64 \n",
      "dtypes: int64(1), object(7)\n",
      "memory usage: 8.4+ MB\n",
      "None\n"
     ]
    }
   ],
   "source": [
    "# Verification \n",
    "print(ad.info())"
   ]
  },
  {
   "cell_type": "code",
   "execution_count": 6,
   "metadata": {},
   "outputs": [
    {
     "name": "stdout",
     "output_type": "stream",
     "text": [
      "<class 'pandas.core.frame.DataFrame'>\n",
      "RangeIndex: 596821 entries, 0 to 596820\n",
      "Data columns (total 7 columns):\n",
      " #   Column                             Non-Null Count   Dtype \n",
      "---  ------                             --------------   ----- \n",
      " 0   icb_ons_code                       596821 non-null  object\n",
      " 1   appointment_month                  596821 non-null  object\n",
      " 2   appointment_status                 596821 non-null  object\n",
      " 3   hcp_type                           596821 non-null  object\n",
      " 4   appointment_mode                   596821 non-null  object\n",
      " 5   time_between_book_and_appointment  596821 non-null  object\n",
      " 6   count_of_appointments              596821 non-null  int64 \n",
      "dtypes: int64(1), object(6)\n",
      "memory usage: 31.9+ MB\n",
      "None\n"
     ]
    }
   ],
   "source": [
    "# Verification \n",
    "print(ar.info()) "
   ]
  },
  {
   "cell_type": "code",
   "execution_count": 5,
   "metadata": {},
   "outputs": [
    {
     "name": "stdout",
     "output_type": "stream",
     "text": [
      "<class 'pandas.core.frame.DataFrame'>\n",
      "RangeIndex: 817394 entries, 0 to 817393\n",
      "Data columns (total 8 columns):\n",
      " #   Column                 Non-Null Count   Dtype         \n",
      "---  ------                 --------------   -----         \n",
      " 0   appointment_date       817394 non-null  datetime64[ns]\n",
      " 1   icb_ons_code           817394 non-null  object        \n",
      " 2   sub_icb_location_name  817394 non-null  object        \n",
      " 3   service_setting        817394 non-null  object        \n",
      " 4   context_type           817394 non-null  object        \n",
      " 5   national_category      817394 non-null  object        \n",
      " 6   count_of_appointments  817394 non-null  int64         \n",
      " 7   appointment_month      817394 non-null  object        \n",
      "dtypes: datetime64[ns](1), int64(1), object(6)\n",
      "memory usage: 49.9+ MB\n",
      "None\n"
     ]
    }
   ],
   "source": [
    "# Verification \n",
    "print(nc.info())"
   ]
  },
  {
   "cell_type": "markdown",
   "metadata": {},
   "source": [
    "Insights:\n",
    "\n",
    "1. Differences: \n",
    "    - Number of observations in each data set\n",
    "    - NC deals with what types of health services are available for patients\n",
    "    - AR deals with the quality of service when patient need it\n",
    "    - AD deals with network structure and the volume of appointments they handle\n",
    "    \n",
    "2. Similarities \n",
    "    - No null values any of data sets\n",
    "    - Same number of observation throughout the columns in each data set\n",
    "    - All data set contain the same numeric column count_of_appointments"
   ]
  },
  {
   "cell_type": "markdown",
   "metadata": {},
   "source": [
    "## Data Cleaning workflow five steps:\n",
    "1. Data exploration\n",
    "2. Data cleaning\n",
    "3. Missing data \n",
    "    - Options:\n",
    "        a. removal of data\n",
    "        b. imputation of data (most common)\n",
    "4. Duplicates\n",
    "5. Outliers\n",
    "\n",
    "> Purpose is to strengthen Data Quality:\n",
    ">1. Accuracy\n",
    ">2. Relevance\n",
    ">3. Consistency\n",
    ">4. Completeness\n",
    ">5. Uniformity"
   ]
  },
  {
   "cell_type": "code",
   "execution_count": null,
   "metadata": {},
   "outputs": [],
   "source": []
  },
  {
   "cell_type": "markdown",
   "metadata": {},
   "source": [
    "### Mapping the network - what regions and what icbs handles the most patients\n",
    "\n"
   ]
  },
  {
   "cell_type": "code",
   "execution_count": null,
   "metadata": {},
   "outputs": [],
   "source": []
  },
  {
   "cell_type": "code",
   "execution_count": null,
   "metadata": {},
   "outputs": [],
   "source": []
  }
 ],
 "metadata": {
  "kernelspec": {
   "display_name": "lseC4",
   "language": "python",
   "name": "python3"
  },
  "language_info": {
   "codemirror_mode": {
    "name": "ipython",
    "version": 3
   },
   "file_extension": ".py",
   "mimetype": "text/x-python",
   "name": "python",
   "nbconvert_exporter": "python",
   "pygments_lexer": "ipython3",
   "version": "3.12.2"
  }
 },
 "nbformat": 4,
 "nbformat_minor": 2
}
